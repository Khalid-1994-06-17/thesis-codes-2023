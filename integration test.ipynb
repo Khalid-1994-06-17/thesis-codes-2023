{
 "cells": [
  {
   "cell_type": "code",
   "execution_count": 2,
   "id": "3236606f-604f-41e8-8041-d36a0c03e486",
   "metadata": {},
   "outputs": [],
   "source": [
    "import numpy as np\n",
    "import scipy as sp\n",
    "import sympy as smp\n",
    "\n",
    "import matplotlib.pyplot as plt\n",
    "from scipy.integrate import quad\n",
    "from scipy.integrate import cumulative_trapezoid"
   ]
  },
  {
   "cell_type": "code",
   "execution_count": null,
   "id": "aafd1397-f1b9-4acb-b190-36ae8f45c3bf",
   "metadata": {},
   "outputs": [],
   "source": []
  }
 ],
 "metadata": {
  "kernelspec": {
   "display_name": "Python 3 (ipykernel)",
   "language": "python",
   "name": "python3"
  },
  "language_info": {
   "codemirror_mode": {
    "name": "ipython",
    "version": 3
   },
   "file_extension": ".py",
   "mimetype": "text/x-python",
   "name": "python",
   "nbconvert_exporter": "python",
   "pygments_lexer": "ipython3",
   "version": "3.9.7"
  }
 },
 "nbformat": 4,
 "nbformat_minor": 5
}
