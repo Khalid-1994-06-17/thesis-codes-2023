{
 "cells": [
  {
   "cell_type": "markdown",
   "id": "1a9466f9-afd9-48bd-b110-bcb93f5dc888",
   "metadata": {},
   "source": [
    "[Python For Financial And Algorithmic Trading: ARIMA with Statsmodels](https://youtu.be/cm03ir2Lews)"
   ]
  },
  {
   "cell_type": "code",
   "execution_count": 96,
   "id": "b0cd58e0-923b-4f7a-84b2-53a5f2072d12",
   "metadata": {},
   "outputs": [],
   "source": [
    "import numpy as np\n",
    "import pandas as pd\n",
    "import statsmodels.api as sm\n",
    "from datetime import datetime, timedelta"
   ]
  },
  {
   "cell_type": "code",
   "execution_count": 97,
   "id": "8e569669-a7b7-489a-8cc5-f754d6544e5f",
   "metadata": {},
   "outputs": [],
   "source": [
    "import matplotlib.pyplot as plt\n",
    "%matplotlib inline"
   ]
  },
  {
   "cell_type": "code",
   "execution_count": 98,
   "id": "969ea8bf-6bf4-4231-8247-0b2e90177028",
   "metadata": {},
   "outputs": [
    {
     "name": "stdout",
     "output_type": "stream",
     "text": [
      "Now Time =  11:19:11 AM\n",
      "Date = 10\n",
      "Weekday = Wednesday\n",
      "Month = August\n",
      "Year = 2022\n"
     ]
    }
   ],
   "source": [
    "import datetime\n",
    "\n",
    "x = datetime.datetime.now()\n",
    "print(\"Now Time = \",x.strftime(\"%H:%M:%S %p\"))\n",
    "print(x.strftime(\"Date = %d\"))\n",
    "print(x.strftime(\"Weekday = %A\"))\n",
    "print(x.strftime(\"Month = %B\"))\n",
    "print(x.strftime(\"Year = %Y\"))"
   ]
  },
  {
   "cell_type": "code",
   "execution_count": 99,
   "id": "55ac228f-0abf-4d5a-b50f-a0ea4e0538c6",
   "metadata": {},
   "outputs": [
    {
     "data": {
      "text/html": [
       "<div>\n",
       "<style scoped>\n",
       "    .dataframe tbody tr th:only-of-type {\n",
       "        vertical-align: middle;\n",
       "    }\n",
       "\n",
       "    .dataframe tbody tr th {\n",
       "        vertical-align: top;\n",
       "    }\n",
       "\n",
       "    .dataframe thead th {\n",
       "        text-align: right;\n",
       "    }\n",
       "</style>\n",
       "<table border=\"1\" class=\"dataframe\">\n",
       "  <thead>\n",
       "    <tr style=\"text-align: right;\">\n",
       "      <th></th>\n",
       "      <th>timestamp</th>\n",
       "      <th>kpi_value</th>\n",
       "      <th>request_count</th>\n",
       "      <th>anomaly_label</th>\n",
       "    </tr>\n",
       "  </thead>\n",
       "  <tbody>\n",
       "    <tr>\n",
       "      <th>0</th>\n",
       "      <td>2020-08-14T02:00:00.000+02:00</td>\n",
       "      <td>0.998755</td>\n",
       "      <td>24908</td>\n",
       "      <td>0</td>\n",
       "    </tr>\n",
       "    <tr>\n",
       "      <th>1</th>\n",
       "      <td>2020-08-14T02:01:00.000+02:00</td>\n",
       "      <td>0.997683</td>\n",
       "      <td>25029</td>\n",
       "      <td>0</td>\n",
       "    </tr>\n",
       "    <tr>\n",
       "      <th>2</th>\n",
       "      <td>2020-08-14T02:02:00.000+02:00</td>\n",
       "      <td>0.998341</td>\n",
       "      <td>24115</td>\n",
       "      <td>0</td>\n",
       "    </tr>\n",
       "    <tr>\n",
       "      <th>3</th>\n",
       "      <td>2020-08-14T02:03:00.000+02:00</td>\n",
       "      <td>0.998211</td>\n",
       "      <td>24031</td>\n",
       "      <td>0</td>\n",
       "    </tr>\n",
       "    <tr>\n",
       "      <th>4</th>\n",
       "      <td>2020-08-14T02:04:00.000+02:00</td>\n",
       "      <td>0.998403</td>\n",
       "      <td>23790</td>\n",
       "      <td>0</td>\n",
       "    </tr>\n",
       "    <tr>\n",
       "      <th>...</th>\n",
       "      <td>...</td>\n",
       "      <td>...</td>\n",
       "      <td>...</td>\n",
       "      <td>...</td>\n",
       "    </tr>\n",
       "    <tr>\n",
       "      <th>20154</th>\n",
       "      <td>2020-08-28T01:56:00.000+02:00</td>\n",
       "      <td>0.998149</td>\n",
       "      <td>26467</td>\n",
       "      <td>0</td>\n",
       "    </tr>\n",
       "    <tr>\n",
       "      <th>20155</th>\n",
       "      <td>2020-08-28T01:57:00.000+02:00</td>\n",
       "      <td>0.998340</td>\n",
       "      <td>26502</td>\n",
       "      <td>0</td>\n",
       "    </tr>\n",
       "    <tr>\n",
       "      <th>20156</th>\n",
       "      <td>2020-08-28T01:58:00.000+02:00</td>\n",
       "      <td>0.998364</td>\n",
       "      <td>26887</td>\n",
       "      <td>0</td>\n",
       "    </tr>\n",
       "    <tr>\n",
       "      <th>20157</th>\n",
       "      <td>2020-08-28T01:59:00.000+02:00</td>\n",
       "      <td>0.998428</td>\n",
       "      <td>26712</td>\n",
       "      <td>0</td>\n",
       "    </tr>\n",
       "    <tr>\n",
       "      <th>20158</th>\n",
       "      <td>2020-08-28T02:00:00.000+02:00</td>\n",
       "      <td>0.997407</td>\n",
       "      <td>29694</td>\n",
       "      <td>0</td>\n",
       "    </tr>\n",
       "  </tbody>\n",
       "</table>\n",
       "<p>20159 rows × 4 columns</p>\n",
       "</div>"
      ],
      "text/plain": [
       "                           timestamp  kpi_value  request_count  anomaly_label\n",
       "0      2020-08-14T02:00:00.000+02:00   0.998755          24908              0\n",
       "1      2020-08-14T02:01:00.000+02:00   0.997683          25029              0\n",
       "2      2020-08-14T02:02:00.000+02:00   0.998341          24115              0\n",
       "3      2020-08-14T02:03:00.000+02:00   0.998211          24031              0\n",
       "4      2020-08-14T02:04:00.000+02:00   0.998403          23790              0\n",
       "...                              ...        ...            ...            ...\n",
       "20154  2020-08-28T01:56:00.000+02:00   0.998149          26467              0\n",
       "20155  2020-08-28T01:57:00.000+02:00   0.998340          26502              0\n",
       "20156  2020-08-28T01:58:00.000+02:00   0.998364          26887              0\n",
       "20157  2020-08-28T01:59:00.000+02:00   0.998428          26712              0\n",
       "20158  2020-08-28T02:00:00.000+02:00   0.997407          29694              0\n",
       "\n",
       "[20159 rows x 4 columns]"
      ]
     },
     "execution_count": 99,
     "metadata": {},
     "output_type": "execute_result"
    }
   ],
   "source": [
    "df = pd.read_csv('training_100.csv')\n",
    "df"
   ]
  },
  {
   "cell_type": "code",
   "execution_count": 100,
   "id": "85201226-f11a-4481-963e-958843db1e34",
   "metadata": {},
   "outputs": [
    {
     "data": {
      "text/html": [
       "<div>\n",
       "<style scoped>\n",
       "    .dataframe tbody tr th:only-of-type {\n",
       "        vertical-align: middle;\n",
       "    }\n",
       "\n",
       "    .dataframe tbody tr th {\n",
       "        vertical-align: top;\n",
       "    }\n",
       "\n",
       "    .dataframe thead th {\n",
       "        text-align: right;\n",
       "    }\n",
       "</style>\n",
       "<table border=\"1\" class=\"dataframe\">\n",
       "  <thead>\n",
       "    <tr style=\"text-align: right;\">\n",
       "      <th></th>\n",
       "      <th>timestamp</th>\n",
       "      <th>kpi_value</th>\n",
       "      <th>request_count</th>\n",
       "      <th>anomaly_label</th>\n",
       "    </tr>\n",
       "  </thead>\n",
       "  <tbody>\n",
       "    <tr>\n",
       "      <th>0</th>\n",
       "      <td>2020-08-14 02:00:00+02:00</td>\n",
       "      <td>0.998755</td>\n",
       "      <td>24908</td>\n",
       "      <td>0</td>\n",
       "    </tr>\n",
       "    <tr>\n",
       "      <th>1</th>\n",
       "      <td>2020-08-14 02:01:00+02:00</td>\n",
       "      <td>0.997683</td>\n",
       "      <td>25029</td>\n",
       "      <td>0</td>\n",
       "    </tr>\n",
       "    <tr>\n",
       "      <th>2</th>\n",
       "      <td>2020-08-14 02:02:00+02:00</td>\n",
       "      <td>0.998341</td>\n",
       "      <td>24115</td>\n",
       "      <td>0</td>\n",
       "    </tr>\n",
       "    <tr>\n",
       "      <th>3</th>\n",
       "      <td>2020-08-14 02:03:00+02:00</td>\n",
       "      <td>0.998211</td>\n",
       "      <td>24031</td>\n",
       "      <td>0</td>\n",
       "    </tr>\n",
       "    <tr>\n",
       "      <th>4</th>\n",
       "      <td>2020-08-14 02:04:00+02:00</td>\n",
       "      <td>0.998403</td>\n",
       "      <td>23790</td>\n",
       "      <td>0</td>\n",
       "    </tr>\n",
       "    <tr>\n",
       "      <th>...</th>\n",
       "      <td>...</td>\n",
       "      <td>...</td>\n",
       "      <td>...</td>\n",
       "      <td>...</td>\n",
       "    </tr>\n",
       "    <tr>\n",
       "      <th>20154</th>\n",
       "      <td>2020-08-28 01:56:00+02:00</td>\n",
       "      <td>0.998149</td>\n",
       "      <td>26467</td>\n",
       "      <td>0</td>\n",
       "    </tr>\n",
       "    <tr>\n",
       "      <th>20155</th>\n",
       "      <td>2020-08-28 01:57:00+02:00</td>\n",
       "      <td>0.998340</td>\n",
       "      <td>26502</td>\n",
       "      <td>0</td>\n",
       "    </tr>\n",
       "    <tr>\n",
       "      <th>20156</th>\n",
       "      <td>2020-08-28 01:58:00+02:00</td>\n",
       "      <td>0.998364</td>\n",
       "      <td>26887</td>\n",
       "      <td>0</td>\n",
       "    </tr>\n",
       "    <tr>\n",
       "      <th>20157</th>\n",
       "      <td>2020-08-28 01:59:00+02:00</td>\n",
       "      <td>0.998428</td>\n",
       "      <td>26712</td>\n",
       "      <td>0</td>\n",
       "    </tr>\n",
       "    <tr>\n",
       "      <th>20158</th>\n",
       "      <td>2020-08-28 02:00:00+02:00</td>\n",
       "      <td>0.997407</td>\n",
       "      <td>29694</td>\n",
       "      <td>0</td>\n",
       "    </tr>\n",
       "  </tbody>\n",
       "</table>\n",
       "<p>20159 rows × 4 columns</p>\n",
       "</div>"
      ],
      "text/plain": [
       "                      timestamp  kpi_value  request_count  anomaly_label\n",
       "0     2020-08-14 02:00:00+02:00   0.998755          24908              0\n",
       "1     2020-08-14 02:01:00+02:00   0.997683          25029              0\n",
       "2     2020-08-14 02:02:00+02:00   0.998341          24115              0\n",
       "3     2020-08-14 02:03:00+02:00   0.998211          24031              0\n",
       "4     2020-08-14 02:04:00+02:00   0.998403          23790              0\n",
       "...                         ...        ...            ...            ...\n",
       "20154 2020-08-28 01:56:00+02:00   0.998149          26467              0\n",
       "20155 2020-08-28 01:57:00+02:00   0.998340          26502              0\n",
       "20156 2020-08-28 01:58:00+02:00   0.998364          26887              0\n",
       "20157 2020-08-28 01:59:00+02:00   0.998428          26712              0\n",
       "20158 2020-08-28 02:00:00+02:00   0.997407          29694              0\n",
       "\n",
       "[20159 rows x 4 columns]"
      ]
     },
     "execution_count": 100,
     "metadata": {},
     "output_type": "execute_result"
    }
   ],
   "source": [
    "df['timestamp']=pd.to_datetime(df['timestamp'])\n",
    "df"
   ]
  },
  {
   "cell_type": "code",
   "execution_count": 101,
   "id": "7bae42a9-bd50-47f6-92f4-419af15a2927",
   "metadata": {},
   "outputs": [],
   "source": [
    "data = df[['timestamp', 'kpi_value']]"
   ]
  },
  {
   "cell_type": "code",
   "execution_count": 102,
   "id": "b95aead8-9a7c-4ed9-810e-0c4a6bdb9aac",
   "metadata": {},
   "outputs": [
    {
     "data": {
      "text/html": [
       "<div>\n",
       "<style scoped>\n",
       "    .dataframe tbody tr th:only-of-type {\n",
       "        vertical-align: middle;\n",
       "    }\n",
       "\n",
       "    .dataframe tbody tr th {\n",
       "        vertical-align: top;\n",
       "    }\n",
       "\n",
       "    .dataframe thead th {\n",
       "        text-align: right;\n",
       "    }\n",
       "</style>\n",
       "<table border=\"1\" class=\"dataframe\">\n",
       "  <thead>\n",
       "    <tr style=\"text-align: right;\">\n",
       "      <th></th>\n",
       "      <th>timestamp</th>\n",
       "      <th>kpi_value</th>\n",
       "    </tr>\n",
       "  </thead>\n",
       "  <tbody>\n",
       "    <tr>\n",
       "      <th>0</th>\n",
       "      <td>2020-08-14 02:00:00+02:00</td>\n",
       "      <td>0.998755</td>\n",
       "    </tr>\n",
       "    <tr>\n",
       "      <th>1</th>\n",
       "      <td>2020-08-14 02:01:00+02:00</td>\n",
       "      <td>0.997683</td>\n",
       "    </tr>\n",
       "    <tr>\n",
       "      <th>2</th>\n",
       "      <td>2020-08-14 02:02:00+02:00</td>\n",
       "      <td>0.998341</td>\n",
       "    </tr>\n",
       "    <tr>\n",
       "      <th>3</th>\n",
       "      <td>2020-08-14 02:03:00+02:00</td>\n",
       "      <td>0.998211</td>\n",
       "    </tr>\n",
       "    <tr>\n",
       "      <th>4</th>\n",
       "      <td>2020-08-14 02:04:00+02:00</td>\n",
       "      <td>0.998403</td>\n",
       "    </tr>\n",
       "  </tbody>\n",
       "</table>\n",
       "</div>"
      ],
      "text/plain": [
       "                  timestamp  kpi_value\n",
       "0 2020-08-14 02:00:00+02:00   0.998755\n",
       "1 2020-08-14 02:01:00+02:00   0.997683\n",
       "2 2020-08-14 02:02:00+02:00   0.998341\n",
       "3 2020-08-14 02:03:00+02:00   0.998211\n",
       "4 2020-08-14 02:04:00+02:00   0.998403"
      ]
     },
     "execution_count": 102,
     "metadata": {},
     "output_type": "execute_result"
    }
   ],
   "source": [
    "data.head()"
   ]
  },
  {
   "cell_type": "code",
   "execution_count": 103,
   "id": "76f76fb8-b8f1-42c0-a712-8029b213852b",
   "metadata": {},
   "outputs": [
    {
     "data": {
      "text/html": [
       "<div>\n",
       "<style scoped>\n",
       "    .dataframe tbody tr th:only-of-type {\n",
       "        vertical-align: middle;\n",
       "    }\n",
       "\n",
       "    .dataframe tbody tr th {\n",
       "        vertical-align: top;\n",
       "    }\n",
       "\n",
       "    .dataframe thead th {\n",
       "        text-align: right;\n",
       "    }\n",
       "</style>\n",
       "<table border=\"1\" class=\"dataframe\">\n",
       "  <thead>\n",
       "    <tr style=\"text-align: right;\">\n",
       "      <th></th>\n",
       "      <th>timestamp</th>\n",
       "      <th>kpi_value</th>\n",
       "    </tr>\n",
       "  </thead>\n",
       "  <tbody>\n",
       "    <tr>\n",
       "      <th>20154</th>\n",
       "      <td>2020-08-28 01:56:00+02:00</td>\n",
       "      <td>0.998149</td>\n",
       "    </tr>\n",
       "    <tr>\n",
       "      <th>20155</th>\n",
       "      <td>2020-08-28 01:57:00+02:00</td>\n",
       "      <td>0.998340</td>\n",
       "    </tr>\n",
       "    <tr>\n",
       "      <th>20156</th>\n",
       "      <td>2020-08-28 01:58:00+02:00</td>\n",
       "      <td>0.998364</td>\n",
       "    </tr>\n",
       "    <tr>\n",
       "      <th>20157</th>\n",
       "      <td>2020-08-28 01:59:00+02:00</td>\n",
       "      <td>0.998428</td>\n",
       "    </tr>\n",
       "    <tr>\n",
       "      <th>20158</th>\n",
       "      <td>2020-08-28 02:00:00+02:00</td>\n",
       "      <td>0.997407</td>\n",
       "    </tr>\n",
       "  </tbody>\n",
       "</table>\n",
       "</div>"
      ],
      "text/plain": [
       "                      timestamp  kpi_value\n",
       "20154 2020-08-28 01:56:00+02:00   0.998149\n",
       "20155 2020-08-28 01:57:00+02:00   0.998340\n",
       "20156 2020-08-28 01:58:00+02:00   0.998364\n",
       "20157 2020-08-28 01:59:00+02:00   0.998428\n",
       "20158 2020-08-28 02:00:00+02:00   0.997407"
      ]
     },
     "execution_count": 103,
     "metadata": {},
     "output_type": "execute_result"
    }
   ],
   "source": [
    "data.tail()"
   ]
  },
  {
   "cell_type": "code",
   "execution_count": 104,
   "id": "4a5e232b-eb08-4c3a-980f-478676f56254",
   "metadata": {},
   "outputs": [],
   "source": [
    "data.set_index('timestamp',inplace=True)"
   ]
  },
  {
   "cell_type": "code",
   "execution_count": 105,
   "id": "51c210c4-8066-4896-a50c-7a0e7b7edcf1",
   "metadata": {},
   "outputs": [
    {
     "data": {
      "text/html": [
       "<div>\n",
       "<style scoped>\n",
       "    .dataframe tbody tr th:only-of-type {\n",
       "        vertical-align: middle;\n",
       "    }\n",
       "\n",
       "    .dataframe tbody tr th {\n",
       "        vertical-align: top;\n",
       "    }\n",
       "\n",
       "    .dataframe thead th {\n",
       "        text-align: right;\n",
       "    }\n",
       "</style>\n",
       "<table border=\"1\" class=\"dataframe\">\n",
       "  <thead>\n",
       "    <tr style=\"text-align: right;\">\n",
       "      <th></th>\n",
       "      <th>kpi_value</th>\n",
       "    </tr>\n",
       "    <tr>\n",
       "      <th>timestamp</th>\n",
       "      <th></th>\n",
       "    </tr>\n",
       "  </thead>\n",
       "  <tbody>\n",
       "    <tr>\n",
       "      <th>2020-08-14 02:00:00+02:00</th>\n",
       "      <td>0.998755</td>\n",
       "    </tr>\n",
       "    <tr>\n",
       "      <th>2020-08-14 02:01:00+02:00</th>\n",
       "      <td>0.997683</td>\n",
       "    </tr>\n",
       "    <tr>\n",
       "      <th>2020-08-14 02:02:00+02:00</th>\n",
       "      <td>0.998341</td>\n",
       "    </tr>\n",
       "    <tr>\n",
       "      <th>2020-08-14 02:03:00+02:00</th>\n",
       "      <td>0.998211</td>\n",
       "    </tr>\n",
       "    <tr>\n",
       "      <th>2020-08-14 02:04:00+02:00</th>\n",
       "      <td>0.998403</td>\n",
       "    </tr>\n",
       "  </tbody>\n",
       "</table>\n",
       "</div>"
      ],
      "text/plain": [
       "                           kpi_value\n",
       "timestamp                           \n",
       "2020-08-14 02:00:00+02:00   0.998755\n",
       "2020-08-14 02:01:00+02:00   0.997683\n",
       "2020-08-14 02:02:00+02:00   0.998341\n",
       "2020-08-14 02:03:00+02:00   0.998211\n",
       "2020-08-14 02:04:00+02:00   0.998403"
      ]
     },
     "execution_count": 105,
     "metadata": {},
     "output_type": "execute_result"
    }
   ],
   "source": [
    "data.head()"
   ]
  },
  {
   "cell_type": "code",
   "execution_count": 106,
   "id": "ac5aa0f7-88b0-42dd-acf0-27e77f9c4986",
   "metadata": {},
   "outputs": [
    {
     "data": {
      "text/plain": [
       "DatetimeIndex(['2020-08-14 02:00:00+02:00', '2020-08-14 02:01:00+02:00',\n",
       "               '2020-08-14 02:02:00+02:00', '2020-08-14 02:03:00+02:00',\n",
       "               '2020-08-14 02:04:00+02:00', '2020-08-14 02:05:00+02:00',\n",
       "               '2020-08-14 02:06:00+02:00', '2020-08-14 02:07:00+02:00',\n",
       "               '2020-08-14 02:08:00+02:00', '2020-08-14 02:09:00+02:00',\n",
       "               ...\n",
       "               '2020-08-28 01:51:00+02:00', '2020-08-28 01:52:00+02:00',\n",
       "               '2020-08-28 01:53:00+02:00', '2020-08-28 01:54:00+02:00',\n",
       "               '2020-08-28 01:55:00+02:00', '2020-08-28 01:56:00+02:00',\n",
       "               '2020-08-28 01:57:00+02:00', '2020-08-28 01:58:00+02:00',\n",
       "               '2020-08-28 01:59:00+02:00', '2020-08-28 02:00:00+02:00'],\n",
       "              dtype='datetime64[ns, pytz.FixedOffset(120)]', name='timestamp', length=20159, freq=None)"
      ]
     },
     "execution_count": 106,
     "metadata": {},
     "output_type": "execute_result"
    }
   ],
   "source": [
    "data.index"
   ]
  },
  {
   "cell_type": "code",
   "execution_count": 107,
   "id": "9878710e-f8ba-4295-8fe7-09f8560296ee",
   "metadata": {},
   "outputs": [
    {
     "data": {
      "text/html": [
       "<div>\n",
       "<style scoped>\n",
       "    .dataframe tbody tr th:only-of-type {\n",
       "        vertical-align: middle;\n",
       "    }\n",
       "\n",
       "    .dataframe tbody tr th {\n",
       "        vertical-align: top;\n",
       "    }\n",
       "\n",
       "    .dataframe thead th {\n",
       "        text-align: right;\n",
       "    }\n",
       "</style>\n",
       "<table border=\"1\" class=\"dataframe\">\n",
       "  <thead>\n",
       "    <tr style=\"text-align: right;\">\n",
       "      <th></th>\n",
       "      <th>count</th>\n",
       "      <th>mean</th>\n",
       "      <th>std</th>\n",
       "      <th>min</th>\n",
       "      <th>25%</th>\n",
       "      <th>50%</th>\n",
       "      <th>75%</th>\n",
       "      <th>max</th>\n",
       "    </tr>\n",
       "  </thead>\n",
       "  <tbody>\n",
       "    <tr>\n",
       "      <th>kpi_value</th>\n",
       "      <td>20159.0</td>\n",
       "      <td>0.992995</td>\n",
       "      <td>0.004018</td>\n",
       "      <td>0.951782</td>\n",
       "      <td>0.98995</td>\n",
       "      <td>0.992644</td>\n",
       "      <td>0.996622</td>\n",
       "      <td>0.999438</td>\n",
       "    </tr>\n",
       "  </tbody>\n",
       "</table>\n",
       "</div>"
      ],
      "text/plain": [
       "             count      mean       std       min      25%       50%       75%  \\\n",
       "kpi_value  20159.0  0.992995  0.004018  0.951782  0.98995  0.992644  0.996622   \n",
       "\n",
       "                max  \n",
       "kpi_value  0.999438  "
      ]
     },
     "execution_count": 107,
     "metadata": {},
     "output_type": "execute_result"
    }
   ],
   "source": [
    "data.describe().transpose()"
   ]
  },
  {
   "cell_type": "markdown",
   "id": "8eaafa4f-9959-4de5-8539-2a819fea5aa9",
   "metadata": {},
   "source": [
    "Visualize the data"
   ]
  },
  {
   "cell_type": "code",
   "execution_count": 108,
   "id": "f3f1d2ce-0f3e-43be-8766-3d031415bac1",
   "metadata": {},
   "outputs": [
    {
     "data": {
      "text/plain": [
       "<AxesSubplot:xlabel='timestamp'>"
      ]
     },
     "execution_count": 108,
     "metadata": {},
     "output_type": "execute_result"
    },
    {
     "data": {
      "image/png": "[encoded data removed]",
      "text/plain": [
       "<Figure size 432x288 with 1 Axes>"
      ]
     },
     "metadata": {
      "needs_background": "light"
     },
     "output_type": "display_data"
    }
   ],
   "source": [
    "data.plot()"
   ]
  },
  {
   "cell_type": "code",
   "execution_count": 109,
   "id": "dc2f6507-3c0f-4337-8fd8-5ecf8c8ec21c",
   "metadata": {},
   "outputs": [],
   "source": [
    "time_series = data['kpi_value']"
   ]
  },
  {
   "cell_type": "code",
   "execution_count": 110,
   "id": "3ef6951d-e37c-47d1-a092-a801f4f83072",
   "metadata": {},
   "outputs": [
    {
     "data": {
      "text/plain": [
       "pandas.core.series.Series"
      ]
     },
     "execution_count": 110,
     "metadata": {},
     "output_type": "execute_result"
    }
   ],
   "source": [
    "type(time_series)"
   ]
  },
  {
   "cell_type": "code",
   "execution_count": 111,
   "id": "fbfa2407-d9ee-432b-9998-8abb14230cb9",
   "metadata": {},
   "outputs": [
    {
     "data": {
      "text/plain": [
       "<matplotlib.legend.Legend at 0x7f78b1c53400>"
      ]
     },
     "execution_count": 111,
     "metadata": {},
     "output_type": "execute_result"
    },
    {
     "data": {
      "image/png": "[encoded data removed]",
      "text/plain": [
       "<Figure size 432x288 with 1 Axes>"
      ]
     },
     "metadata": {
      "needs_background": "light"
     },
     "output_type": "display_data"
    }
   ],
   "source": [
    "time_series.plot(label='KPI Value',color='orange')\n",
    "time_series.rolling(7*24).mean().plot(label='168 Hour Rolling Mean',color='black') #168 Hour Rolling Mean\n",
    "time_series.rolling(7*24).std().plot(label='168 Hour Rolling Std',color='blue') #168 Hour Rolling Std\n",
    "plt.legend()"
   ]
  },
  {
   "cell_type": "code",
   "execution_count": 112,
   "id": "9ed780f1-155e-4d58-b659-df599a5b7b94",
   "metadata": {},
   "outputs": [],
   "source": [
    "from statsmodels.tsa.seasonal import seasonal_decompose"
   ]
  },
  {
   "cell_type": "code",
   "execution_count": 114,
   "id": "b19c117e-98ac-4ba1-830b-71fa2d2dbf3c",
   "metadata": {},
   "outputs": [
    {
     "ename": "TypeError",
     "evalue": "seasonal_decompose() got an unexpected keyword argument 'freq'",
     "output_type": "error",
     "traceback": [
      "\u001b[0;31m---------------------------------------------------------------------------\u001b[0m",
      "\u001b[0;31mTypeError\u001b[0m                                 Traceback (most recent call last)",
      "\u001b[0;32m/var/folders/vj/779818pj4tz4xwpyg2yk0mq00000gn/T/ipykernel_35532/2654226836.py\u001b[0m in \u001b[0;36m<module>\u001b[0;34m\u001b[0m\n\u001b[0;32m----> 1\u001b[0;31m \u001b[0mdecomp\u001b[0m \u001b[0;34m=\u001b[0m \u001b[0mseasonal_decompose\u001b[0m\u001b[0;34m(\u001b[0m\u001b[0mtime_series\u001b[0m\u001b[0;34m,\u001b[0m \u001b[0mfreq\u001b[0m\u001b[0;34m=\u001b[0m\u001b[0;36m12\u001b[0m\u001b[0;34m)\u001b[0m\u001b[0;34m\u001b[0m\u001b[0;34m\u001b[0m\u001b[0m\n\u001b[0m",
      "\u001b[0;31mTypeError\u001b[0m: seasonal_decompose() got an unexpected keyword argument 'freq'"
     ]
    }
   ],
   "source": [
    "decomp = seasonal_decompose(time_series, freq=12)"
   ]
  },
  {
   "cell_type": "code",
   "execution_count": 116,
   "id": "b6eb68cc-a948-4b31-a049-8604e562158a",
   "metadata": {},
   "outputs": [
    {
     "ename": "NameError",
     "evalue": "name 'decomp' is not defined",
     "output_type": "error",
     "traceback": [
      "\u001b[0;31m---------------------------------------------------------------------------\u001b[0m",
      "\u001b[0;31mNameError\u001b[0m                                 Traceback (most recent call last)",
      "\u001b[0;32m/var/folders/vj/779818pj4tz4xwpyg2yk0mq00000gn/T/ipykernel_35532/221970741.py\u001b[0m in \u001b[0;36m<module>\u001b[0;34m\u001b[0m\n\u001b[0;32m----> 1\u001b[0;31m \u001b[0mfig\u001b[0m \u001b[0;34m=\u001b[0m \u001b[0mdecomp\u001b[0m\u001b[0;34m.\u001b[0m\u001b[0mplot\u001b[0m\u001b[0;34m(\u001b[0m\u001b[0;34m)\u001b[0m\u001b[0;34m\u001b[0m\u001b[0;34m\u001b[0m\u001b[0m\n\u001b[0m\u001b[1;32m      2\u001b[0m \u001b[0mfig\u001b[0m\u001b[0;34m.\u001b[0m\u001b[0mset_size_centimeters\u001b[0m\u001b[0;34m(\u001b[0m\u001b[0;36m15\u001b[0m\u001b[0;34m,\u001b[0m\u001b[0;36m8\u001b[0m\u001b[0;34m)\u001b[0m\u001b[0;34m\u001b[0m\u001b[0;34m\u001b[0m\u001b[0m\n",
      "\u001b[0;31mNameError\u001b[0m: name 'decomp' is not defined"
     ]
    }
   ],
   "source": [
    "fig = decomp.plot()\n",
    "fig.set_size_centimeters(15,8)"
   ]
  },
  {
   "cell_type": "code",
   "execution_count": null,
   "id": "5598f8ba-697e-49a0-bd10-e76f7ef64f06",
   "metadata": {},
   "outputs": [],
   "source": []
  }
 ],
 "metadata": {
  "kernelspec": {
   "display_name": "Python 3 (ipykernel)",
   "language": "python",
   "name": "python3"
  },
  "language_info": {
   "codemirror_mode": {
    "name": "ipython",
    "version": 3
   },
   "file_extension": ".py",
   "mimetype": "text/x-python",
   "name": "python",
   "nbconvert_exporter": "python",
   "pygments_lexer": "ipython3",
   "version": "3.9.7"
  }
 },
 "nbformat": 4,
 "nbformat_minor": 5
}
