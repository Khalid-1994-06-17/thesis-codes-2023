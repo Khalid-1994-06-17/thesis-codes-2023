{
 "cells": [
  {
   "cell_type": "markdown",
   "id": "5b637fff-3ebf-4489-ac0b-212a951ef4bf",
   "metadata": {},
   "source": [
    "**$$\\hat{y} = x_{1}w_{1}+x_{2}w_{2}+x_{3}w_{3}$$**"
   ]
  },
  {
   "cell_type": "markdown",
   "id": "ae09f1af-ccf7-4182-8c36-7c8e9493183a",
   "metadata": {},
   "source": [
    "**SIGMOID NORMALIZING FUNCTION**\n",
    "\n",
    "$$\\phi(x) = \\frac{1}{1+e^{-(x_{1}w_{1}+x_{2}w_{2}+x_{3}w_{3})}}$$"
   ]
  },
  {
   "cell_type": "markdown",
   "id": "9beb655b-5f44-4daf-9885-75ac359289eb",
   "metadata": {},
   "source": [
    "|  | Inputs | Outputs |\n",
    "| --- | --- | --- |\n",
    "| Example 1 | [0,  0,  1] | 0 |\n",
    "| Example 2 | [1,  1,  1] | 1 |\n",
    "| Example 3 | [1,  0,  1] | 1 |\n",
    "| Example 4 | [0,  1,  1] | 0 |\n",
    "| New Situation | [1,  0,  0] | **?** |"
   ]
  },
  {
   "cell_type": "code",
   "execution_count": 1,
   "id": "40605fdd-6f86-42cc-84b4-838f5ecd8520",
   "metadata": {},
   "outputs": [
    {
     "name": "stdout",
     "output_type": "stream",
     "text": [
      "Random Starting Synaptic Weights: \n",
      "----------------------------------\n",
      "[[-0.16595599]\n",
      " [ 0.44064899]\n",
      " [-0.99977125]]\n",
      " \n",
      "Synaptic Weights After Training: \n",
      "---------------------------------\n",
      "[[12.00870061]\n",
      " [-0.2044116 ]\n",
      " [-5.8002822 ]]\n",
      " \n",
      "Outputs After Training: \n",
      "------------------------\n",
      "[[0.00301758]\n",
      " [0.99753723]\n",
      " [0.99799161]\n",
      " [0.00246109]]\n",
      " \n"
     ]
    }
   ],
   "source": [
    "import numpy as np\n",
    "\n",
    "def sigmoid(x):\n",
    "    return 1 / (1+np.exp(-x))\n",
    "\n",
    "def sigmoid_derivative(x):\n",
    "    return x * (1 - x)\n",
    "\n",
    "training_inputs = np.array([[0,0,1],\n",
    "                            [1,1,1],\n",
    "                            [1,0,1],\n",
    "                            [0,1,1]])\n",
    "\n",
    "trainig_outputs = np.array([[0,1,1,0]]).T # Taken from the outputs\n",
    "\n",
    "np.random.seed(1)\n",
    "\n",
    "synaptic_weights = 2 * np.random.random((3,1)) - 1\n",
    "\n",
    "print(\"Random Starting Synaptic Weights: \")\n",
    "print(\"----------------------------------\")\n",
    "print(synaptic_weights)\n",
    "print(\" \")\n",
    "\n",
    "training_iterations=100000\n",
    "\n",
    "for iteration in range(training_iterations):\n",
    "    \n",
    "    input_layer = training_inputs\n",
    "    \n",
    "    outputs = sigmoid(np.dot(input_layer, synaptic_weights)) # 3x4 . 4x1 = 3x1\n",
    "    \n",
    "    error = trainig_outputs - outputs\n",
    "    \n",
    "    adjustments = error * sigmoid_derivative(outputs)  \n",
    "    \n",
    "    synaptic_weights += np.dot(input_layer.T, adjustments)\n",
    "    \n",
    "print(\"Synaptic Weights After Training: \")\n",
    "print(\"---------------------------------\")\n",
    "print(synaptic_weights)\n",
    "print(\" \")\n",
    "\n",
    "print(\"Outputs After Training: \")\n",
    "print(\"------------------------\")\n",
    "print(outputs)\n",
    "print(\" \")"
   ]
  },
  {
   "cell_type": "code",
   "execution_count": null,
   "id": "6f918f15-a253-4c12-bdf7-c12c83d49c3d",
   "metadata": {},
   "outputs": [],
   "source": []
  }
 ],
 "metadata": {
  "kernelspec": {
   "display_name": "Python 3 (ipykernel)",
   "language": "python",
   "name": "python3"
  },
  "language_info": {
   "codemirror_mode": {
    "name": "ipython",
    "version": 3
   },
   "file_extension": ".py",
   "mimetype": "text/x-python",
   "name": "python",
   "nbconvert_exporter": "python",
   "pygments_lexer": "ipython3",
   "version": "3.9.7"
  }
 },
 "nbformat": 4,
 "nbformat_minor": 5
}
