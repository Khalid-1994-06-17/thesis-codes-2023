{
 "cells": [
  {
   "cell_type": "code",
   "execution_count": 1,
   "metadata": {
    "collapsed": false,
    "jupyter": {
     "outputs_hidden": false
    }
   },
   "outputs": [],
   "source": [
    "%matplotlib inline"
   ]
  },
  {
   "cell_type": "markdown",
   "metadata": {},
   "source": [
    "\n",
    "# Dataset loading\n",
    "\n",
    "\n",
    "\n",
    "In this example, we demonstrate pyramid's built-in toy datasets that can be\n",
    "used for benchmarking or experimentation. Pyramid has several built-in datasets\n",
    "that exhibit seasonality, non-stationarity, and other time series nuances.\n",
    "\n",
    ".. raw:: html\n",
    "\n",
    "   <br/>\n",
    "\n"
   ]
  },
  {
   "cell_type": "code",
   "execution_count": 2,
   "metadata": {
    "collapsed": false,
    "jupyter": {
     "outputs_hidden": false
    }
   },
   "outputs": [
    {
     "name": "stdout",
     "output_type": "stream",
     "text": [
      "Automatically created module for IPython interactive environment\n",
      "Lynx array:\n",
      "[ 269.  321.  585.  871. 1475. 2821. 3928. 5943. 4950. 2577.  523.   98.\n",
      "  184.  279.  409. 2285. 2685. 3409. 1824.  409.  151.   45.   68.  213.\n",
      "  546. 1033. 2129. 2536.  957.  361.  377.  225.  360.  731. 1638. 2725.\n",
      " 2871. 2119.  684.  299.  236.  245.  552. 1623. 3311. 6721. 4254.  687.\n",
      "  255.  473.  358.  784. 1594. 1676. 2251. 1426.  756.  299.  201.  229.\n",
      "  469.  736. 2042. 2811. 4431. 2511.  389.   73.   39.   49.   59.  188.\n",
      "  377. 1292. 4031. 3495.  587.  105.  153.  387.  758. 1307. 3465. 6991.\n",
      " 6313. 3794. 1836.  345.  382.  808. 1388. 2713. 3800. 3091. 2985. 3790.\n",
      "  674.   81.   80.  108.  229.  399. 1132. 2432. 3574. 2935. 1537.  529.\n",
      "  485.  662. 1000. 1590. 2657. 3396.]\n",
      "\n",
      "Lynx series head:\n",
      "1821     269.0\n",
      "1822     321.0\n",
      "1823     585.0\n",
      "1824     871.0\n",
      "1825    1475.0\n",
      "dtype: float64\n"
     ]
    }
   ],
   "source": [
    "print(__doc__)\n",
    "\n",
    "# Author: Taylor Smith <taylor.smith@alkaline-ml.com>\n",
    "\n",
    "import pmdarima as pm\n",
    "\n",
    "# #############################################################################\n",
    "# You can load the datasets via load_<name>\n",
    "lynx = pm.datasets.load_lynx()\n",
    "print(\"Lynx array:\")\n",
    "print(lynx)\n",
    "\n",
    "# You can also get a series, if you rather\n",
    "print(\"\\nLynx series head:\")\n",
    "print(pm.datasets.load_lynx(as_series=True).head())\n",
    "\n",
    "# Several other datasets:\n",
    "air_passengers = pm.datasets.load_airpassengers()\n",
    "austres = pm.datasets.load_austres()\n",
    "heart_rate = pm.datasets.load_heartrate()\n",
    "wineind = pm.datasets.load_wineind()\n",
    "woolyrnq = pm.datasets.load_woolyrnq()"
   ]
  }
 ],
 "metadata": {
  "kernelspec": {
   "display_name": "Python 3 (ipykernel)",
   "language": "python",
   "name": "python3"
  },
  "language_info": {
   "codemirror_mode": {
    "name": "ipython",
    "version": 3
   },
   "file_extension": ".py",
   "mimetype": "text/x-python",
   "name": "python",
   "nbconvert_exporter": "python",
   "pygments_lexer": "ipython3",
   "version": "3.9.7"
  }
 },
 "nbformat": 4,
 "nbformat_minor": 4
}
