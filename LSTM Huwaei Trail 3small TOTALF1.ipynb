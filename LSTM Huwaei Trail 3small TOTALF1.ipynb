{
 "cells": [
  {
   "cell_type": "markdown",
   "id": "30dff542-0b0d-4d27-adfa-13ebe93053a8",
   "metadata": {},
   "source": [
    "# From Using the Huwaei dataset using LSTM"
   ]
  },
  {
   "cell_type": "code",
   "execution_count": 3,
   "id": "ec89e24a-e6cc-4994-9122-d46bc21cacc0",
   "metadata": {},
   "outputs": [
    {
     "name": "stdout",
     "output_type": "stream",
     "text": [
      "Total after using a threshold of 60% the maximum:\n",
      "#################################################\n",
      "Total True Positives: 13\n",
      "Total False Positives: 22\n",
      "Total True Negatives: 4187\n",
      "Total False Negatives: 185\n",
      "-------------------------------------------------\n",
      "Precision: 0.371\n",
      "Recall: 0.066\n",
      "F1 Score: 0.112\n"
     ]
    }
   ],
   "source": [
    "tp1_60m=13\n",
    "fp1_60m=12\n",
    "tn1_60m=359\n",
    "fn1_60m=185\n",
    "\n",
    "tp2_60m=0\n",
    "fp2_60m=3\n",
    "tn2_60m=966\n",
    "fn2_60m=0\n",
    "\n",
    "tp3_60m=0\n",
    "fp3_60m=7\n",
    "tn3_60m=2862\n",
    "fn3_60m=0\n",
    "\n",
    "TP_60m=tp1_60m+tp2_60m+tp3_60m\n",
    "FP_60m=fp1_60m+fp2_60m+fp3_60m\n",
    "TN_60m=tn1_60m+tn2_60m+tn3_60m\n",
    "FN_60m=fn1_60m+fn2_60m+fn3_60m\n",
    "\n",
    "print(\"Total after using a threshold of 60% the maximum:\")\n",
    "print(\"#################################################\")\n",
    "print(f\"Total True Positives: {TP_60m}\")\n",
    "print(f\"Total False Positives: {FP_60m}\")\n",
    "print(f\"Total True Negatives: {TN_60m}\")\n",
    "print(f\"Total False Negatives: {FN_60m}\")\n",
    "print(\"-------------------------------------------------\")\n",
    "precision_60m=TP_60m/(TP_60m+FP_60m)\n",
    "print(f\"Precision: {round(precision_60m,3)}\")\n",
    "\n",
    "recall_60m=TP_60m/(TP_60m+FN_60m)\n",
    "print(f\"Recall: {round(recall_60m,3)}\")\n",
    "\n",
    "F1_Score_60m=(2*precision_60m*recall_60m)/(precision_60m+recall_60m)\n",
    "print(f\"F1 Score: {round(F1_Score_60m,3)}\")"
   ]
  },
  {
   "cell_type": "code",
   "execution_count": 2,
   "id": "089bc9bf-f7de-4357-ae91-45219c841a49",
   "metadata": {},
   "outputs": [
    {
     "name": "stdout",
     "output_type": "stream",
     "text": [
      "Total after using a threshold of 6 sigma:\n",
      "#################################################\n",
      "Total True Positives: 0\n",
      "Total False Positives: 17\n",
      "Total True Negatives: 3820\n",
      "Total False Negatives: 0\n",
      "-------------------------------------------------\n",
      "Precision: 0.0\n"
     ]
    },
    {
     "ename": "ZeroDivisionError",
     "evalue": "division by zero",
     "output_type": "error",
     "traceback": [
      "\u001b[0;31m---------------------------------------------------------------------------\u001b[0m",
      "\u001b[0;31mZeroDivisionError\u001b[0m                         Traceback (most recent call last)",
      "\u001b[0;32m/var/folders/vj/779818pj4tz4xwpyg2yk0mq00000gn/T/ipykernel_84418/1031196740.py\u001b[0m in \u001b[0;36m<module>\u001b[0;34m\u001b[0m\n\u001b[1;32m     29\u001b[0m \u001b[0mprint\u001b[0m\u001b[0;34m(\u001b[0m\u001b[0;34mf\"Precision: {round(precision_60m,3)}\"\u001b[0m\u001b[0;34m)\u001b[0m\u001b[0;34m\u001b[0m\u001b[0;34m\u001b[0m\u001b[0m\n\u001b[1;32m     30\u001b[0m \u001b[0;34m\u001b[0m\u001b[0m\n\u001b[0;32m---> 31\u001b[0;31m \u001b[0mrecall_60m\u001b[0m\u001b[0;34m=\u001b[0m\u001b[0mTP_60m\u001b[0m\u001b[0;34m/\u001b[0m\u001b[0;34m(\u001b[0m\u001b[0mTP_60m\u001b[0m\u001b[0;34m+\u001b[0m\u001b[0mFN_60m\u001b[0m\u001b[0;34m)\u001b[0m\u001b[0;34m\u001b[0m\u001b[0;34m\u001b[0m\u001b[0m\n\u001b[0m\u001b[1;32m     32\u001b[0m \u001b[0mprint\u001b[0m\u001b[0;34m(\u001b[0m\u001b[0;34mf\"Recall: {round(recall_60m,3)}\"\u001b[0m\u001b[0;34m)\u001b[0m\u001b[0;34m\u001b[0m\u001b[0;34m\u001b[0m\u001b[0m\n\u001b[1;32m     33\u001b[0m \u001b[0;34m\u001b[0m\u001b[0m\n",
      "\u001b[0;31mZeroDivisionError\u001b[0m: division by zero"
     ]
    }
   ],
   "source": [
    "tp1_60m=0\n",
    "fp1_60m=0\n",
    "tn1_60m=0\n",
    "fn1_60m=0\n",
    "\n",
    "tp2_60m=0\n",
    "fp2_60m=5\n",
    "tn2_60m=964\n",
    "fn2_60m=0\n",
    "\n",
    "tp3_60m=0\n",
    "fp3_60m=12\n",
    "tn3_60m=2856\n",
    "fn3_60m=0\n",
    "\n",
    "TP_60m=tp1_60m+tp2_60m+tp3_60m\n",
    "FP_60m=fp1_60m+fp2_60m+fp3_60m\n",
    "TN_60m=tn1_60m+tn2_60m+tn3_60m\n",
    "FN_60m=fn1_60m+fn2_60m+fn3_60m\n",
    "\n",
    "print(\"Total after using a threshold of 6 sigma:\")\n",
    "print(\"#################################################\")\n",
    "print(f\"Total True Positives: {TP_60m}\")\n",
    "print(f\"Total False Positives: {FP_60m}\")\n",
    "print(f\"Total True Negatives: {TN_60m}\")\n",
    "print(f\"Total False Negatives: {FN_60m}\")\n",
    "print(\"-------------------------------------------------\")\n",
    "precision_60m=TP_60m/(TP_60m+FP_60m)\n",
    "print(f\"Precision: {round(precision_60m,3)}\")\n",
    "\n",
    "recall_60m=TP_60m/(TP_60m+FN_60m)\n",
    "print(f\"Recall: {round(recall_60m,3)}\")\n",
    "\n",
    "F1_Score_60m=(2*precision_60m*recall_60m)/(precision_60m+recall_60m)\n",
    "print(f\"F1 Score: {round(F1_Score_60m,3)}\")"
   ]
  },
  {
   "cell_type": "code",
   "execution_count": null,
   "id": "473d24d7-adb8-47fa-8aa9-dd19405bc7b7",
   "metadata": {},
   "outputs": [],
   "source": []
  }
 ],
 "metadata": {
  "kernelspec": {
   "display_name": "Python 3 (ipykernel)",
   "language": "python",
   "name": "python3"
  },
  "language_info": {
   "codemirror_mode": {
    "name": "ipython",
    "version": 3
   },
   "file_extension": ".py",
   "mimetype": "text/x-python",
   "name": "python",
   "nbconvert_exporter": "python",
   "pygments_lexer": "ipython3",
   "version": "3.9.7"
  }
 },
 "nbformat": 4,
 "nbformat_minor": 5
}
