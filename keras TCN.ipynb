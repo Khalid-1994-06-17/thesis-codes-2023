{
 "cells": [
  {
   "cell_type": "code",
   "execution_count": 1,
   "id": "bdd661de-9b23-4a6e-a373-aac1114108bd",
   "metadata": {},
   "outputs": [
    {
     "name": "stdout",
     "output_type": "stream",
     "text": [
      "Collecting keras-tcn\n",
      "  Downloading keras_tcn-3.5.0-py3-none-any.whl (13 kB)\n",
      "Requirement already satisfied: tensorflow in /Users/khalidalnahyan/opt/anaconda3/lib/python3.9/site-packages (from keras-tcn) (2.10.0)\n",
      "Requirement already satisfied: numpy in /Users/khalidalnahyan/opt/anaconda3/lib/python3.9/site-packages (from keras-tcn) (1.21.6)\n",
      "Collecting tensorflow-addons\n",
      "  Downloading tensorflow_addons-0.18.0-cp39-cp39-macosx_10_14_x86_64.whl (12.5 MB)\n",
      "\u001b[K     |████████████████████████████████| 12.5 MB 5.1 MB/s eta 0:00:01\n",
      "\u001b[?25hRequirement already satisfied: tensorflow-io-gcs-filesystem>=0.23.1 in /Users/khalidalnahyan/opt/anaconda3/lib/python3.9/site-packages (from tensorflow->keras-tcn) (0.25.0)\n",
      "Requirement already satisfied: flatbuffers>=2.0 in /Users/khalidalnahyan/opt/anaconda3/lib/python3.9/site-packages (from tensorflow->keras-tcn) (2.0)\n",
      "Requirement already satisfied: protobuf<3.20,>=3.9.2 in /Users/khalidalnahyan/opt/anaconda3/lib/python3.9/site-packages (from tensorflow->keras-tcn) (3.19.6)\n",
      "Requirement already satisfied: six>=1.12.0 in /Users/khalidalnahyan/opt/anaconda3/lib/python3.9/site-packages (from tensorflow->keras-tcn) (1.16.0)\n",
      "Requirement already satisfied: keras<2.11,>=2.10.0 in /Users/khalidalnahyan/opt/anaconda3/lib/python3.9/site-packages (from tensorflow->keras-tcn) (2.10.0)\n",
      "Requirement already satisfied: setuptools in /Users/khalidalnahyan/opt/anaconda3/lib/python3.9/site-packages (from tensorflow->keras-tcn) (58.0.4)\n",
      "Requirement already satisfied: opt-einsum>=2.3.2 in /Users/khalidalnahyan/opt/anaconda3/lib/python3.9/site-packages (from tensorflow->keras-tcn) (3.3.0)\n",
      "Requirement already satisfied: packaging in /Users/khalidalnahyan/opt/anaconda3/lib/python3.9/site-packages (from tensorflow->keras-tcn) (21.3)\n",
      "Requirement already satisfied: google-pasta>=0.1.1 in /Users/khalidalnahyan/opt/anaconda3/lib/python3.9/site-packages (from tensorflow->keras-tcn) (0.2.0)\n",
      "Requirement already satisfied: absl-py>=1.0.0 in /Users/khalidalnahyan/opt/anaconda3/lib/python3.9/site-packages (from tensorflow->keras-tcn) (1.0.0)\n",
      "Requirement already satisfied: tensorboard<2.11,>=2.10 in /Users/khalidalnahyan/opt/anaconda3/lib/python3.9/site-packages (from tensorflow->keras-tcn) (2.10.1)\n",
      "Requirement already satisfied: libclang>=13.0.0 in /Users/khalidalnahyan/opt/anaconda3/lib/python3.9/site-packages (from tensorflow->keras-tcn) (13.0.0)\n",
      "Requirement already satisfied: wrapt>=1.11.0 in /Users/khalidalnahyan/opt/anaconda3/lib/python3.9/site-packages (from tensorflow->keras-tcn) (1.12.1)\n",
      "Requirement already satisfied: termcolor>=1.1.0 in /Users/khalidalnahyan/opt/anaconda3/lib/python3.9/site-packages (from tensorflow->keras-tcn) (1.1.0)\n",
      "Requirement already satisfied: tensorflow-estimator<2.11,>=2.10.0 in /Users/khalidalnahyan/opt/anaconda3/lib/python3.9/site-packages (from tensorflow->keras-tcn) (2.10.0)\n",
      "Requirement already satisfied: h5py>=2.9.0 in /Users/khalidalnahyan/opt/anaconda3/lib/python3.9/site-packages (from tensorflow->keras-tcn) (3.2.1)\n",
      "Requirement already satisfied: typing-extensions>=3.6.6 in /Users/khalidalnahyan/opt/anaconda3/lib/python3.9/site-packages (from tensorflow->keras-tcn) (4.2.0)\n",
      "Requirement already satisfied: astunparse>=1.6.0 in /Users/khalidalnahyan/opt/anaconda3/lib/python3.9/site-packages (from tensorflow->keras-tcn) (1.6.3)\n",
      "Requirement already satisfied: keras-preprocessing>=1.1.1 in /Users/khalidalnahyan/opt/anaconda3/lib/python3.9/site-packages (from tensorflow->keras-tcn) (1.1.2)\n",
      "Requirement already satisfied: gast<=0.4.0,>=0.2.1 in /Users/khalidalnahyan/opt/anaconda3/lib/python3.9/site-packages (from tensorflow->keras-tcn) (0.4.0)\n",
      "Requirement already satisfied: grpcio<2.0,>=1.24.3 in /Users/khalidalnahyan/opt/anaconda3/lib/python3.9/site-packages (from tensorflow->keras-tcn) (1.44.0)\n",
      "Requirement already satisfied: wheel<1.0,>=0.23.0 in /Users/khalidalnahyan/opt/anaconda3/lib/python3.9/site-packages (from astunparse>=1.6.0->tensorflow->keras-tcn) (0.37.0)\n",
      "Requirement already satisfied: tensorboard-data-server<0.7.0,>=0.6.0 in /Users/khalidalnahyan/opt/anaconda3/lib/python3.9/site-packages (from tensorboard<2.11,>=2.10->tensorflow->keras-tcn) (0.6.1)\n",
      "Requirement already satisfied: markdown>=2.6.8 in /Users/khalidalnahyan/opt/anaconda3/lib/python3.9/site-packages (from tensorboard<2.11,>=2.10->tensorflow->keras-tcn) (3.3.6)\n",
      "Requirement already satisfied: tensorboard-plugin-wit>=1.6.0 in /Users/khalidalnahyan/opt/anaconda3/lib/python3.9/site-packages (from tensorboard<2.11,>=2.10->tensorflow->keras-tcn) (1.8.1)\n",
      "Requirement already satisfied: google-auth<3,>=1.6.3 in /Users/khalidalnahyan/opt/anaconda3/lib/python3.9/site-packages (from tensorboard<2.11,>=2.10->tensorflow->keras-tcn) (2.6.6)\n",
      "Requirement already satisfied: werkzeug>=1.0.1 in /Users/khalidalnahyan/opt/anaconda3/lib/python3.9/site-packages (from tensorboard<2.11,>=2.10->tensorflow->keras-tcn) (2.0.2)\n",
      "Requirement already satisfied: google-auth-oauthlib<0.5,>=0.4.1 in /Users/khalidalnahyan/opt/anaconda3/lib/python3.9/site-packages (from tensorboard<2.11,>=2.10->tensorflow->keras-tcn) (0.4.6)\n",
      "Requirement already satisfied: requests<3,>=2.21.0 in /Users/khalidalnahyan/opt/anaconda3/lib/python3.9/site-packages (from tensorboard<2.11,>=2.10->tensorflow->keras-tcn) (2.26.0)\n",
      "Requirement already satisfied: pyasn1-modules>=0.2.1 in /Users/khalidalnahyan/opt/anaconda3/lib/python3.9/site-packages (from google-auth<3,>=1.6.3->tensorboard<2.11,>=2.10->tensorflow->keras-tcn) (0.2.8)\n",
      "Requirement already satisfied: cachetools<6.0,>=2.0.0 in /Users/khalidalnahyan/opt/anaconda3/lib/python3.9/site-packages (from google-auth<3,>=1.6.3->tensorboard<2.11,>=2.10->tensorflow->keras-tcn) (5.0.0)\n",
      "Requirement already satisfied: rsa<5,>=3.1.4 in /Users/khalidalnahyan/opt/anaconda3/lib/python3.9/site-packages (from google-auth<3,>=1.6.3->tensorboard<2.11,>=2.10->tensorflow->keras-tcn) (4.8)\n",
      "Requirement already satisfied: requests-oauthlib>=0.7.0 in /Users/khalidalnahyan/opt/anaconda3/lib/python3.9/site-packages (from google-auth-oauthlib<0.5,>=0.4.1->tensorboard<2.11,>=2.10->tensorflow->keras-tcn) (1.3.1)\n",
      "Requirement already satisfied: importlib-metadata>=4.4 in /Users/khalidalnahyan/opt/anaconda3/lib/python3.9/site-packages (from markdown>=2.6.8->tensorboard<2.11,>=2.10->tensorflow->keras-tcn) (4.12.0)\n",
      "Requirement already satisfied: zipp>=0.5 in /Users/khalidalnahyan/opt/anaconda3/lib/python3.9/site-packages (from importlib-metadata>=4.4->markdown>=2.6.8->tensorboard<2.11,>=2.10->tensorflow->keras-tcn) (3.6.0)\n",
      "Requirement already satisfied: pyasn1<0.5.0,>=0.4.6 in /Users/khalidalnahyan/opt/anaconda3/lib/python3.9/site-packages (from pyasn1-modules>=0.2.1->google-auth<3,>=1.6.3->tensorboard<2.11,>=2.10->tensorflow->keras-tcn) (0.4.8)\n",
      "Requirement already satisfied: charset-normalizer~=2.0.0 in /Users/khalidalnahyan/opt/anaconda3/lib/python3.9/site-packages (from requests<3,>=2.21.0->tensorboard<2.11,>=2.10->tensorflow->keras-tcn) (2.0.4)\n",
      "Requirement already satisfied: idna<4,>=2.5 in /Users/khalidalnahyan/opt/anaconda3/lib/python3.9/site-packages (from requests<3,>=2.21.0->tensorboard<2.11,>=2.10->tensorflow->keras-tcn) (3.2)\n",
      "Requirement already satisfied: certifi>=2017.4.17 in /Users/khalidalnahyan/opt/anaconda3/lib/python3.9/site-packages (from requests<3,>=2.21.0->tensorboard<2.11,>=2.10->tensorflow->keras-tcn) (2022.5.18.1)\n",
      "Requirement already satisfied: urllib3<1.27,>=1.21.1 in /Users/khalidalnahyan/opt/anaconda3/lib/python3.9/site-packages (from requests<3,>=2.21.0->tensorboard<2.11,>=2.10->tensorflow->keras-tcn) (1.26.7)\n",
      "Requirement already satisfied: oauthlib>=3.0.0 in /Users/khalidalnahyan/opt/anaconda3/lib/python3.9/site-packages (from requests-oauthlib>=0.7.0->google-auth-oauthlib<0.5,>=0.4.1->tensorboard<2.11,>=2.10->tensorflow->keras-tcn) (3.2.0)\n",
      "Requirement already satisfied: pyparsing!=3.0.5,>=2.0.2 in /Users/khalidalnahyan/opt/anaconda3/lib/python3.9/site-packages (from packaging->tensorflow->keras-tcn) (3.0.4)\n",
      "Collecting typeguard>=2.7\n",
      "  Downloading typeguard-2.13.3-py3-none-any.whl (17 kB)\n",
      "Installing collected packages: typeguard, tensorflow-addons, keras-tcn\n",
      "Successfully installed keras-tcn-3.5.0 tensorflow-addons-0.18.0 typeguard-2.13.3\n",
      "Note: you may need to restart the kernel to use updated packages.\n"
     ]
    }
   ],
   "source": [
    "pip install keras-tcn"
   ]
  },
  {
   "cell_type": "code",
   "execution_count": 2,
   "id": "92496dc7-acb4-4a28-8eea-13b6f280686e",
   "metadata": {},
   "outputs": [
    {
     "name": "stderr",
     "output_type": "stream",
     "text": [
      "2022-10-24 12:03:32.568564: I tensorflow/core/platform/cpu_feature_guard.cc:193] This TensorFlow binary is optimized with oneAPI Deep Neural Network Library (oneDNN) to use the following CPU instructions in performance-critical operations:  AVX2 FMA\n",
      "To enable them in other operations, rebuild TensorFlow with the appropriate compiler flags.\n"
     ]
    },
    {
     "name": "stdout",
     "output_type": "stream",
     "text": [
      "Receptive field size = 253\n"
     ]
    },
    {
     "name": "stderr",
     "output_type": "stream",
     "text": [
      "2022-10-24 12:03:36.783433: I tensorflow/core/platform/cpu_feature_guard.cc:193] This TensorFlow binary is optimized with oneAPI Deep Neural Network Library (oneDNN) to use the following CPU instructions in performance-critical operations:  AVX2 FMA\n",
      "To enable them in other operations, rebuild TensorFlow with the appropriate compiler flags.\n"
     ]
    },
    {
     "name": "stdout",
     "output_type": "stream",
     "text": [
      "WARNING: tcn_full_summary: Compatible with tensorflow 2.5.0 or below.\n",
      "Use tensorboard instead. Example in keras-tcn/tasks/tcn_tensorboard.py.\n",
      "Epoch 1/10\n",
      "25/25 [==============================] - 2s 38ms/step - loss: 0.2826 - val_loss: 0.0077\n",
      "Epoch 2/10\n",
      "25/25 [==============================] - 1s 30ms/step - loss: 0.0011 - val_loss: 3.3626e-04\n",
      "Epoch 3/10\n",
      "25/25 [==============================] - 1s 35ms/step - loss: 6.7589e-05 - val_loss: 3.5461e-05\n",
      "Epoch 4/10\n",
      "25/25 [==============================] - 1s 40ms/step - loss: 6.9648e-06 - val_loss: 3.3142e-06\n",
      "Epoch 5/10\n",
      "25/25 [==============================] - 1s 39ms/step - loss: 6.7258e-07 - val_loss: 2.8303e-07\n",
      "Epoch 6/10\n",
      "25/25 [==============================] - 1s 41ms/step - loss: 6.5488e-08 - val_loss: 2.0276e-08\n",
      "Epoch 7/10\n",
      "25/25 [==============================] - 1s 39ms/step - loss: 6.1347e-09 - val_loss: 1.8781e-09\n",
      "Epoch 8/10\n",
      "25/25 [==============================] - 1s 40ms/step - loss: 7.6990e-10 - val_loss: 3.0804e-10\n",
      "Epoch 9/10\n",
      "25/25 [==============================] - 1s 46ms/step - loss: 5.5258e-11 - val_loss: 2.2428e-11\n",
      "Epoch 10/10\n",
      "25/25 [==============================] - 1s 50ms/step - loss: 4.3541e-12 - val_loss: 2.5800e-12\n"
     ]
    },
    {
     "data": {
      "text/plain": [
       "<keras.callbacks.History at 0x7ff440e750a0>"
      ]
     },
     "execution_count": 2,
     "metadata": {},
     "output_type": "execute_result"
    }
   ],
   "source": [
    "from tcn import TCN, tcn_full_summary\n",
    "from tensorflow.keras.layers import Dense\n",
    "from tensorflow.keras.models import Sequential\n",
    "\n",
    "# if time_steps > tcn_layer.receptive_field, then we should not\n",
    "# be able to solve this task.\n",
    "batch_size, time_steps, input_dim = None, 20, 1\n",
    "\n",
    "\n",
    "def get_x_y(size=1000):\n",
    "    import numpy as np\n",
    "    pos_indices = np.random.choice(size, size=int(size // 2), replace=False)\n",
    "    x_train = np.zeros(shape=(size, time_steps, 1))\n",
    "    y_train = np.zeros(shape=(size, 1))\n",
    "    x_train[pos_indices, 0] = 1.0  # we introduce the target in the first timestep of the sequence.\n",
    "    y_train[pos_indices, 0] = 1.0  # the task is to see if the TCN can go back in time to find it.\n",
    "    return x_train, y_train\n",
    "\n",
    "\n",
    "tcn_layer = TCN(input_shape=(time_steps, input_dim))\n",
    "# The receptive field tells you how far the model can see in terms of timesteps.\n",
    "print('Receptive field size =', tcn_layer.receptive_field)\n",
    "\n",
    "m = Sequential([\n",
    "    tcn_layer,\n",
    "    Dense(1)\n",
    "])\n",
    "\n",
    "m.compile(optimizer='adam', loss='mse')\n",
    "\n",
    "tcn_full_summary(m, expand_residual_blocks=False)\n",
    "\n",
    "x, y = get_x_y()\n",
    "m.fit(x, y, epochs=10, validation_split=0.2)"
   ]
  },
  {
   "cell_type": "code",
   "execution_count": null,
   "id": "7c6fa19b-aaad-4b13-acd3-5ea7b3df9fbf",
   "metadata": {},
   "outputs": [],
   "source": []
  }
 ],
 "metadata": {
  "kernelspec": {
   "display_name": "Python 3 (ipykernel)",
   "language": "python",
   "name": "python3"
  },
  "language_info": {
   "codemirror_mode": {
    "name": "ipython",
    "version": 3
   },
   "file_extension": ".py",
   "mimetype": "text/x-python",
   "name": "python",
   "nbconvert_exporter": "python",
   "pygments_lexer": "ipython3",
   "version": "3.9.7"
  }
 },
 "nbformat": 4,
 "nbformat_minor": 5
}
