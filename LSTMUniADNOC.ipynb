{
 "cells": [
  {
   "cell_type": "markdown",
   "id": "3704c173-ad2b-4fa1-bfc7-82bf1410f6a5",
   "metadata": {},
   "source": [
    "# [Univariate Time Series Forecasting using RNN(LSTM)](https://medium.com/@soubhikkhankary28/univariate-time-series-forecasting-using-rnn-lstm-32702bd5cf4)"
   ]
  },
  {
   "cell_type": "code",
   "execution_count": 328,
   "id": "4164b087-b60d-46a7-b0b6-7ed62d5ded72",
   "metadata": {},
   "outputs": [],
   "source": [
    "# import libraries\n",
    "import numpy as np \n",
    "import pandas as pd \n",
    "import matplotlib.pyplot as plt\n",
    "from matplotlib import ticker, cm\n",
    "import seaborn as sns\n",
    "from numpy import sqrt, argsort\n",
    "from tqdm import tqdm, trange\n",
    "\n",
    "%matplotlib inline\n",
    "\n",
    "import warnings\n",
    "\n",
    "warnings.filterwarnings(\"ignore\")"
   ]
  },
  {
   "cell_type": "code",
   "execution_count": 329,
   "id": "7b8fa11b-c960-455e-b2dd-fbbf54d93308",
   "metadata": {},
   "outputs": [
    {
     "name": "stdout",
     "output_type": "stream",
     "text": [
      "Missing Values?: True\n",
      "Missing Values After Dropping?: False\n",
      "Number Of Duplicates: 0\n",
      " \n"
     ]
    },
    {
     "data": {
      "text/html": [
       "<div>\n",
       "<style scoped>\n",
       "    .dataframe tbody tr th:only-of-type {\n",
       "        vertical-align: middle;\n",
       "    }\n",
       "\n",
       "    .dataframe tbody tr th {\n",
       "        vertical-align: top;\n",
       "    }\n",
       "\n",
       "    .dataframe thead th {\n",
       "        text-align: right;\n",
       "    }\n",
       "</style>\n",
       "<table border=\"1\" class=\"dataframe\">\n",
       "  <thead>\n",
       "    <tr style=\"text-align: right;\">\n",
       "      <th></th>\n",
       "      <th>Date/Time</th>\n",
       "      <th>Suction Pressure (Bar Gauge without Atmospheric pressure)</th>\n",
       "      <th>Suction Flow (Nominal m3/hr)</th>\n",
       "      <th>Suction Temperature (oC)</th>\n",
       "      <th>Dischrage PreG1e without Atmospheric pressure)</th>\n",
       "      <th>Discharge Temperature (oC)</th>\n",
       "      <th>Gear Box Output Shaft Drive End (DE) X Vibration (μm)</th>\n",
       "      <th>Gear Box Output Shaft Drive End (DE) Y Vibration (μm)</th>\n",
       "      <th>Gear Box Output Shaft Non Drive End (NDE) X Vibration (μm)</th>\n",
       "      <th>Gear Box Output Shaft Non Drive End (NDE) Y Vibration (μm)</th>\n",
       "      <th>Gear Box Input Shaft Non Drive End (NDE) X Vibration (μm)</th>\n",
       "      <th>Gear Box Input Shaft Drive End (NDE) Y Vibration (μm)</th>\n",
       "      <th>Gear Box Input Shaft Drive End (DE) X Vibration (μm)</th>\n",
       "      <th>Gear Box Input Shaft Drive End (DE) Y Vibration (μm)</th>\n",
       "      <th>Suction Vibration in x</th>\n",
       "      <th>Suction Vibration in y</th>\n",
       "      <th>Discharge Vibration in x</th>\n",
       "      <th>Discharge Vibration in y</th>\n",
       "      <th>Compressor speed (RPM)</th>\n",
       "    </tr>\n",
       "  </thead>\n",
       "  <tbody>\n",
       "    <tr>\n",
       "      <th>1</th>\n",
       "      <td>2020-11-07 00:00:00</td>\n",
       "      <td>5.2</td>\n",
       "      <td>26812.4</td>\n",
       "      <td>28.5</td>\n",
       "      <td>7.4</td>\n",
       "      <td>55.2</td>\n",
       "      <td>3.0</td>\n",
       "      <td>4.0</td>\n",
       "      <td>5.0</td>\n",
       "      <td>6.8</td>\n",
       "      <td>6.6</td>\n",
       "      <td>6.60</td>\n",
       "      <td>6.9</td>\n",
       "      <td>7.4</td>\n",
       "      <td>9.727419</td>\n",
       "      <td>10.204235</td>\n",
       "      <td>7.166746</td>\n",
       "      <td>9.235712</td>\n",
       "      <td>8164.449219</td>\n",
       "    </tr>\n",
       "    <tr>\n",
       "      <th>2</th>\n",
       "      <td>2020-11-07 00:20:00</td>\n",
       "      <td>5.2</td>\n",
       "      <td>26836.2</td>\n",
       "      <td>28.4</td>\n",
       "      <td>7.4</td>\n",
       "      <td>55.2</td>\n",
       "      <td>3.0</td>\n",
       "      <td>4.0</td>\n",
       "      <td>5.1</td>\n",
       "      <td>7.0</td>\n",
       "      <td>6.7</td>\n",
       "      <td>6.54</td>\n",
       "      <td>6.8</td>\n",
       "      <td>7.5</td>\n",
       "      <td>9.721112</td>\n",
       "      <td>10.209536</td>\n",
       "      <td>7.135931</td>\n",
       "      <td>9.235712</td>\n",
       "      <td>8161.888184</td>\n",
       "    </tr>\n",
       "    <tr>\n",
       "      <th>3</th>\n",
       "      <td>2020-11-07 00:40:00</td>\n",
       "      <td>5.2</td>\n",
       "      <td>26856.7</td>\n",
       "      <td>28.3</td>\n",
       "      <td>7.4</td>\n",
       "      <td>55.2</td>\n",
       "      <td>3.1</td>\n",
       "      <td>4.0</td>\n",
       "      <td>5.3</td>\n",
       "      <td>7.3</td>\n",
       "      <td>6.7</td>\n",
       "      <td>6.46</td>\n",
       "      <td>5.7</td>\n",
       "      <td>7.4</td>\n",
       "      <td>9.714805</td>\n",
       "      <td>10.214835</td>\n",
       "      <td>7.105114</td>\n",
       "      <td>9.178102</td>\n",
       "      <td>8162.304688</td>\n",
       "    </tr>\n",
       "    <tr>\n",
       "      <th>4</th>\n",
       "      <td>2020-11-07 01:00:00</td>\n",
       "      <td>5.2</td>\n",
       "      <td>26800.2</td>\n",
       "      <td>28.2</td>\n",
       "      <td>7.4</td>\n",
       "      <td>55.2</td>\n",
       "      <td>3.1</td>\n",
       "      <td>4.0</td>\n",
       "      <td>5.1</td>\n",
       "      <td>7.1</td>\n",
       "      <td>6.8</td>\n",
       "      <td>6.49</td>\n",
       "      <td>7.6</td>\n",
       "      <td>7.4</td>\n",
       "      <td>9.708497</td>\n",
       "      <td>10.220136</td>\n",
       "      <td>7.074298</td>\n",
       "      <td>9.116689</td>\n",
       "      <td>8315.385742</td>\n",
       "    </tr>\n",
       "    <tr>\n",
       "      <th>5</th>\n",
       "      <td>2020-11-07 01:20:00</td>\n",
       "      <td>5.2</td>\n",
       "      <td>26852.4</td>\n",
       "      <td>28.1</td>\n",
       "      <td>7.4</td>\n",
       "      <td>55.3</td>\n",
       "      <td>3.1</td>\n",
       "      <td>4.2</td>\n",
       "      <td>5.0</td>\n",
       "      <td>6.7</td>\n",
       "      <td>6.7</td>\n",
       "      <td>6.61</td>\n",
       "      <td>7.6</td>\n",
       "      <td>7.5</td>\n",
       "      <td>9.702189</td>\n",
       "      <td>10.225435</td>\n",
       "      <td>7.043482</td>\n",
       "      <td>9.139559</td>\n",
       "      <td>8217.386719</td>\n",
       "    </tr>\n",
       "  </tbody>\n",
       "</table>\n",
       "</div>"
      ],
      "text/plain": [
       "            Date/Time  \\\n",
       "1 2020-11-07 00:00:00   \n",
       "2 2020-11-07 00:20:00   \n",
       "3 2020-11-07 00:40:00   \n",
       "4 2020-11-07 01:00:00   \n",
       "5 2020-11-07 01:20:00   \n",
       "\n",
       "   Suction Pressure (Bar Gauge without Atmospheric pressure)  \\\n",
       "1                                                5.2           \n",
       "2                                                5.2           \n",
       "3                                                5.2           \n",
       "4                                                5.2           \n",
       "5                                                5.2           \n",
       "\n",
       "   Suction Flow (Nominal m3/hr)  Suction Temperature (oC)  \\\n",
       "1                       26812.4                      28.5   \n",
       "2                       26836.2                      28.4   \n",
       "3                       26856.7                      28.3   \n",
       "4                       26800.2                      28.2   \n",
       "5                       26852.4                      28.1   \n",
       "\n",
       "   Dischrage PreG1e without Atmospheric pressure)  Discharge Temperature (oC)  \\\n",
       "1                                             7.4                        55.2   \n",
       "2                                             7.4                        55.2   \n",
       "3                                             7.4                        55.2   \n",
       "4                                             7.4                        55.2   \n",
       "5                                             7.4                        55.3   \n",
       "\n",
       "   Gear Box Output Shaft Drive End (DE) X Vibration (μm)  \\\n",
       "1                                                3.0       \n",
       "2                                                3.0       \n",
       "3                                                3.1       \n",
       "4                                                3.1       \n",
       "5                                                3.1       \n",
       "\n",
       "   Gear Box Output Shaft Drive End (DE) Y Vibration (μm)  \\\n",
       "1                                                4.0       \n",
       "2                                                4.0       \n",
       "3                                                4.0       \n",
       "4                                                4.0       \n",
       "5                                                4.2       \n",
       "\n",
       "   Gear Box Output Shaft Non Drive End (NDE) X Vibration (μm)  \\\n",
       "1                                                5.0            \n",
       "2                                                5.1            \n",
       "3                                                5.3            \n",
       "4                                                5.1            \n",
       "5                                                5.0            \n",
       "\n",
       "   Gear Box Output Shaft Non Drive End (NDE) Y Vibration (μm)  \\\n",
       "1                                                6.8            \n",
       "2                                                7.0            \n",
       "3                                                7.3            \n",
       "4                                                7.1            \n",
       "5                                                6.7            \n",
       "\n",
       "   Gear Box Input Shaft Non Drive End (NDE) X Vibration (μm)  \\\n",
       "1                                                6.6           \n",
       "2                                                6.7           \n",
       "3                                                6.7           \n",
       "4                                                6.8           \n",
       "5                                                6.7           \n",
       "\n",
       "   Gear Box Input Shaft Drive End (NDE) Y Vibration (μm)  \\\n",
       "1                                               6.60       \n",
       "2                                               6.54       \n",
       "3                                               6.46       \n",
       "4                                               6.49       \n",
       "5                                               6.61       \n",
       "\n",
       "   Gear Box Input Shaft Drive End (DE) X Vibration (μm)  \\\n",
       "1                                                6.9      \n",
       "2                                                6.8      \n",
       "3                                                5.7      \n",
       "4                                                7.6      \n",
       "5                                                7.6      \n",
       "\n",
       "   Gear Box Input Shaft Drive End (DE) Y Vibration (μm)  \\\n",
       "1                                                7.4      \n",
       "2                                                7.5      \n",
       "3                                                7.4      \n",
       "4                                                7.4      \n",
       "5                                                7.5      \n",
       "\n",
       "   Suction Vibration in x  Suction Vibration in y  Discharge Vibration in x  \\\n",
       "1                9.727419               10.204235                  7.166746   \n",
       "2                9.721112               10.209536                  7.135931   \n",
       "3                9.714805               10.214835                  7.105114   \n",
       "4                9.708497               10.220136                  7.074298   \n",
       "5                9.702189               10.225435                  7.043482   \n",
       "\n",
       "   Discharge Vibration in y  Compressor speed (RPM)  \n",
       "1                  9.235712             8164.449219  \n",
       "2                  9.235712             8161.888184  \n",
       "3                  9.178102             8162.304688  \n",
       "4                  9.116689             8315.385742  \n",
       "5                  9.139559             8217.386719  "
      ]
     },
     "execution_count": 329,
     "metadata": {},
     "output_type": "execute_result"
    }
   ],
   "source": [
    "# load the data\n",
    "df1 = pd.read_csv('DataSetForThesis2.csv')\n",
    "\n",
    "del df1[\"Discharge Flow (Nominal m3/hr)\"]\n",
    "\n",
    "# drop the second row\n",
    "df1 = df1.iloc[1:,:]\n",
    "\n",
    "# check the missing values\n",
    "print(f\"Missing Values?: {df1.isna().sum().any()}\")\n",
    "\n",
    "# drop the missing values\n",
    "df1.dropna(inplace=True)\n",
    "\n",
    "print(f\"Missing Values After Dropping?: {df1.isna().sum().any()}\")\n",
    "\n",
    "# check the duplicates\n",
    "print(f\"Number Of Duplicates: {df1.duplicated().sum()}\")\n",
    "\n",
    "print(\" \")\n",
    "\n",
    "# change the data type of the columns to float and date time \n",
    "cols=[i for i in df1.columns if i not in ['Date/Time']]\n",
    "for col in cols:\n",
    "    df1[col]=pd.to_numeric(df1[col])\n",
    "    \n",
    "df1['Date/Time'] = pd.to_datetime(df1['Date/Time'])\n",
    "\n",
    "df1.head()"
   ]
  },
  {
   "cell_type": "code",
   "execution_count": 330,
   "id": "bee21751-d5cd-4a43-bf3d-396273a35194",
   "metadata": {},
   "outputs": [
    {
     "name": "stdout",
     "output_type": "stream",
     "text": [
      "This dataset has 18 features with 26281 Values for each feature.\n",
      "AxesSubplot(0.125,0.125;0.775x0.755)\n"
     ]
    },
    {
     "data": {
      "text/plain": [
       "<Figure size 720x576 with 0 Axes>"
      ]
     },
     "metadata": {},
     "output_type": "display_data"
    },
    {
     "data": {
      "image/png": "[encoded data removed]",
      "text/plain": [
       "<Figure size 432x288 with 1 Axes>"
      ]
     },
     "metadata": {
      "needs_background": "light"
     },
     "output_type": "display_data"
    }
   ],
   "source": [
    "feature='Compressor speed (RPM)'\n",
    "\n",
    "print(f\"This dataset has {df1.shape[1]-1} features with {df1.shape[0]} Values for each feature.\")\n",
    "plt.figure(figsize=(10,8))\n",
    "print(df1.plot(x='Date/Time', y=feature))"
   ]
  },
  {
   "cell_type": "code",
   "execution_count": 331,
   "id": "96525224-c270-4b90-a794-b18f01c34216",
   "metadata": {},
   "outputs": [
    {
     "data": {
      "text/html": [
       "<div>\n",
       "<style scoped>\n",
       "    .dataframe tbody tr th:only-of-type {\n",
       "        vertical-align: middle;\n",
       "    }\n",
       "\n",
       "    .dataframe tbody tr th {\n",
       "        vertical-align: top;\n",
       "    }\n",
       "\n",
       "    .dataframe thead th {\n",
       "        text-align: right;\n",
       "    }\n",
       "</style>\n",
       "<table border=\"1\" class=\"dataframe\">\n",
       "  <thead>\n",
       "    <tr style=\"text-align: right;\">\n",
       "      <th></th>\n",
       "      <th>Compressor speed (RPM)</th>\n",
       "    </tr>\n",
       "  </thead>\n",
       "  <tbody>\n",
       "    <tr>\n",
       "      <th>1</th>\n",
       "      <td>8164.449219</td>\n",
       "    </tr>\n",
       "    <tr>\n",
       "      <th>2</th>\n",
       "      <td>8161.888184</td>\n",
       "    </tr>\n",
       "    <tr>\n",
       "      <th>3</th>\n",
       "      <td>8162.304688</td>\n",
       "    </tr>\n",
       "    <tr>\n",
       "      <th>4</th>\n",
       "      <td>8315.385742</td>\n",
       "    </tr>\n",
       "    <tr>\n",
       "      <th>5</th>\n",
       "      <td>8217.386719</td>\n",
       "    </tr>\n",
       "  </tbody>\n",
       "</table>\n",
       "</div>"
      ],
      "text/plain": [
       "   Compressor speed (RPM)\n",
       "1             8164.449219\n",
       "2             8161.888184\n",
       "3             8162.304688\n",
       "4             8315.385742\n",
       "5             8217.386719"
      ]
     },
     "execution_count": 331,
     "metadata": {},
     "output_type": "execute_result"
    }
   ],
   "source": [
    "df1=df1[[feature]]\n",
    "df1.head()"
   ]
  },
  {
   "cell_type": "code",
   "execution_count": 332,
   "id": "0fecebfd-4349-4b10-9ff3-cd35c0567f35",
   "metadata": {},
   "outputs": [
    {
     "name": "stdout",
     "output_type": "stream",
     "text": [
      "We have 17608 Training Sets and 8673 Testing Sets\n"
     ]
    }
   ],
   "source": [
    "values=df1.shape[0]\n",
    "training=0.67 #Use 0.8 for default\n",
    "what_to_train=values*training\n",
    "\n",
    "df1_train=df1[:int(what_to_train)]\n",
    "df1_test=df1[int(what_to_train):]\n",
    "\n",
    "print(f\"We have {len(df1_train)} Training Sets and {len(df1_test)} Testing Sets\") "
   ]
  },
  {
   "cell_type": "code",
   "execution_count": 333,
   "id": "87b3b9ff-0b01-41a2-8495-f6272f2d2e73",
   "metadata": {},
   "outputs": [
    {
     "name": "stdout",
     "output_type": "stream",
     "text": [
      "<class 'numpy.ndarray'>\n"
     ]
    },
    {
     "data": {
      "text/plain": [
       "array([[0.84735862],\n",
       "       [0.84709282],\n",
       "       [0.84713604],\n",
       "       ...,\n",
       "       [0.22998159],\n",
       "       [0.23004423],\n",
       "       [0.23010687]])"
      ]
     },
     "execution_count": 333,
     "metadata": {},
     "output_type": "execute_result"
    }
   ],
   "source": [
    "from sklearn.preprocessing import MinMaxScaler\n",
    "sc=MinMaxScaler(feature_range=(0,1))\n",
    "df1_scaled_train=sc.fit_transform(df1_train)\n",
    "print(type(df1_scaled_train))\n",
    "df1_scaled_train"
   ]
  },
  {
   "cell_type": "code",
   "execution_count": 334,
   "id": "c79eb7bf-c59d-4766-a217-9ff97cade321",
   "metadata": {},
   "outputs": [
    {
     "data": {
      "text/plain": [
       "17608"
      ]
     },
     "execution_count": 334,
     "metadata": {},
     "output_type": "execute_result"
    }
   ],
   "source": [
    "df1_scaled_train.shape[0]"
   ]
  },
  {
   "cell_type": "code",
   "execution_count": 335,
   "id": "a7794228-5f1b-48a5-bc6e-ed32c8fe4fe0",
   "metadata": {},
   "outputs": [],
   "source": [
    "hops=14\n",
    "total_len=df1_scaled_train.shape[0]\n",
    "X_train=[]\n",
    "y_train=[]\n",
    "for i in range(hops, total_len):\n",
    "    X_train.append(df1_scaled_train[i-hops:i])\n",
    "    y_train.append(df1_scaled_train[i])\n",
    "X_train=np.array(X_train)\n",
    "y_train=np.array(y_train)"
   ]
  },
  {
   "cell_type": "code",
   "execution_count": 336,
   "id": "a3dca4d8-abc3-4c70-ac7a-4c92edd344e0",
   "metadata": {},
   "outputs": [
    {
     "name": "stdout",
     "output_type": "stream",
     "text": [
      "17594\n",
      "17594\n",
      "---------\n",
      "The dimensions for X Train are 17594, 14, 1\n",
      "The dimensions for y Train are 17594, 1\n"
     ]
    }
   ],
   "source": [
    "print(len(X_train))\n",
    "print(len(y_train))\n",
    "print(\"---------\")\n",
    "print(f\"The dimensions for X Train are {X_train.shape[0]}, {X_train.shape[1]}, {X_train.shape[2]}\")\n",
    "print(f\"The dimensions for y Train are {y_train.shape[0]}, {y_train.shape[1]}\")\n",
    "\n",
    "m1_len=X_train.shape[0]\n",
    "m2_len=X_train.shape[1]"
   ]
  },
  {
   "cell_type": "code",
   "execution_count": 337,
   "id": "c1205ef4-4bd1-4559-95b2-810d6f85a410",
   "metadata": {},
   "outputs": [],
   "source": [
    "from keras.models import Sequential\n",
    "from keras.layers import LSTM\n",
    "from keras.layers import Dense\n",
    "from keras.layers import Flatten, Dropout"
   ]
  },
  {
   "cell_type": "code",
   "execution_count": 338,
   "id": "60fb8bf4-f9aa-43bb-9db7-d2fed7809bca",
   "metadata": {},
   "outputs": [],
   "source": [
    "model=Sequential()\n",
    "###########Adding Layer 1 LSTM##############\n",
    "model.add(LSTM(units=50, return_sequences=True, input_shape=(X_train.shape[1],1)))\n",
    "model.add(Dropout(0.2))\n",
    "###########Adding Layer 2 LSTM############## \n",
    "model.add(LSTM(units=50))\n",
    "model.add(Dropout(0.2))\n",
    "###########Adding Dense Layer##############\n",
    "model.add(Dense(1))\n",
    "model.compile(optimizer='adam',loss='mean_squared_error')               "
   ]
  },
  {
   "cell_type": "code",
   "execution_count": 339,
   "id": "cc3d5ff4-2847-403b-9e1c-38441ac4a8d3",
   "metadata": {
    "scrolled": true,
    "tags": []
   },
   "outputs": [
    {
     "name": "stdout",
     "output_type": "stream",
     "text": [
      "Epoch 1/75\n",
      "550/550 [==============================] - 9s 12ms/step - loss: 0.0046\n",
      "Epoch 2/75\n",
      "550/550 [==============================] - 7s 12ms/step - loss: 0.0023\n",
      "Epoch 3/75\n",
      "550/550 [==============================] - 7s 12ms/step - loss: 0.0019\n",
      "Epoch 4/75\n",
      "550/550 [==============================] - 7s 12ms/step - loss: 0.0016\n",
      "Epoch 5/75\n",
      "550/550 [==============================] - 7s 12ms/step - loss: 0.0014\n",
      "Epoch 6/75\n",
      "550/550 [==============================] - 7s 12ms/step - loss: 0.0014\n",
      "Epoch 7/75\n",
      "550/550 [==============================] - 7s 12ms/step - loss: 0.0013\n",
      "Epoch 8/75\n",
      "550/550 [==============================] - 7s 12ms/step - loss: 0.0013\n",
      "Epoch 9/75\n",
      "550/550 [==============================] - 7s 12ms/step - loss: 0.0013\n",
      "Epoch 10/75\n",
      "550/550 [==============================] - 7s 12ms/step - loss: 0.0013\n",
      "Epoch 11/75\n",
      "550/550 [==============================] - 7s 12ms/step - loss: 0.0012\n",
      "Epoch 12/75\n",
      "550/550 [==============================] - 7s 12ms/step - loss: 0.0012\n",
      "Epoch 13/75\n",
      "550/550 [==============================] - 7s 12ms/step - loss: 0.0012\n",
      "Epoch 14/75\n",
      "550/550 [==============================] - 7s 12ms/step - loss: 0.0011\n",
      "Epoch 15/75\n",
      "550/550 [==============================] - 7s 12ms/step - loss: 0.0011\n",
      "Epoch 16/75\n",
      "550/550 [==============================] - 7s 12ms/step - loss: 0.0011\n",
      "Epoch 17/75\n",
      "550/550 [==============================] - 7s 12ms/step - loss: 0.0011\n",
      "Epoch 18/75\n",
      "550/550 [==============================] - 7s 12ms/step - loss: 0.0011\n",
      "Epoch 19/75\n",
      "550/550 [==============================] - 7s 12ms/step - loss: 0.0011\n",
      "Epoch 20/75\n",
      "550/550 [==============================] - 7s 12ms/step - loss: 0.0011\n",
      "Epoch 21/75\n",
      "550/550 [==============================] - 7s 12ms/step - loss: 0.0011\n",
      "Epoch 22/75\n",
      "550/550 [==============================] - 7s 12ms/step - loss: 0.0011\n",
      "Epoch 23/75\n",
      "550/550 [==============================] - 7s 12ms/step - loss: 0.0010\n",
      "Epoch 24/75\n",
      "550/550 [==============================] - 7s 12ms/step - loss: 0.0010\n",
      "Epoch 25/75\n",
      "550/550 [==============================] - 7s 12ms/step - loss: 0.0011\n",
      "Epoch 26/75\n",
      "550/550 [==============================] - 7s 12ms/step - loss: 0.0011\n",
      "Epoch 27/75\n",
      "550/550 [==============================] - 7s 12ms/step - loss: 0.0010\n",
      "Epoch 28/75\n",
      "550/550 [==============================] - 7s 12ms/step - loss: 0.0010\n",
      "Epoch 29/75\n",
      "550/550 [==============================] - 7s 12ms/step - loss: 0.0010\n",
      "Epoch 30/75\n",
      "550/550 [==============================] - 7s 12ms/step - loss: 9.8285e-04\n",
      "Epoch 31/75\n",
      "550/550 [==============================] - 7s 12ms/step - loss: 9.7066e-04\n",
      "Epoch 32/75\n",
      "550/550 [==============================] - 7s 12ms/step - loss: 0.0010\n",
      "Epoch 33/75\n",
      "550/550 [==============================] - 7s 12ms/step - loss: 9.5478e-04\n",
      "Epoch 34/75\n",
      "550/550 [==============================] - 7s 12ms/step - loss: 9.7477e-04\n",
      "Epoch 35/75\n",
      "550/550 [==============================] - 7s 12ms/step - loss: 0.0010\n",
      "Epoch 36/75\n",
      "550/550 [==============================] - 7s 12ms/step - loss: 9.5074e-04\n",
      "Epoch 37/75\n",
      "550/550 [==============================] - 7s 12ms/step - loss: 9.3891e-04\n",
      "Epoch 38/75\n",
      "550/550 [==============================] - 7s 12ms/step - loss: 0.0010\n",
      "Epoch 39/75\n",
      "550/550 [==============================] - 7s 12ms/step - loss: 9.7952e-04\n",
      "Epoch 40/75\n",
      "550/550 [==============================] - 7s 12ms/step - loss: 9.6227e-04\n",
      "Epoch 41/75\n",
      "550/550 [==============================] - 7s 12ms/step - loss: 9.2135e-04\n",
      "Epoch 42/75\n",
      "550/550 [==============================] - 7s 12ms/step - loss: 9.7176e-04\n",
      "Epoch 43/75\n",
      "550/550 [==============================] - 7s 12ms/step - loss: 9.8662e-04\n",
      "Epoch 44/75\n",
      "550/550 [==============================] - 7s 13ms/step - loss: 9.4965e-04\n",
      "Epoch 45/75\n",
      "550/550 [==============================] - 7s 12ms/step - loss: 9.7755e-04\n",
      "Epoch 46/75\n",
      "550/550 [==============================] - 7s 13ms/step - loss: 9.9031e-04\n",
      "Epoch 47/75\n",
      "550/550 [==============================] - 7s 13ms/step - loss: 9.4341e-04\n",
      "Epoch 48/75\n",
      "550/550 [==============================] - 7s 13ms/step - loss: 9.3142e-04\n",
      "Epoch 49/75\n",
      "550/550 [==============================] - 7s 13ms/step - loss: 9.3799e-04\n",
      "Epoch 50/75\n",
      "550/550 [==============================] - 7s 14ms/step - loss: 9.4342e-04\n",
      "Epoch 51/75\n",
      "550/550 [==============================] - 7s 13ms/step - loss: 9.6638e-04\n",
      "Epoch 52/75\n",
      "550/550 [==============================] - 7s 14ms/step - loss: 9.4859e-04\n",
      "Epoch 53/75\n",
      "550/550 [==============================] - 7s 13ms/step - loss: 0.0010\n",
      "Epoch 54/75\n",
      "550/550 [==============================] - 7s 13ms/step - loss: 9.6054e-04\n",
      "Epoch 55/75\n",
      "550/550 [==============================] - 7s 13ms/step - loss: 9.4450e-04\n",
      "Epoch 56/75\n",
      "550/550 [==============================] - 7s 13ms/step - loss: 9.2569e-04\n",
      "Epoch 57/75\n",
      "550/550 [==============================] - 7s 13ms/step - loss: 9.1973e-04\n",
      "Epoch 58/75\n",
      "550/550 [==============================] - 8s 14ms/step - loss: 9.2740e-04\n",
      "Epoch 59/75\n",
      "550/550 [==============================] - 7s 13ms/step - loss: 9.3474e-04\n",
      "Epoch 60/75\n",
      "550/550 [==============================] - 7s 14ms/step - loss: 9.3276e-04\n",
      "Epoch 61/75\n",
      "550/550 [==============================] - 8s 14ms/step - loss: 9.1420e-04\n",
      "Epoch 62/75\n",
      "550/550 [==============================] - 7s 13ms/step - loss: 9.1818e-04\n",
      "Epoch 63/75\n",
      "550/550 [==============================] - 7s 13ms/step - loss: 9.2387e-04\n",
      "Epoch 64/75\n",
      "550/550 [==============================] - 7s 13ms/step - loss: 9.5049e-04\n",
      "Epoch 65/75\n",
      "550/550 [==============================] - 7s 13ms/step - loss: 9.1926e-04\n",
      "Epoch 66/75\n",
      "550/550 [==============================] - 7s 13ms/step - loss: 9.1984e-04\n",
      "Epoch 67/75\n",
      "550/550 [==============================] - 7s 13ms/step - loss: 9.2982e-04\n",
      "Epoch 68/75\n",
      "550/550 [==============================] - 8s 14ms/step - loss: 9.0608e-04\n",
      "Epoch 69/75\n",
      "550/550 [==============================] - 7s 13ms/step - loss: 9.1259e-04\n",
      "Epoch 70/75\n",
      "550/550 [==============================] - 7s 14ms/step - loss: 9.5293e-04\n",
      "Epoch 71/75\n",
      "550/550 [==============================] - 7s 13ms/step - loss: 8.9289e-04\n",
      "Epoch 72/75\n",
      "550/550 [==============================] - 7s 13ms/step - loss: 8.9559e-04\n",
      "Epoch 73/75\n",
      "550/550 [==============================] - 7s 13ms/step - loss: 9.1363e-04\n",
      "Epoch 74/75\n",
      "550/550 [==============================] - 8s 14ms/step - loss: 9.1358e-04\n",
      "Epoch 75/75\n",
      "550/550 [==============================] - 7s 13ms/step - loss: 9.4691e-04\n"
     ]
    },
    {
     "data": {
      "text/plain": [
       "<keras.callbacks.History at 0x7fedcaf3dcd0>"
      ]
     },
     "execution_count": 339,
     "metadata": {},
     "output_type": "execute_result"
    }
   ],
   "source": [
    "model.fit(X_train, y_train, epochs=75, batch_size=32)"
   ]
  },
  {
   "cell_type": "code",
   "execution_count": 340,
   "id": "73f70677-3a0f-45bb-92b4-6be754d774fb",
   "metadata": {},
   "outputs": [
    {
     "name": "stdout",
     "output_type": "stream",
     "text": [
      "<class 'numpy.ndarray'>\n",
      "17608\n",
      "8659\n",
      "---------\n",
      "The dimensions for X Test are 8659, 14, 1\n"
     ]
    }
   ],
   "source": [
    "####### TESTING #######\n",
    "df1_scaled_test=sc.fit_transform(df1_test)\n",
    "print(type(df1_scaled_test))\n",
    "df1_scaled_test\n",
    "\n",
    "print(df1_scaled_train.shape[0])\n",
    "\n",
    "total_len=df1_scaled_test.shape[0]\n",
    "X_test=[]\n",
    "\n",
    "for i in range(hops, total_len):\n",
    "    X_test.append(df1_scaled_test[i-hops:i])\n",
    "X_test=np.array(X_test)\n",
    "\n",
    "print(len(X_test))\n",
    "#print(len(y_test))\n",
    "print(\"---------\")\n",
    "print(f\"The dimensions for X Test are {X_test.shape[0]}, {X_test.shape[1]}, {X_test.shape[2]}\")\n",
    "#print(f\"The dimensions for y Test are {y_test.shape[0]}, {y_test.shape[1]}\")\n",
    "\n",
    "m1b_len=X_test.shape[0]\n",
    "m2b_len=X_test.shape[1]"
   ]
  },
  {
   "cell_type": "code",
   "execution_count": 341,
   "id": "b01cb26f-ca3f-4517-aeb6-c4d78c184142",
   "metadata": {},
   "outputs": [
    {
     "name": "stdout",
     "output_type": "stream",
     "text": [
      "271/271 [==============================] - 1s 3ms/step\n"
     ]
    }
   ],
   "source": [
    "y_test_pred=model.predict(X_test)"
   ]
  },
  {
   "cell_type": "code",
   "execution_count": 342,
   "id": "b777a124-b603-4ecb-9dff-87d5c2134b80",
   "metadata": {},
   "outputs": [
    {
     "name": "stdout",
     "output_type": "stream",
     "text": [
      "8659\n"
     ]
    },
    {
     "data": {
      "text/plain": [
       "array([[2248.156   ],\n",
       "       [2248.785   ],\n",
       "       [2249.4138  ],\n",
       "       ...,\n",
       "       [ -52.138813],\n",
       "       [ -52.138813],\n",
       "       [ -52.138813]], dtype=float32)"
      ]
     },
     "execution_count": 342,
     "metadata": {},
     "output_type": "execute_result"
    }
   ],
   "source": [
    "print(len(y_test_pred))\n",
    "y_test_pred\n",
    "\n",
    "y_test_pred_actual=sc.inverse_transform(y_test_pred)\n",
    "y_test_pred_actual"
   ]
  },
  {
   "cell_type": "code",
   "execution_count": 343,
   "id": "bd6466ac-0a45-41c1-988b-023f8b08bfac",
   "metadata": {},
   "outputs": [],
   "source": [
    "test_pred_1=pd.DataFrame(y_test_pred_actual, columns=['Predicted'])\n",
    "test_actual_1=df1_test[[feature]]\n",
    "test_actual_1 = test_actual_1.reset_index(level=0, drop=True)\n",
    "test_pred_1 = test_pred_1.reset_index(level=0, drop=True)"
   ]
  },
  {
   "cell_type": "code",
   "execution_count": 344,
   "id": "2e048ec1-c68b-4642-9d17-e6d3dcd0109e",
   "metadata": {},
   "outputs": [
    {
     "data": {
      "text/html": [
       "<div>\n",
       "<style scoped>\n",
       "    .dataframe tbody tr th:only-of-type {\n",
       "        vertical-align: middle;\n",
       "    }\n",
       "\n",
       "    .dataframe tbody tr th {\n",
       "        vertical-align: top;\n",
       "    }\n",
       "\n",
       "    .dataframe thead th {\n",
       "        text-align: right;\n",
       "    }\n",
       "</style>\n",
       "<table border=\"1\" class=\"dataframe\">\n",
       "  <thead>\n",
       "    <tr style=\"text-align: right;\">\n",
       "      <th></th>\n",
       "      <th>Compressor speed (RPM)</th>\n",
       "    </tr>\n",
       "  </thead>\n",
       "  <tbody>\n",
       "    <tr>\n",
       "      <th>0</th>\n",
       "      <td>2217.723633</td>\n",
       "    </tr>\n",
       "    <tr>\n",
       "      <th>1</th>\n",
       "      <td>2218.327148</td>\n",
       "    </tr>\n",
       "    <tr>\n",
       "      <th>2</th>\n",
       "      <td>2218.930664</td>\n",
       "    </tr>\n",
       "    <tr>\n",
       "      <th>3</th>\n",
       "      <td>2219.534180</td>\n",
       "    </tr>\n",
       "    <tr>\n",
       "      <th>4</th>\n",
       "      <td>2220.137695</td>\n",
       "    </tr>\n",
       "    <tr>\n",
       "      <th>...</th>\n",
       "      <td>...</td>\n",
       "    </tr>\n",
       "    <tr>\n",
       "      <th>8668</th>\n",
       "      <td>0.000000</td>\n",
       "    </tr>\n",
       "    <tr>\n",
       "      <th>8669</th>\n",
       "      <td>0.000000</td>\n",
       "    </tr>\n",
       "    <tr>\n",
       "      <th>8670</th>\n",
       "      <td>0.000000</td>\n",
       "    </tr>\n",
       "    <tr>\n",
       "      <th>8671</th>\n",
       "      <td>0.000000</td>\n",
       "    </tr>\n",
       "    <tr>\n",
       "      <th>8672</th>\n",
       "      <td>0.000000</td>\n",
       "    </tr>\n",
       "  </tbody>\n",
       "</table>\n",
       "<p>8673 rows × 1 columns</p>\n",
       "</div>"
      ],
      "text/plain": [
       "      Compressor speed (RPM)\n",
       "0                2217.723633\n",
       "1                2218.327148\n",
       "2                2218.930664\n",
       "3                2219.534180\n",
       "4                2220.137695\n",
       "...                      ...\n",
       "8668                0.000000\n",
       "8669                0.000000\n",
       "8670                0.000000\n",
       "8671                0.000000\n",
       "8672                0.000000\n",
       "\n",
       "[8673 rows x 1 columns]"
      ]
     },
     "execution_count": 344,
     "metadata": {},
     "output_type": "execute_result"
    }
   ],
   "source": [
    "test_actual_1"
   ]
  },
  {
   "cell_type": "code",
   "execution_count": 345,
   "id": "2b1a874e-0a42-43b3-bca9-cea2d31be460",
   "metadata": {},
   "outputs": [
    {
     "data": {
      "text/html": [
       "<div>\n",
       "<style scoped>\n",
       "    .dataframe tbody tr th:only-of-type {\n",
       "        vertical-align: middle;\n",
       "    }\n",
       "\n",
       "    .dataframe tbody tr th {\n",
       "        vertical-align: top;\n",
       "    }\n",
       "\n",
       "    .dataframe thead th {\n",
       "        text-align: right;\n",
       "    }\n",
       "</style>\n",
       "<table border=\"1\" class=\"dataframe\">\n",
       "  <thead>\n",
       "    <tr style=\"text-align: right;\">\n",
       "      <th></th>\n",
       "      <th>Predicted</th>\n",
       "    </tr>\n",
       "  </thead>\n",
       "  <tbody>\n",
       "    <tr>\n",
       "      <th>0</th>\n",
       "      <td>2248.156006</td>\n",
       "    </tr>\n",
       "    <tr>\n",
       "      <th>1</th>\n",
       "      <td>2248.784912</td>\n",
       "    </tr>\n",
       "    <tr>\n",
       "      <th>2</th>\n",
       "      <td>2249.413818</td>\n",
       "    </tr>\n",
       "    <tr>\n",
       "      <th>3</th>\n",
       "      <td>2250.042725</td>\n",
       "    </tr>\n",
       "    <tr>\n",
       "      <th>4</th>\n",
       "      <td>2250.671387</td>\n",
       "    </tr>\n",
       "    <tr>\n",
       "      <th>...</th>\n",
       "      <td>...</td>\n",
       "    </tr>\n",
       "    <tr>\n",
       "      <th>8654</th>\n",
       "      <td>-52.138813</td>\n",
       "    </tr>\n",
       "    <tr>\n",
       "      <th>8655</th>\n",
       "      <td>-52.138813</td>\n",
       "    </tr>\n",
       "    <tr>\n",
       "      <th>8656</th>\n",
       "      <td>-52.138813</td>\n",
       "    </tr>\n",
       "    <tr>\n",
       "      <th>8657</th>\n",
       "      <td>-52.138813</td>\n",
       "    </tr>\n",
       "    <tr>\n",
       "      <th>8658</th>\n",
       "      <td>-52.138813</td>\n",
       "    </tr>\n",
       "  </tbody>\n",
       "</table>\n",
       "<p>8659 rows × 1 columns</p>\n",
       "</div>"
      ],
      "text/plain": [
       "        Predicted\n",
       "0     2248.156006\n",
       "1     2248.784912\n",
       "2     2249.413818\n",
       "3     2250.042725\n",
       "4     2250.671387\n",
       "...           ...\n",
       "8654   -52.138813\n",
       "8655   -52.138813\n",
       "8656   -52.138813\n",
       "8657   -52.138813\n",
       "8658   -52.138813\n",
       "\n",
       "[8659 rows x 1 columns]"
      ]
     },
     "execution_count": 345,
     "metadata": {},
     "output_type": "execute_result"
    }
   ],
   "source": [
    "test_pred_1"
   ]
  },
  {
   "cell_type": "code",
   "execution_count": 346,
   "id": "894c220f-abad-4096-a044-b490863407fd",
   "metadata": {},
   "outputs": [],
   "source": [
    "# full_test_actual_1=pd.concat([test_pred_1, test_actual_1])\n",
    "# full_test_actual_1"
   ]
  },
  {
   "cell_type": "code",
   "execution_count": 347,
   "id": "b2075830-cc81-417e-bf4d-1432ec014263",
   "metadata": {},
   "outputs": [],
   "source": [
    "# plt.figure(figsize=(40,10))\n",
    "# plt.plot(full_test_actual_1[feature],color='red', label='Actual Value')\n",
    "# plt.plot(full_test_actual_1['Predicted'],color='blue', label='Predicted Value')\n",
    "# plt.legend()\n",
    "# plt.grid()\n",
    "# plt.plot()"
   ]
  },
  {
   "cell_type": "code",
   "execution_count": 348,
   "id": "ba300b58-2b17-4b3d-bcea-788617ef8550",
   "metadata": {},
   "outputs": [
    {
     "data": {
      "text/plain": [
       "[]"
      ]
     },
     "execution_count": 348,
     "metadata": {},
     "output_type": "execute_result"
    },
    {
     "data": {
      "image/png": "[encoded data removed]",
      "text/plain": [
       "<Figure size 2880x720 with 1 Axes>"
      ]
     },
     "metadata": {
      "needs_background": "light"
     },
     "output_type": "display_data"
    }
   ],
   "source": [
    "plt.figure(figsize=(40,10))\n",
    "plt.plot(test_actual_1,color='red', label='Actual Value')\n",
    "plt.plot(test_pred_1,color='blue', label='Predicted Value', linestyle='dashdot')\n",
    "plt.legend()\n",
    "plt.grid()\n",
    "plt.plot()"
   ]
  },
  {
   "cell_type": "code",
   "execution_count": 349,
   "id": "cc0219ae-5c7e-4bbc-8b47-c3fb9f752bef",
   "metadata": {},
   "outputs": [],
   "source": [
    "# full_test_actual_1[\"Predicted\"]"
   ]
  },
  {
   "cell_type": "code",
   "execution_count": 350,
   "id": "7f75d682-2cbc-4e2f-8aa6-db6b163d733f",
   "metadata": {},
   "outputs": [],
   "source": [
    "def MSE(actual, predicted):\n",
    "    actual=np.array(actual)\n",
    "    predicted=np.array(predicted)\n",
    "    \n",
    "    SE = (actual - predicted) ** 2\n",
    "    MSE = np.mean(SE)\n",
    "    \n",
    "    return MSE"
   ]
  },
  {
   "cell_type": "code",
   "execution_count": 351,
   "id": "799b3bda-95e5-49c3-9d76-79e346f8f8f7",
   "metadata": {},
   "outputs": [
    {
     "data": {
      "text/plain": [
       "746454.7303210767"
      ]
     },
     "execution_count": 351,
     "metadata": {},
     "output_type": "execute_result"
    }
   ],
   "source": [
    "limit=len(test_pred_1)\n",
    "mean_squared_error=MSE(test_actual_1[:limit], test_pred_1[:limit])\n",
    "mean_squared_error"
   ]
  },
  {
   "cell_type": "code",
   "execution_count": 352,
   "id": "77472ea8-1cbe-4ae3-adcf-dd172bcebdc5",
   "metadata": {},
   "outputs": [
    {
     "name": "stdout",
     "output_type": "stream",
     "text": [
      "The Mean Squared Error after calculating the Univariative LSTM Model for the Compressor speed (RPM) is 746454.73\n"
     ]
    }
   ],
   "source": [
    "print(f\"The Mean Squared Error after calculating the Univariative LSTM Model for the {feature} is {round(mean_squared_error, 2)}\")"
   ]
  },
  {
   "cell_type": "code",
   "execution_count": null,
   "id": "23f9509a-8432-4a5b-9736-ad233654bb92",
   "metadata": {},
   "outputs": [],
   "source": []
  }
 ],
 "metadata": {
  "kernelspec": {
   "display_name": "Python 3 (ipykernel)",
   "language": "python",
   "name": "python3"
  },
  "language_info": {
   "codemirror_mode": {
    "name": "ipython",
    "version": 3
   },
   "file_extension": ".py",
   "mimetype": "text/x-python",
   "name": "python",
   "nbconvert_exporter": "python",
   "pygments_lexer": "ipython3",
   "version": "3.9.7"
  }
 },
 "nbformat": 4,
 "nbformat_minor": 5
}
