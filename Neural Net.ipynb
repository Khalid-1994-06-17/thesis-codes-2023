{
 "cells": [
  {
   "cell_type": "markdown",
   "id": "ade83cdd-dd2d-43dd-8728-8268b4b9f68b",
   "metadata": {},
   "source": [
    "|  | Inputs | Outputs |\n",
    "| --- | --- | --- |\n",
    "| Example 1 | [0,  0,  1] | 0 |\n",
    "| Example 2 | [1,  1,  1] | 1 |\n",
    "| Example 3 | [1,  0,  1] | 1 |\n",
    "| Example 4 | [0,  1,  1] | 0 |\n",
    "| New Situation | [1,  0,  0] | **?** |"
   ]
  },
  {
   "cell_type": "code",
   "execution_count": 1,
   "id": "94a4bd10-4c6f-4433-84df-784c6577503d",
   "metadata": {},
   "outputs": [],
   "source": [
    "import numpy as np\n",
    "\n",
    "class NeuralNetwork():\n",
    "    \n",
    "    def __init__(self):\n",
    "        np.random.seed(1)\n",
    "        \n",
    "        self.synaptic_weights = 2 * np.random.random((3,1)) - 1\n",
    "        \n",
    "    def sigmoid(self, x):\n",
    "        return 1 / (1+np.exp(-x))\n",
    "    \n",
    "    def sigmoid_derivative(self, x):\n",
    "        return x * (1 - x)\n",
    "    \n",
    "    def train(self, training_inputs, training_outputs, training_iterations):\n",
    "        \n",
    "        for iteration in range(training_iterations):\n",
    "    \n",
    "            output = self.think(training_inputs)\n",
    "            error = training_outputs - output\n",
    "            adjustments = np.dot(training_inputs.T, error * self.sigmoid_derivative(output))\n",
    "            self.synaptic_weights += adjustments\n",
    "            \n",
    "    def think(self, inputs):\n",
    "        \n",
    "        inputs = inputs.astype(float)\n",
    "        output = self.sigmoid(np.dot(inputs, self.synaptic_weights))\n",
    "        \n",
    "        return output"
   ]
  },
  {
   "cell_type": "code",
   "execution_count": 2,
   "id": "72cc4a5b-1954-455d-9644-168ee8bf673e",
   "metadata": {},
   "outputs": [
    {
     "name": "stdout",
     "output_type": "stream",
     "text": [
      "Random Synaptic Weights: \n",
      "-------------------------\n",
      "[[-0.16595599]\n",
      " [ 0.44064899]\n",
      " [-0.99977125]]\n",
      "  \n",
      "Synaptic Weights After Training: \n",
      "---------------------------------\n",
      "[[ 9.67299303]\n",
      " [-0.2078435 ]\n",
      " [-4.62963669]]\n",
      "  \n"
     ]
    },
    {
     "name": "stdin",
     "output_type": "stream",
     "text": [
      "Input 1:  0\n",
      "Input 2:  0\n",
      "Input 3:  1\n"
     ]
    },
    {
     "name": "stdout",
     "output_type": "stream",
     "text": [
      "New Situation: Input Data =  0 0 1\n",
      "-------------------------------------\n",
      "Output Data: \n",
      "-------------\n",
      "[0.009664]\n",
      "  \n"
     ]
    }
   ],
   "source": [
    "if __name__== \"__main__\":\n",
    "    \n",
    "    neural_network = NeuralNetwork()\n",
    "    \n",
    "    print(\"Random Synaptic Weights: \")\n",
    "    print(\"-------------------------\")\n",
    "    print(neural_network.synaptic_weights)\n",
    "    print(\"  \")\n",
    "    training_inputs = np.array([[0,0,1],\n",
    "                            [1,1,1],\n",
    "                            [1,0,1],\n",
    "                            [0,1,1]])\n",
    "\n",
    "    training_outputs = np.array([[0,1,1,0]]).T # Taken from the outputs\n",
    "    \n",
    "    neural_network.train(training_inputs, training_outputs, 10000)\n",
    "    \n",
    "    print(\"Synaptic Weights After Training: \")\n",
    "    print(\"---------------------------------\")\n",
    "    print(neural_network.synaptic_weights)\n",
    "    print(\"  \")\n",
    "    \n",
    "    A = str(input(\"Input 1: \"))\n",
    "    B = str(input(\"Input 2: \"))\n",
    "    C = str(input(\"Input 3: \"))\n",
    "    \n",
    "    print(\"New Situation: Input Data = \", A, B, C)\n",
    "    print(\"-------------------------------------\")\n",
    "    print(\"Output Data: \")\n",
    "    print(\"-------------\")\n",
    "    print(neural_network.think(np.array([A,B,C])))\n",
    "    print(\"  \")"
   ]
  },
  {
   "cell_type": "code",
   "execution_count": null,
   "id": "a4ad4b49-343e-491c-a944-e22f111f96b8",
   "metadata": {},
   "outputs": [],
   "source": []
  }
 ],
 "metadata": {
  "kernelspec": {
   "display_name": "Python 3 (ipykernel)",
   "language": "python",
   "name": "python3"
  },
  "language_info": {
   "codemirror_mode": {
    "name": "ipython",
    "version": 3
   },
   "file_extension": ".py",
   "mimetype": "text/x-python",
   "name": "python",
   "nbconvert_exporter": "python",
   "pygments_lexer": "ipython3",
   "version": "3.9.7"
  }
 },
 "nbformat": 4,
 "nbformat_minor": 5
}
