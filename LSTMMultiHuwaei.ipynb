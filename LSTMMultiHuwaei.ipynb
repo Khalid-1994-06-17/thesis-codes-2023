{
 "cells": [
  {
   "cell_type": "markdown",
   "id": "3704c173-ad2b-4fa1-bfc7-82bf1410f6a5",
   "metadata": {},
   "source": [
    "# [Multivariate Time Series Forecasting using RNN(LSTM)](https://medium.com/mlearning-ai/multivariate-time-series-forecasting-using-rnn-lstm-8d840f3f9aa7)"
   ]
  },
  {
   "cell_type": "code",
   "execution_count": 1,
   "id": "4164b087-b60d-46a7-b0b6-7ed62d5ded72",
   "metadata": {},
   "outputs": [],
   "source": [
    "import pandas as pd\n",
    "import numpy as np\n",
    "import seaborn as sns\n",
    "import matplotlib.pyplot as plt\n",
    "%matplotlib inline"
   ]
  },
  {
   "cell_type": "code",
   "execution_count": 2,
   "id": "8a932e19-2404-47fa-aab3-b81c6bec17e3",
   "metadata": {},
   "outputs": [
    {
     "data": {
      "text/html": [
       "<div>\n",
       "<style scoped>\n",
       "    .dataframe tbody tr th:only-of-type {\n",
       "        vertical-align: middle;\n",
       "    }\n",
       "\n",
       "    .dataframe tbody tr th {\n",
       "        vertical-align: top;\n",
       "    }\n",
       "\n",
       "    .dataframe thead th {\n",
       "        text-align: right;\n",
       "    }\n",
       "</style>\n",
       "<table border=\"1\" class=\"dataframe\">\n",
       "  <thead>\n",
       "    <tr style=\"text-align: right;\">\n",
       "      <th></th>\n",
       "      <th>timestamp</th>\n",
       "      <th>kpi_value</th>\n",
       "      <th>request_count</th>\n",
       "      <th>anomaly_label</th>\n",
       "    </tr>\n",
       "  </thead>\n",
       "  <tbody>\n",
       "    <tr>\n",
       "      <th>0</th>\n",
       "      <td>2020-08-14 02:00:00+02:00</td>\n",
       "      <td>0.998755</td>\n",
       "      <td>24908</td>\n",
       "      <td>0</td>\n",
       "    </tr>\n",
       "    <tr>\n",
       "      <th>1</th>\n",
       "      <td>2020-08-14 02:01:00+02:00</td>\n",
       "      <td>0.997683</td>\n",
       "      <td>25029</td>\n",
       "      <td>0</td>\n",
       "    </tr>\n",
       "    <tr>\n",
       "      <th>2</th>\n",
       "      <td>2020-08-14 02:02:00+02:00</td>\n",
       "      <td>0.998341</td>\n",
       "      <td>24115</td>\n",
       "      <td>0</td>\n",
       "    </tr>\n",
       "    <tr>\n",
       "      <th>3</th>\n",
       "      <td>2020-08-14 02:03:00+02:00</td>\n",
       "      <td>0.998211</td>\n",
       "      <td>24031</td>\n",
       "      <td>0</td>\n",
       "    </tr>\n",
       "    <tr>\n",
       "      <th>4</th>\n",
       "      <td>2020-08-14 02:04:00+02:00</td>\n",
       "      <td>0.998403</td>\n",
       "      <td>23790</td>\n",
       "      <td>0</td>\n",
       "    </tr>\n",
       "    <tr>\n",
       "      <th>...</th>\n",
       "      <td>...</td>\n",
       "      <td>...</td>\n",
       "      <td>...</td>\n",
       "      <td>...</td>\n",
       "    </tr>\n",
       "    <tr>\n",
       "      <th>20154</th>\n",
       "      <td>2020-08-28 01:56:00+02:00</td>\n",
       "      <td>0.998149</td>\n",
       "      <td>26467</td>\n",
       "      <td>0</td>\n",
       "    </tr>\n",
       "    <tr>\n",
       "      <th>20155</th>\n",
       "      <td>2020-08-28 01:57:00+02:00</td>\n",
       "      <td>0.998340</td>\n",
       "      <td>26502</td>\n",
       "      <td>0</td>\n",
       "    </tr>\n",
       "    <tr>\n",
       "      <th>20156</th>\n",
       "      <td>2020-08-28 01:58:00+02:00</td>\n",
       "      <td>0.998364</td>\n",
       "      <td>26887</td>\n",
       "      <td>0</td>\n",
       "    </tr>\n",
       "    <tr>\n",
       "      <th>20157</th>\n",
       "      <td>2020-08-28 01:59:00+02:00</td>\n",
       "      <td>0.998428</td>\n",
       "      <td>26712</td>\n",
       "      <td>0</td>\n",
       "    </tr>\n",
       "    <tr>\n",
       "      <th>20158</th>\n",
       "      <td>2020-08-28 02:00:00+02:00</td>\n",
       "      <td>0.997407</td>\n",
       "      <td>29694</td>\n",
       "      <td>0</td>\n",
       "    </tr>\n",
       "  </tbody>\n",
       "</table>\n",
       "<p>20159 rows × 4 columns</p>\n",
       "</div>"
      ],
      "text/plain": [
       "                      timestamp  kpi_value  request_count  anomaly_label\n",
       "0     2020-08-14 02:00:00+02:00   0.998755          24908              0\n",
       "1     2020-08-14 02:01:00+02:00   0.997683          25029              0\n",
       "2     2020-08-14 02:02:00+02:00   0.998341          24115              0\n",
       "3     2020-08-14 02:03:00+02:00   0.998211          24031              0\n",
       "4     2020-08-14 02:04:00+02:00   0.998403          23790              0\n",
       "...                         ...        ...            ...            ...\n",
       "20154 2020-08-28 01:56:00+02:00   0.998149          26467              0\n",
       "20155 2020-08-28 01:57:00+02:00   0.998340          26502              0\n",
       "20156 2020-08-28 01:58:00+02:00   0.998364          26887              0\n",
       "20157 2020-08-28 01:59:00+02:00   0.998428          26712              0\n",
       "20158 2020-08-28 02:00:00+02:00   0.997407          29694              0\n",
       "\n",
       "[20159 rows x 4 columns]"
      ]
     },
     "execution_count": 2,
     "metadata": {},
     "output_type": "execute_result"
    }
   ],
   "source": [
    "df1=pd.read_csv('training_100.csv')\n",
    "df1['timestamp']=pd.to_datetime(df1['timestamp'])\n",
    "df1"
   ]
  },
  {
   "cell_type": "code",
   "execution_count": 3,
   "id": "856a6cab-3021-4cad-a1ba-7b2808554614",
   "metadata": {},
   "outputs": [
    {
     "name": "stdout",
     "output_type": "stream",
     "text": [
      "Training Sets\n"
     ]
    },
    {
     "data": {
      "text/html": [
       "<div>\n",
       "<style scoped>\n",
       "    .dataframe tbody tr th:only-of-type {\n",
       "        vertical-align: middle;\n",
       "    }\n",
       "\n",
       "    .dataframe tbody tr th {\n",
       "        vertical-align: top;\n",
       "    }\n",
       "\n",
       "    .dataframe thead th {\n",
       "        text-align: right;\n",
       "    }\n",
       "</style>\n",
       "<table border=\"1\" class=\"dataframe\">\n",
       "  <thead>\n",
       "    <tr style=\"text-align: right;\">\n",
       "      <th></th>\n",
       "      <th>kpi_value</th>\n",
       "      <th>request_count</th>\n",
       "    </tr>\n",
       "  </thead>\n",
       "  <tbody>\n",
       "    <tr>\n",
       "      <th>0</th>\n",
       "      <td>0.998755</td>\n",
       "      <td>24908</td>\n",
       "    </tr>\n",
       "    <tr>\n",
       "      <th>1</th>\n",
       "      <td>0.997683</td>\n",
       "      <td>25029</td>\n",
       "    </tr>\n",
       "    <tr>\n",
       "      <th>2</th>\n",
       "      <td>0.998341</td>\n",
       "      <td>24115</td>\n",
       "    </tr>\n",
       "    <tr>\n",
       "      <th>3</th>\n",
       "      <td>0.998211</td>\n",
       "      <td>24031</td>\n",
       "    </tr>\n",
       "    <tr>\n",
       "      <th>4</th>\n",
       "      <td>0.998403</td>\n",
       "      <td>23790</td>\n",
       "    </tr>\n",
       "  </tbody>\n",
       "</table>\n",
       "</div>"
      ],
      "text/plain": [
       "   kpi_value  request_count\n",
       "0   0.998755          24908\n",
       "1   0.997683          25029\n",
       "2   0.998341          24115\n",
       "3   0.998211          24031\n",
       "4   0.998403          23790"
      ]
     },
     "execution_count": 3,
     "metadata": {},
     "output_type": "execute_result"
    }
   ],
   "source": [
    "values=df1.shape[0]\n",
    "training=0.80\n",
    "what_to_train=values*training\n",
    "\n",
    "df2=df1[['timestamp', 'kpi_value', 'request_count']]\n",
    "df2_date=df1[['timestamp']]\n",
    "print(\"Training Sets\")\n",
    "df2_train=df2.iloc[0:int(what_to_train),1:]\n",
    "\n",
    "df2_train[\"kpi_value\"]=df2_train[\"kpi_value\"].astype('float64')\n",
    "df2_train[\"request_count\"]=df2_train[\"request_count\"].astype('int64')\n",
    "\n",
    "df2_train.head()"
   ]
  },
  {
   "cell_type": "code",
   "execution_count": 4,
   "id": "e78563ee-e3a3-447a-92d5-03db622d8707",
   "metadata": {},
   "outputs": [
    {
     "name": "stdout",
     "output_type": "stream",
     "text": [
      "Testing Sets\n"
     ]
    },
    {
     "data": {
      "text/html": [
       "<div>\n",
       "<style scoped>\n",
       "    .dataframe tbody tr th:only-of-type {\n",
       "        vertical-align: middle;\n",
       "    }\n",
       "\n",
       "    .dataframe tbody tr th {\n",
       "        vertical-align: top;\n",
       "    }\n",
       "\n",
       "    .dataframe thead th {\n",
       "        text-align: right;\n",
       "    }\n",
       "</style>\n",
       "<table border=\"1\" class=\"dataframe\">\n",
       "  <thead>\n",
       "    <tr style=\"text-align: right;\">\n",
       "      <th></th>\n",
       "      <th>index</th>\n",
       "      <th>kpi_value</th>\n",
       "      <th>request_count</th>\n",
       "    </tr>\n",
       "  </thead>\n",
       "  <tbody>\n",
       "    <tr>\n",
       "      <th>0</th>\n",
       "      <td>16127</td>\n",
       "      <td>0.996365</td>\n",
       "      <td>17055</td>\n",
       "    </tr>\n",
       "    <tr>\n",
       "      <th>1</th>\n",
       "      <td>16128</td>\n",
       "      <td>0.996286</td>\n",
       "      <td>16694</td>\n",
       "    </tr>\n",
       "    <tr>\n",
       "      <th>2</th>\n",
       "      <td>16129</td>\n",
       "      <td>0.995214</td>\n",
       "      <td>17135</td>\n",
       "    </tr>\n",
       "    <tr>\n",
       "      <th>3</th>\n",
       "      <td>16130</td>\n",
       "      <td>0.995925</td>\n",
       "      <td>16934</td>\n",
       "    </tr>\n",
       "    <tr>\n",
       "      <th>4</th>\n",
       "      <td>16131</td>\n",
       "      <td>0.995669</td>\n",
       "      <td>16394</td>\n",
       "    </tr>\n",
       "  </tbody>\n",
       "</table>\n",
       "</div>"
      ],
      "text/plain": [
       "   index  kpi_value  request_count\n",
       "0  16127   0.996365          17055\n",
       "1  16128   0.996286          16694\n",
       "2  16129   0.995214          17135\n",
       "3  16130   0.995925          16934\n",
       "4  16131   0.995669          16394"
      ]
     },
     "execution_count": 4,
     "metadata": {},
     "output_type": "execute_result"
    }
   ],
   "source": [
    "print(\"Testing Sets\")\n",
    "df2_test=df2.iloc[int(what_to_train):,1:]\n",
    "\n",
    "df2_test[\"kpi_value\"]=df2_test[\"kpi_value\"].astype('float64')\n",
    "df2_test[\"request_count\"]=df2_test[\"request_count\"].astype('int64')\n",
    "\n",
    "df2_test.reset_index(inplace=True)\n",
    "df2_test.head()"
   ]
  },
  {
   "cell_type": "code",
   "execution_count": 5,
   "id": "58b107c5-5a4b-40dd-95be-8111b62f10a2",
   "metadata": {},
   "outputs": [
    {
     "name": "stdout",
     "output_type": "stream",
     "text": [
      "For this case we have 16127 Training Sets and 4032 Training Sets.\n"
     ]
    }
   ],
   "source": [
    "print(f\"For this case we have {df2_train.shape[0]} Training Sets and {df2_test.shape[0]} Training Sets.\") "
   ]
  },
  {
   "cell_type": "code",
   "execution_count": 6,
   "id": "b6532964-d6c3-4b97-bf82-62fe4643bd95",
   "metadata": {},
   "outputs": [
    {
     "name": "stdout",
     "output_type": "stream",
     "text": [
      "(16127, 2)\n"
     ]
    }
   ],
   "source": [
    "from sklearn.preprocessing import StandardScaler\n",
    "sc1=StandardScaler()\n",
    "df2_train_scaled=sc1.fit_transform(df2_train)\n",
    "df2_train_scaled\n",
    "print(df2_train_scaled.shape)"
   ]
  },
  {
   "cell_type": "code",
   "execution_count": 7,
   "id": "d64bca30-d109-4699-95cf-b3f2886a6fe3",
   "metadata": {},
   "outputs": [
    {
     "name": "stdout",
     "output_type": "stream",
     "text": [
      "(16127, 1)\n"
     ]
    }
   ],
   "source": [
    "sc2=StandardScaler()\n",
    "df2_train_scaled_y=sc2.fit_transform(df2_train[[\"kpi_value\"]])\n",
    "df2_train_scaled_y\n",
    "print(df2_train_scaled_y.shape)"
   ]
  },
  {
   "cell_type": "code",
   "execution_count": 8,
   "id": "e09f6221-440d-4cd3-9d54-041ac1e14127",
   "metadata": {},
   "outputs": [],
   "source": [
    "hops=14 #14 samples\n",
    "no_records=df2_train_scaled_y.shape[0]\n",
    "no_cols=4\n",
    "\n",
    "X_train=[]\n",
    "y_train=[]\n",
    "for i in range(hops, no_records):\n",
    "    X_train.append(df2_train_scaled[i-14:i])\n",
    "    y_train.append(df2_train_scaled_y[i][0])\n",
    "X_train, y_train=np.array(X_train), np.array(y_train)"
   ]
  },
  {
   "cell_type": "code",
   "execution_count": 9,
   "id": "abe18b0b-9800-417f-9f73-535f693f76ac",
   "metadata": {},
   "outputs": [
    {
     "name": "stdout",
     "output_type": "stream",
     "text": [
      "(16113, 14, 2)\n",
      "(16113,)\n"
     ]
    }
   ],
   "source": [
    "print(X_train.shape)\n",
    "print(y_train.shape)"
   ]
  },
  {
   "cell_type": "code",
   "execution_count": 10,
   "id": "5d17194d-db56-4cef-bd37-791175d3a6ef",
   "metadata": {},
   "outputs": [
    {
     "data": {
      "text/plain": [
       "(16113, 14, 2)"
      ]
     },
     "execution_count": 10,
     "metadata": {},
     "output_type": "execute_result"
    }
   ],
   "source": [
    "X_train_shape=np.reshape(X_train,(X_train.shape[0],X_train.shape[1],X_train.shape[2]))\n",
    "X_train_shape.shape"
   ]
  },
  {
   "cell_type": "code",
   "execution_count": 11,
   "id": "ec8e5665-dfc1-4fb3-a1b1-e110f0c4ef83",
   "metadata": {},
   "outputs": [
    {
     "name": "stderr",
     "output_type": "stream",
     "text": [
      "2022-12-10 16:15:02.798835: I tensorflow/core/platform/cpu_feature_guard.cc:193] This TensorFlow binary is optimized with oneAPI Deep Neural Network Library (oneDNN) to use the following CPU instructions in performance-critical operations:  AVX2 AVX512F FMA\n",
      "To enable them in other operations, rebuild TensorFlow with the appropriate compiler flags.\n"
     ]
    }
   ],
   "source": [
    "from keras.models import Sequential\n",
    "from keras.layers import Dense, LSTM, Dropout"
   ]
  },
  {
   "cell_type": "code",
   "execution_count": 12,
   "id": "ec159184-6393-43a5-a5d2-1921e38fd848",
   "metadata": {},
   "outputs": [
    {
     "name": "stderr",
     "output_type": "stream",
     "text": [
      "2022-12-10 16:15:07.040822: I tensorflow/core/platform/cpu_feature_guard.cc:193] This TensorFlow binary is optimized with oneAPI Deep Neural Network Library (oneDNN) to use the following CPU instructions in performance-critical operations:  AVX2 AVX512F FMA\n",
      "To enable them in other operations, rebuild TensorFlow with the appropriate compiler flags.\n"
     ]
    },
    {
     "name": "stdout",
     "output_type": "stream",
     "text": [
      "Model: \"sequential\"\n",
      "_________________________________________________________________\n",
      " Layer (type)                Output Shape              Param #   \n",
      "=================================================================\n",
      " lstm (LSTM)                 (None, 14, 50)            10600     \n",
      "                                                                 \n",
      " dropout (Dropout)           (None, 14, 50)            0         \n",
      "                                                                 \n",
      " lstm_1 (LSTM)               (None, 50)                20200     \n",
      "                                                                 \n",
      " dropout_1 (Dropout)         (None, 50)                0         \n",
      "                                                                 \n",
      " dense (Dense)               (None, 1)                 51        \n",
      "                                                                 \n",
      "=================================================================\n",
      "Total params: 30,851\n",
      "Trainable params: 30,851\n",
      "Non-trainable params: 0\n",
      "_________________________________________________________________\n"
     ]
    }
   ],
   "source": [
    "model=Sequential()\n",
    "model.add(LSTM(units=50, return_sequences=True,input_shape=(X_train.shape[1], X_train.shape[2])))\n",
    "model.add(Dropout(0.2))\n",
    "model.add(LSTM(units=50))\n",
    "model.add(Dropout(0.2))\n",
    "model.add(Dense(1))\n",
    "model.compile(optimizer='adam', loss='mean_squared_error')\n",
    "model.summary()"
   ]
  },
  {
   "cell_type": "code",
   "execution_count": 13,
   "id": "502bc415-343b-47f8-b6f6-05f4a175133f",
   "metadata": {
    "scrolled": true,
    "tags": []
   },
   "outputs": [
    {
     "name": "stdout",
     "output_type": "stream",
     "text": [
      "Epoch 1/100\n",
      "504/504 [==============================] - 7s 10ms/step - loss: 0.1960\n",
      "Epoch 2/100\n",
      "504/504 [==============================] - 5s 10ms/step - loss: 0.1694\n",
      "Epoch 3/100\n",
      "504/504 [==============================] - 5s 10ms/step - loss: 0.1659\n",
      "Epoch 4/100\n",
      "504/504 [==============================] - 5s 10ms/step - loss: 0.1627\n",
      "Epoch 5/100\n",
      "504/504 [==============================] - 5s 10ms/step - loss: 0.1588\n",
      "Epoch 6/100\n",
      "504/504 [==============================] - 5s 10ms/step - loss: 0.1587\n",
      "Epoch 7/100\n",
      "504/504 [==============================] - 5s 10ms/step - loss: 0.1606\n",
      "Epoch 8/100\n",
      "504/504 [==============================] - 5s 10ms/step - loss: 0.1567\n",
      "Epoch 9/100\n",
      "504/504 [==============================] - 5s 10ms/step - loss: 0.1589\n",
      "Epoch 10/100\n",
      "504/504 [==============================] - 5s 10ms/step - loss: 0.1584\n",
      "Epoch 11/100\n",
      "504/504 [==============================] - 5s 9ms/step - loss: 0.1582\n",
      "Epoch 12/100\n",
      "504/504 [==============================] - 5s 10ms/step - loss: 0.1566\n",
      "Epoch 13/100\n",
      "504/504 [==============================] - 5s 10ms/step - loss: 0.1582\n",
      "Epoch 14/100\n",
      "504/504 [==============================] - 5s 10ms/step - loss: 0.1561\n",
      "Epoch 15/100\n",
      "504/504 [==============================] - 5s 10ms/step - loss: 0.1560\n",
      "Epoch 16/100\n",
      "504/504 [==============================] - 5s 10ms/step - loss: 0.1533\n",
      "Epoch 17/100\n",
      "504/504 [==============================] - 5s 10ms/step - loss: 0.1530\n",
      "Epoch 18/100\n",
      "504/504 [==============================] - 5s 10ms/step - loss: 0.1521\n",
      "Epoch 19/100\n",
      "504/504 [==============================] - 5s 10ms/step - loss: 0.1508\n",
      "Epoch 20/100\n",
      "504/504 [==============================] - 5s 10ms/step - loss: 0.1524\n",
      "Epoch 21/100\n",
      "504/504 [==============================] - 5s 10ms/step - loss: 0.1508\n",
      "Epoch 22/100\n",
      "504/504 [==============================] - 5s 10ms/step - loss: 0.1517\n",
      "Epoch 23/100\n",
      "504/504 [==============================] - 5s 10ms/step - loss: 0.1483\n",
      "Epoch 24/100\n",
      "504/504 [==============================] - 5s 10ms/step - loss: 0.1481\n",
      "Epoch 25/100\n",
      "504/504 [==============================] - 5s 10ms/step - loss: 0.1486\n",
      "Epoch 26/100\n",
      "504/504 [==============================] - 5s 11ms/step - loss: 0.1465\n",
      "Epoch 27/100\n",
      "504/504 [==============================] - 6s 12ms/step - loss: 0.1452\n",
      "Epoch 28/100\n",
      "504/504 [==============================] - 7s 14ms/step - loss: 0.1453\n",
      "Epoch 29/100\n",
      "504/504 [==============================] - 8s 15ms/step - loss: 0.1428\n",
      "Epoch 30/100\n",
      "504/504 [==============================] - 5s 11ms/step - loss: 0.1431\n",
      "Epoch 31/100\n",
      "504/504 [==============================] - 5s 10ms/step - loss: 0.1405\n",
      "Epoch 32/100\n",
      "504/504 [==============================] - 5s 10ms/step - loss: 0.1410\n",
      "Epoch 33/100\n",
      "504/504 [==============================] - 5s 10ms/step - loss: 0.1386\n",
      "Epoch 34/100\n",
      "504/504 [==============================] - 5s 10ms/step - loss: 0.1369\n",
      "Epoch 35/100\n",
      "504/504 [==============================] - 5s 10ms/step - loss: 0.1361\n",
      "Epoch 36/100\n",
      "504/504 [==============================] - 5s 10ms/step - loss: 0.1348\n",
      "Epoch 37/100\n",
      "504/504 [==============================] - 5s 10ms/step - loss: 0.1344\n",
      "Epoch 38/100\n",
      "504/504 [==============================] - 5s 10ms/step - loss: 0.1357\n",
      "Epoch 39/100\n",
      "504/504 [==============================] - 5s 10ms/step - loss: 0.1347\n",
      "Epoch 40/100\n",
      "504/504 [==============================] - 5s 10ms/step - loss: 0.1315\n",
      "Epoch 41/100\n",
      "504/504 [==============================] - 5s 10ms/step - loss: 0.1314\n",
      "Epoch 42/100\n",
      "504/504 [==============================] - 5s 10ms/step - loss: 0.1333\n",
      "Epoch 43/100\n",
      "504/504 [==============================] - 5s 10ms/step - loss: 0.1327\n",
      "Epoch 44/100\n",
      "504/504 [==============================] - 5s 9ms/step - loss: 0.1319\n",
      "Epoch 45/100\n",
      "504/504 [==============================] - 5s 9ms/step - loss: 0.1292\n",
      "Epoch 46/100\n",
      "504/504 [==============================] - 5s 10ms/step - loss: 0.1295\n",
      "Epoch 47/100\n",
      "504/504 [==============================] - 5s 10ms/step - loss: 0.1322\n",
      "Epoch 48/100\n",
      "504/504 [==============================] - 5s 10ms/step - loss: 0.1286\n",
      "Epoch 49/100\n",
      "504/504 [==============================] - 5s 10ms/step - loss: 0.1270\n",
      "Epoch 50/100\n",
      "504/504 [==============================] - 5s 10ms/step - loss: 0.1262\n",
      "Epoch 51/100\n",
      "504/504 [==============================] - 5s 10ms/step - loss: 0.1273\n",
      "Epoch 52/100\n",
      "504/504 [==============================] - 5s 10ms/step - loss: 0.1277\n",
      "Epoch 53/100\n",
      "504/504 [==============================] - 5s 10ms/step - loss: 0.1246\n",
      "Epoch 54/100\n",
      "504/504 [==============================] - 5s 10ms/step - loss: 0.1239\n",
      "Epoch 55/100\n",
      "504/504 [==============================] - 5s 10ms/step - loss: 0.1232\n",
      "Epoch 56/100\n",
      "504/504 [==============================] - 5s 10ms/step - loss: 0.1251\n",
      "Epoch 57/100\n",
      "504/504 [==============================] - 5s 10ms/step - loss: 0.1247\n",
      "Epoch 58/100\n",
      "504/504 [==============================] - 5s 10ms/step - loss: 0.1235\n",
      "Epoch 59/100\n",
      "504/504 [==============================] - 5s 10ms/step - loss: 0.1220\n",
      "Epoch 60/100\n",
      "504/504 [==============================] - 5s 10ms/step - loss: 0.1224\n",
      "Epoch 61/100\n",
      "504/504 [==============================] - 5s 10ms/step - loss: 0.1211\n",
      "Epoch 62/100\n",
      "504/504 [==============================] - 5s 10ms/step - loss: 0.1199\n",
      "Epoch 63/100\n",
      "504/504 [==============================] - 5s 10ms/step - loss: 0.1207\n",
      "Epoch 64/100\n",
      "504/504 [==============================] - 5s 10ms/step - loss: 0.1253\n",
      "Epoch 65/100\n",
      "504/504 [==============================] - 5s 10ms/step - loss: 0.1203\n",
      "Epoch 66/100\n",
      "504/504 [==============================] - 5s 10ms/step - loss: 0.1184\n",
      "Epoch 67/100\n",
      "504/504 [==============================] - 5s 10ms/step - loss: 0.1184\n",
      "Epoch 68/100\n",
      "504/504 [==============================] - 5s 10ms/step - loss: 0.1181\n",
      "Epoch 69/100\n",
      "504/504 [==============================] - 5s 10ms/step - loss: 0.1161\n",
      "Epoch 70/100\n",
      "504/504 [==============================] - 5s 10ms/step - loss: 0.1169\n",
      "Epoch 71/100\n",
      "504/504 [==============================] - 5s 9ms/step - loss: 0.1175\n",
      "Epoch 72/100\n",
      "504/504 [==============================] - 5s 10ms/step - loss: 0.1154\n",
      "Epoch 73/100\n",
      "504/504 [==============================] - 5s 10ms/step - loss: 0.1179\n",
      "Epoch 74/100\n",
      "504/504 [==============================] - 5s 10ms/step - loss: 0.1169\n",
      "Epoch 75/100\n",
      "504/504 [==============================] - 5s 10ms/step - loss: 0.1164\n",
      "Epoch 76/100\n",
      "504/504 [==============================] - 5s 10ms/step - loss: 0.1161\n",
      "Epoch 77/100\n",
      "504/504 [==============================] - 5s 10ms/step - loss: 0.1150\n",
      "Epoch 78/100\n",
      "504/504 [==============================] - 5s 9ms/step - loss: 0.1157\n",
      "Epoch 79/100\n",
      "504/504 [==============================] - 5s 10ms/step - loss: 0.1149\n",
      "Epoch 80/100\n",
      "504/504 [==============================] - 5s 9ms/step - loss: 0.1155\n",
      "Epoch 81/100\n",
      "504/504 [==============================] - 5s 10ms/step - loss: 0.1156\n",
      "Epoch 82/100\n",
      "504/504 [==============================] - 5s 10ms/step - loss: 0.1142\n",
      "Epoch 83/100\n",
      "504/504 [==============================] - 5s 9ms/step - loss: 0.1119\n",
      "Epoch 84/100\n",
      "504/504 [==============================] - 5s 10ms/step - loss: 0.1129\n",
      "Epoch 85/100\n",
      "504/504 [==============================] - 5s 10ms/step - loss: 0.1138\n",
      "Epoch 86/100\n",
      "504/504 [==============================] - 5s 10ms/step - loss: 0.1121\n",
      "Epoch 87/100\n",
      "504/504 [==============================] - 5s 10ms/step - loss: 0.1119\n",
      "Epoch 88/100\n",
      "504/504 [==============================] - 5s 10ms/step - loss: 0.1115\n",
      "Epoch 89/100\n",
      "504/504 [==============================] - 5s 10ms/step - loss: 0.1130\n",
      "Epoch 90/100\n",
      "504/504 [==============================] - 5s 10ms/step - loss: 0.1108\n",
      "Epoch 91/100\n",
      "504/504 [==============================] - 5s 10ms/step - loss: 0.1108\n",
      "Epoch 92/100\n",
      "504/504 [==============================] - 5s 10ms/step - loss: 0.1101\n",
      "Epoch 93/100\n",
      "504/504 [==============================] - 5s 10ms/step - loss: 0.1091\n",
      "Epoch 94/100\n",
      "504/504 [==============================] - 5s 11ms/step - loss: 0.1111\n",
      "Epoch 95/100\n",
      "504/504 [==============================] - 6s 11ms/step - loss: 0.1097\n",
      "Epoch 96/100\n",
      "504/504 [==============================] - 6s 12ms/step - loss: 0.1097\n",
      "Epoch 97/100\n",
      "504/504 [==============================] - 6s 12ms/step - loss: 0.1106\n",
      "Epoch 98/100\n",
      "504/504 [==============================] - 6s 12ms/step - loss: 0.1090\n",
      "Epoch 99/100\n",
      "504/504 [==============================] - 5s 10ms/step - loss: 0.1085\n",
      "Epoch 100/100\n",
      "504/504 [==============================] - 5s 10ms/step - loss: 0.1086\n"
     ]
    },
    {
     "data": {
      "text/plain": [
       "<keras.callbacks.History at 0x7fe3c8a43160>"
      ]
     },
     "execution_count": 13,
     "metadata": {},
     "output_type": "execute_result"
    }
   ],
   "source": [
    "epochs=100\n",
    "batch_size=32\n",
    "\n",
    "model.fit(X_train_shape, y_train, epochs=epochs, batch_size=batch_size)"
   ]
  },
  {
   "cell_type": "code",
   "execution_count": 14,
   "id": "c70b0107-f9ca-4132-8445-9644e38f7cb6",
   "metadata": {},
   "outputs": [
    {
     "name": "stdout",
     "output_type": "stream",
     "text": [
      "(4046, 2)\n"
     ]
    },
    {
     "data": {
      "text/html": [
       "<div>\n",
       "<style scoped>\n",
       "    .dataframe tbody tr th:only-of-type {\n",
       "        vertical-align: middle;\n",
       "    }\n",
       "\n",
       "    .dataframe tbody tr th {\n",
       "        vertical-align: top;\n",
       "    }\n",
       "\n",
       "    .dataframe thead th {\n",
       "        text-align: right;\n",
       "    }\n",
       "</style>\n",
       "<table border=\"1\" class=\"dataframe\">\n",
       "  <thead>\n",
       "    <tr style=\"text-align: right;\">\n",
       "      <th></th>\n",
       "      <th>kpi_value</th>\n",
       "      <th>request_count</th>\n",
       "    </tr>\n",
       "  </thead>\n",
       "  <tbody>\n",
       "    <tr>\n",
       "      <th>16113</th>\n",
       "      <td>0.996972</td>\n",
       "      <td>17835</td>\n",
       "    </tr>\n",
       "    <tr>\n",
       "      <th>16114</th>\n",
       "      <td>0.997011</td>\n",
       "      <td>17395</td>\n",
       "    </tr>\n",
       "    <tr>\n",
       "      <th>16115</th>\n",
       "      <td>0.997214</td>\n",
       "      <td>17589</td>\n",
       "    </tr>\n",
       "    <tr>\n",
       "      <th>16116</th>\n",
       "      <td>0.996219</td>\n",
       "      <td>17986</td>\n",
       "    </tr>\n",
       "    <tr>\n",
       "      <th>16117</th>\n",
       "      <td>0.996787</td>\n",
       "      <td>17742</td>\n",
       "    </tr>\n",
       "  </tbody>\n",
       "</table>\n",
       "</div>"
      ],
      "text/plain": [
       "       kpi_value  request_count\n",
       "16113   0.996972          17835\n",
       "16114   0.997011          17395\n",
       "16115   0.997214          17589\n",
       "16116   0.996219          17986\n",
       "16117   0.996787          17742"
      ]
     },
     "execution_count": 14,
     "metadata": {},
     "output_type": "execute_result"
    }
   ],
   "source": [
    "df1_train_last=df2_train.iloc[-hops:]\n",
    "df1_test_full=df2_test[['kpi_value','request_count']]\n",
    "full_df=pd.concat((df1_train_last, df1_test_full),axis=0)\n",
    "#full_df=\n",
    "print(full_df.shape)\n",
    "full_df.head()"
   ]
  },
  {
   "cell_type": "code",
   "execution_count": 15,
   "id": "7bc59b72-956c-4f50-9d1e-4e38e8b09549",
   "metadata": {},
   "outputs": [
    {
     "data": {
      "text/html": [
       "<div>\n",
       "<style scoped>\n",
       "    .dataframe tbody tr th:only-of-type {\n",
       "        vertical-align: middle;\n",
       "    }\n",
       "\n",
       "    .dataframe tbody tr th {\n",
       "        vertical-align: top;\n",
       "    }\n",
       "\n",
       "    .dataframe thead th {\n",
       "        text-align: right;\n",
       "    }\n",
       "</style>\n",
       "<table border=\"1\" class=\"dataframe\">\n",
       "  <thead>\n",
       "    <tr style=\"text-align: right;\">\n",
       "      <th></th>\n",
       "      <th>kpi_value</th>\n",
       "      <th>request_count</th>\n",
       "    </tr>\n",
       "  </thead>\n",
       "  <tbody>\n",
       "    <tr>\n",
       "      <th>0</th>\n",
       "      <td>0.996365</td>\n",
       "      <td>17055</td>\n",
       "    </tr>\n",
       "    <tr>\n",
       "      <th>1</th>\n",
       "      <td>0.996286</td>\n",
       "      <td>16694</td>\n",
       "    </tr>\n",
       "    <tr>\n",
       "      <th>2</th>\n",
       "      <td>0.995214</td>\n",
       "      <td>17135</td>\n",
       "    </tr>\n",
       "    <tr>\n",
       "      <th>3</th>\n",
       "      <td>0.995925</td>\n",
       "      <td>16934</td>\n",
       "    </tr>\n",
       "    <tr>\n",
       "      <th>4</th>\n",
       "      <td>0.995669</td>\n",
       "      <td>16394</td>\n",
       "    </tr>\n",
       "    <tr>\n",
       "      <th>...</th>\n",
       "      <td>...</td>\n",
       "      <td>...</td>\n",
       "    </tr>\n",
       "    <tr>\n",
       "      <th>4027</th>\n",
       "      <td>0.998149</td>\n",
       "      <td>26467</td>\n",
       "    </tr>\n",
       "    <tr>\n",
       "      <th>4028</th>\n",
       "      <td>0.998340</td>\n",
       "      <td>26502</td>\n",
       "    </tr>\n",
       "    <tr>\n",
       "      <th>4029</th>\n",
       "      <td>0.998364</td>\n",
       "      <td>26887</td>\n",
       "    </tr>\n",
       "    <tr>\n",
       "      <th>4030</th>\n",
       "      <td>0.998428</td>\n",
       "      <td>26712</td>\n",
       "    </tr>\n",
       "    <tr>\n",
       "      <th>4031</th>\n",
       "      <td>0.997407</td>\n",
       "      <td>29694</td>\n",
       "    </tr>\n",
       "  </tbody>\n",
       "</table>\n",
       "<p>4032 rows × 2 columns</p>\n",
       "</div>"
      ],
      "text/plain": [
       "      kpi_value  request_count\n",
       "0      0.996365          17055\n",
       "1      0.996286          16694\n",
       "2      0.995214          17135\n",
       "3      0.995925          16934\n",
       "4      0.995669          16394\n",
       "...         ...            ...\n",
       "4027   0.998149          26467\n",
       "4028   0.998340          26502\n",
       "4029   0.998364          26887\n",
       "4030   0.998428          26712\n",
       "4031   0.997407          29694\n",
       "\n",
       "[4032 rows x 2 columns]"
      ]
     },
     "execution_count": 15,
     "metadata": {},
     "output_type": "execute_result"
    }
   ],
   "source": [
    "df1_test_full"
   ]
  },
  {
   "cell_type": "code",
   "execution_count": 16,
   "id": "ee5d8951-731e-4cdd-9798-596edaa2e609",
   "metadata": {},
   "outputs": [
    {
     "data": {
      "text/plain": [
       "(4046, 2)"
      ]
     },
     "execution_count": 16,
     "metadata": {},
     "output_type": "execute_result"
    }
   ],
   "source": [
    "############### Rescaling the test pandas dataframe #############\n",
    "full_df=sc1.transform(full_df)\n",
    "full_df.shape"
   ]
  },
  {
   "cell_type": "code",
   "execution_count": 17,
   "id": "838554cf-2806-4bc9-a29b-aa88a0873db4",
   "metadata": {},
   "outputs": [
    {
     "name": "stdout",
     "output_type": "stream",
     "text": [
      "(4032, 14, 2)\n"
     ]
    }
   ],
   "source": [
    "############# Reshaping the test pandas dataframe ###############\n",
    "hops=14\n",
    "no_records=full_df.shape[0]\n",
    "no_cols=4\n",
    "X_train_shape_pred=[]\n",
    "\n",
    "for i in range(hops,no_records):\n",
    "    X_train_shape_pred.append(full_df[i-hops:i])\n",
    "X_train_shape_pred=np.array(X_train_shape_pred)\n",
    "print(X_train_shape_pred.shape)"
   ]
  },
  {
   "cell_type": "code",
   "execution_count": 18,
   "id": "a2594f7b-2f5f-435d-8251-6897c83a5382",
   "metadata": {},
   "outputs": [
    {
     "data": {
      "text/plain": [
       "4032"
      ]
     },
     "execution_count": 18,
     "metadata": {},
     "output_type": "execute_result"
    }
   ],
   "source": [
    "len(X_train_shape_pred)"
   ]
  },
  {
   "cell_type": "code",
   "execution_count": 19,
   "id": "96e187ae-42d2-40ae-be07-af51755880e5",
   "metadata": {},
   "outputs": [
    {
     "name": "stdout",
     "output_type": "stream",
     "text": [
      "126/126 [==============================] - 1s 2ms/step\n"
     ]
    }
   ],
   "source": [
    "ytest=model.predict(X_train_shape_pred)"
   ]
  },
  {
   "cell_type": "code",
   "execution_count": 20,
   "id": "aad525cf-1337-4213-81d1-0a1534f8ce6d",
   "metadata": {
    "scrolled": true,
    "tags": []
   },
   "outputs": [
    {
     "data": {
      "text/plain": [
       "array([[0.9962707 ],\n",
       "       [0.9961433 ],\n",
       "       [0.99625206],\n",
       "       ...,\n",
       "       [0.99836177],\n",
       "       [0.9984464 ],\n",
       "       [0.99847025]], dtype=float32)"
      ]
     },
     "execution_count": 20,
     "metadata": {},
     "output_type": "execute_result"
    }
   ],
   "source": [
    "y_final_pred=sc2.inverse_transform(ytest)\n",
    "y_final_pred"
   ]
  },
  {
   "cell_type": "code",
   "execution_count": 21,
   "id": "353902fd-f7d9-4f9f-9534-201939ae6d9a",
   "metadata": {},
   "outputs": [
    {
     "data": {
      "text/html": [
       "<div>\n",
       "<style scoped>\n",
       "    .dataframe tbody tr th:only-of-type {\n",
       "        vertical-align: middle;\n",
       "    }\n",
       "\n",
       "    .dataframe tbody tr th {\n",
       "        vertical-align: top;\n",
       "    }\n",
       "\n",
       "    .dataframe thead th {\n",
       "        text-align: right;\n",
       "    }\n",
       "</style>\n",
       "<table border=\"1\" class=\"dataframe\">\n",
       "  <thead>\n",
       "    <tr style=\"text-align: right;\">\n",
       "      <th></th>\n",
       "      <th>final_kpi_value_pred</th>\n",
       "    </tr>\n",
       "  </thead>\n",
       "  <tbody>\n",
       "    <tr>\n",
       "      <th>0</th>\n",
       "      <td>0.996271</td>\n",
       "    </tr>\n",
       "    <tr>\n",
       "      <th>1</th>\n",
       "      <td>0.996143</td>\n",
       "    </tr>\n",
       "    <tr>\n",
       "      <th>2</th>\n",
       "      <td>0.996252</td>\n",
       "    </tr>\n",
       "    <tr>\n",
       "      <th>3</th>\n",
       "      <td>0.995697</td>\n",
       "    </tr>\n",
       "    <tr>\n",
       "      <th>4</th>\n",
       "      <td>0.995872</td>\n",
       "    </tr>\n",
       "    <tr>\n",
       "      <th>...</th>\n",
       "      <td>...</td>\n",
       "    </tr>\n",
       "    <tr>\n",
       "      <th>4027</th>\n",
       "      <td>0.998494</td>\n",
       "    </tr>\n",
       "    <tr>\n",
       "      <th>4028</th>\n",
       "      <td>0.998444</td>\n",
       "    </tr>\n",
       "    <tr>\n",
       "      <th>4029</th>\n",
       "      <td>0.998362</td>\n",
       "    </tr>\n",
       "    <tr>\n",
       "      <th>4030</th>\n",
       "      <td>0.998446</td>\n",
       "    </tr>\n",
       "    <tr>\n",
       "      <th>4031</th>\n",
       "      <td>0.998470</td>\n",
       "    </tr>\n",
       "  </tbody>\n",
       "</table>\n",
       "<p>4032 rows × 1 columns</p>\n",
       "</div>"
      ],
      "text/plain": [
       "      final_kpi_value_pred\n",
       "0                 0.996271\n",
       "1                 0.996143\n",
       "2                 0.996252\n",
       "3                 0.995697\n",
       "4                 0.995872\n",
       "...                    ...\n",
       "4027              0.998494\n",
       "4028              0.998444\n",
       "4029              0.998362\n",
       "4030              0.998446\n",
       "4031              0.998470\n",
       "\n",
       "[4032 rows x 1 columns]"
      ]
     },
     "execution_count": 21,
     "metadata": {},
     "output_type": "execute_result"
    }
   ],
   "source": [
    "final_kpi_value_pred=pd.DataFrame(y_final_pred)\n",
    "final_kpi_value_pred.columns=['final_kpi_value_pred']\n",
    "final_kpi_value_pred"
   ]
  },
  {
   "cell_type": "code",
   "execution_count": 22,
   "id": "d609db15-5f3c-4f6d-bce4-5059f4bd6dfd",
   "metadata": {},
   "outputs": [
    {
     "data": {
      "text/html": [
       "<div>\n",
       "<style scoped>\n",
       "    .dataframe tbody tr th:only-of-type {\n",
       "        vertical-align: middle;\n",
       "    }\n",
       "\n",
       "    .dataframe tbody tr th {\n",
       "        vertical-align: top;\n",
       "    }\n",
       "\n",
       "    .dataframe thead th {\n",
       "        text-align: right;\n",
       "    }\n",
       "</style>\n",
       "<table border=\"1\" class=\"dataframe\">\n",
       "  <thead>\n",
       "    <tr style=\"text-align: right;\">\n",
       "      <th></th>\n",
       "      <th>index</th>\n",
       "      <th>kpi_value</th>\n",
       "      <th>request_count</th>\n",
       "    </tr>\n",
       "  </thead>\n",
       "  <tbody>\n",
       "    <tr>\n",
       "      <th>0</th>\n",
       "      <td>16127</td>\n",
       "      <td>0.996365</td>\n",
       "      <td>17055</td>\n",
       "    </tr>\n",
       "    <tr>\n",
       "      <th>1</th>\n",
       "      <td>16128</td>\n",
       "      <td>0.996286</td>\n",
       "      <td>16694</td>\n",
       "    </tr>\n",
       "    <tr>\n",
       "      <th>2</th>\n",
       "      <td>16129</td>\n",
       "      <td>0.995214</td>\n",
       "      <td>17135</td>\n",
       "    </tr>\n",
       "    <tr>\n",
       "      <th>3</th>\n",
       "      <td>16130</td>\n",
       "      <td>0.995925</td>\n",
       "      <td>16934</td>\n",
       "    </tr>\n",
       "    <tr>\n",
       "      <th>4</th>\n",
       "      <td>16131</td>\n",
       "      <td>0.995669</td>\n",
       "      <td>16394</td>\n",
       "    </tr>\n",
       "    <tr>\n",
       "      <th>...</th>\n",
       "      <td>...</td>\n",
       "      <td>...</td>\n",
       "      <td>...</td>\n",
       "    </tr>\n",
       "    <tr>\n",
       "      <th>4027</th>\n",
       "      <td>20154</td>\n",
       "      <td>0.998149</td>\n",
       "      <td>26467</td>\n",
       "    </tr>\n",
       "    <tr>\n",
       "      <th>4028</th>\n",
       "      <td>20155</td>\n",
       "      <td>0.998340</td>\n",
       "      <td>26502</td>\n",
       "    </tr>\n",
       "    <tr>\n",
       "      <th>4029</th>\n",
       "      <td>20156</td>\n",
       "      <td>0.998364</td>\n",
       "      <td>26887</td>\n",
       "    </tr>\n",
       "    <tr>\n",
       "      <th>4030</th>\n",
       "      <td>20157</td>\n",
       "      <td>0.998428</td>\n",
       "      <td>26712</td>\n",
       "    </tr>\n",
       "    <tr>\n",
       "      <th>4031</th>\n",
       "      <td>20158</td>\n",
       "      <td>0.997407</td>\n",
       "      <td>29694</td>\n",
       "    </tr>\n",
       "  </tbody>\n",
       "</table>\n",
       "<p>4032 rows × 3 columns</p>\n",
       "</div>"
      ],
      "text/plain": [
       "      index  kpi_value  request_count\n",
       "0     16127   0.996365          17055\n",
       "1     16128   0.996286          16694\n",
       "2     16129   0.995214          17135\n",
       "3     16130   0.995925          16934\n",
       "4     16131   0.995669          16394\n",
       "...     ...        ...            ...\n",
       "4027  20154   0.998149          26467\n",
       "4028  20155   0.998340          26502\n",
       "4029  20156   0.998364          26887\n",
       "4030  20157   0.998428          26712\n",
       "4031  20158   0.997407          29694\n",
       "\n",
       "[4032 rows x 3 columns]"
      ]
     },
     "execution_count": 22,
     "metadata": {},
     "output_type": "execute_result"
    }
   ],
   "source": [
    "df2_test"
   ]
  },
  {
   "cell_type": "code",
   "execution_count": 23,
   "id": "ac64ee42-e0eb-4f11-8256-54f7a996a63e",
   "metadata": {},
   "outputs": [
    {
     "data": {
      "text/html": [
       "<div>\n",
       "<style scoped>\n",
       "    .dataframe tbody tr th:only-of-type {\n",
       "        vertical-align: middle;\n",
       "    }\n",
       "\n",
       "    .dataframe tbody tr th {\n",
       "        vertical-align: top;\n",
       "    }\n",
       "\n",
       "    .dataframe thead th {\n",
       "        text-align: right;\n",
       "    }\n",
       "</style>\n",
       "<table border=\"1\" class=\"dataframe\">\n",
       "  <thead>\n",
       "    <tr style=\"text-align: right;\">\n",
       "      <th></th>\n",
       "      <th>kpi_value</th>\n",
       "      <th>final_kpi_value_pred</th>\n",
       "    </tr>\n",
       "  </thead>\n",
       "  <tbody>\n",
       "    <tr>\n",
       "      <th>0</th>\n",
       "      <td>0.996365</td>\n",
       "      <td>0.996271</td>\n",
       "    </tr>\n",
       "    <tr>\n",
       "      <th>1</th>\n",
       "      <td>0.996286</td>\n",
       "      <td>0.996143</td>\n",
       "    </tr>\n",
       "    <tr>\n",
       "      <th>2</th>\n",
       "      <td>0.995214</td>\n",
       "      <td>0.996252</td>\n",
       "    </tr>\n",
       "    <tr>\n",
       "      <th>3</th>\n",
       "      <td>0.995925</td>\n",
       "      <td>0.995697</td>\n",
       "    </tr>\n",
       "    <tr>\n",
       "      <th>4</th>\n",
       "      <td>0.995669</td>\n",
       "      <td>0.995872</td>\n",
       "    </tr>\n",
       "    <tr>\n",
       "      <th>...</th>\n",
       "      <td>...</td>\n",
       "      <td>...</td>\n",
       "    </tr>\n",
       "    <tr>\n",
       "      <th>4027</th>\n",
       "      <td>0.998149</td>\n",
       "      <td>0.998494</td>\n",
       "    </tr>\n",
       "    <tr>\n",
       "      <th>4028</th>\n",
       "      <td>0.998340</td>\n",
       "      <td>0.998444</td>\n",
       "    </tr>\n",
       "    <tr>\n",
       "      <th>4029</th>\n",
       "      <td>0.998364</td>\n",
       "      <td>0.998362</td>\n",
       "    </tr>\n",
       "    <tr>\n",
       "      <th>4030</th>\n",
       "      <td>0.998428</td>\n",
       "      <td>0.998446</td>\n",
       "    </tr>\n",
       "    <tr>\n",
       "      <th>4031</th>\n",
       "      <td>0.997407</td>\n",
       "      <td>0.998470</td>\n",
       "    </tr>\n",
       "  </tbody>\n",
       "</table>\n",
       "<p>4032 rows × 2 columns</p>\n",
       "</div>"
      ],
      "text/plain": [
       "      kpi_value  final_kpi_value_pred\n",
       "0      0.996365              0.996271\n",
       "1      0.996286              0.996143\n",
       "2      0.995214              0.996252\n",
       "3      0.995925              0.995697\n",
       "4      0.995669              0.995872\n",
       "...         ...                   ...\n",
       "4027   0.998149              0.998494\n",
       "4028   0.998340              0.998444\n",
       "4029   0.998364              0.998362\n",
       "4030   0.998428              0.998446\n",
       "4031   0.997407              0.998470\n",
       "\n",
       "[4032 rows x 2 columns]"
      ]
     },
     "execution_count": 23,
     "metadata": {},
     "output_type": "execute_result"
    }
   ],
   "source": [
    "fully_final=pd.concat((final_kpi_value_pred, df2_test),axis=1)\n",
    "fully_final=fully_final[['kpi_value', 'final_kpi_value_pred']]\n",
    "fully_final"
   ]
  },
  {
   "cell_type": "code",
   "execution_count": 25,
   "id": "ee01315e-bf7d-4701-9f78-d63672bd7df8",
   "metadata": {},
   "outputs": [
    {
     "data": {
      "text/plain": [
       "<matplotlib.legend.Legend at 0x7fe3e88484f0>"
      ]
     },
     "execution_count": 25,
     "metadata": {},
     "output_type": "execute_result"
    },
    {
     "data": {
      "image/png": "[encoded data removed]",
      "text/plain": [
       "<Figure size 2880x720 with 1 Axes>"
      ]
     },
     "metadata": {
      "needs_background": "light"
     },
     "output_type": "display_data"
    }
   ],
   "source": [
    "plt.figure(figsize=(40,10))\n",
    "plt.grid()\n",
    "plt.plot(fully_final['kpi_value'], label='Actual KPI Value', color='red')\n",
    "plt.plot(fully_final['final_kpi_value_pred'], label='Predicted KPI Value', color='blue')\n",
    "plt.legend()"
   ]
  },
  {
   "cell_type": "markdown",
   "id": "03897996-db7f-4b2e-81e3-0e059d065902",
   "metadata": {},
   "source": [
    "**According to the results using Multivariative LSTM modeling, we are able to almost predict the KPI values correctly from the Huwaei dataset by taking 14 samples as the inputs to try to predict one output in each iteration**"
   ]
  },
  {
   "cell_type": "code",
   "execution_count": null,
   "id": "2a6c4270-d477-4c65-971d-feed31d746d7",
   "metadata": {},
   "outputs": [],
   "source": []
  }
 ],
 "metadata": {
  "kernelspec": {
   "display_name": "Python 3 (ipykernel)",
   "language": "python",
   "name": "python3"
  },
  "language_info": {
   "codemirror_mode": {
    "name": "ipython",
    "version": 3
   },
   "file_extension": ".py",
   "mimetype": "text/x-python",
   "name": "python",
   "nbconvert_exporter": "python",
   "pygments_lexer": "ipython3",
   "version": "3.9.7"
  }
 },
 "nbformat": 4,
 "nbformat_minor": 5
}
