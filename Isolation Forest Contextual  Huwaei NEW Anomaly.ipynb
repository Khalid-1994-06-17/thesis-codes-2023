{
 "cells": [
  {
   "cell_type": "code",
   "execution_count": 33,
   "id": "9d653a3f-6d0c-47f1-a9f2-ea3188b44ba8",
   "metadata": {},
   "outputs": [],
   "source": [
    "# import libraries\n",
    "import numpy as np \n",
    "import pandas as pd \n",
    "import matplotlib.pyplot as plt\n",
    "from matplotlib.ticker import (MultipleLocator, FormatStrFormatter, AutoMinorLocator)\n",
    "import seaborn as sns\n",
    "import plotly.graph_objects as go\n",
    "import plotly.graph_objects as go\n",
    "from sktime.forecasting.model_selection import temporal_train_test_split\n",
    "from tabulate import tabulate\n",
    "\n",
    "%matplotlib inline\n",
    "\n",
    "import warnings\n",
    "import datetime\n",
    "\n",
    "warnings.filterwarnings(\"ignore\")"
   ]
  },
  {
   "cell_type": "code",
   "execution_count": 34,
   "id": "6b6f9c97-86b1-4539-bc8d-9085ebed2fd4",
   "metadata": {},
   "outputs": [
    {
     "name": "stdout",
     "output_type": "stream",
     "text": [
      "<class 'pandas.core.frame.DataFrame'>\n",
      "RangeIndex: 20159 entries, 0 to 20158\n",
      "Data columns (total 4 columns):\n",
      " #   Column         Non-Null Count  Dtype                                \n",
      "---  ------         --------------  -----                                \n",
      " 0   timestamp      20159 non-null  datetime64[ns, pytz.FixedOffset(120)]\n",
      " 1   kpi_value      20159 non-null  float64                              \n",
      " 2   request_count  20159 non-null  int64                                \n",
      " 3   anomaly_label  20159 non-null  int64                                \n",
      "dtypes: datetime64[ns, pytz.FixedOffset(120)](1), float64(1), int64(2)\n",
      "memory usage: 630.1 KB\n"
     ]
    }
   ],
   "source": [
    "huwaei=pd.read_csv('training_100.csv')\n",
    "cols=[i for i in huwaei.columns if i not in ['timestamp']]\n",
    "for col in cols:\n",
    "    huwaei[col]=pd.to_numeric(huwaei[col])\n",
    "huwaei['timestamp'] = pd.to_datetime(huwaei['timestamp'])\n",
    "\n",
    "huwaei.info()"
   ]
  },
  {
   "cell_type": "code",
   "execution_count": 35,
   "id": "880637dc-490e-4dc8-96f2-86a69d89abb4",
   "metadata": {},
   "outputs": [
    {
     "data": {
      "text/html": [
       "<div>\n",
       "<style scoped>\n",
       "    .dataframe tbody tr th:only-of-type {\n",
       "        vertical-align: middle;\n",
       "    }\n",
       "\n",
       "    .dataframe tbody tr th {\n",
       "        vertical-align: top;\n",
       "    }\n",
       "\n",
       "    .dataframe thead th {\n",
       "        text-align: right;\n",
       "    }\n",
       "</style>\n",
       "<table border=\"1\" class=\"dataframe\">\n",
       "  <thead>\n",
       "    <tr style=\"text-align: right;\">\n",
       "      <th></th>\n",
       "      <th>timestamp</th>\n",
       "      <th>kpi_value</th>\n",
       "      <th>request_count</th>\n",
       "      <th>anomaly_label</th>\n",
       "      <th>hour</th>\n",
       "      <th>minute</th>\n",
       "    </tr>\n",
       "  </thead>\n",
       "  <tbody>\n",
       "    <tr>\n",
       "      <th>0</th>\n",
       "      <td>2020-08-14 02:00:00+02:00</td>\n",
       "      <td>0.998755</td>\n",
       "      <td>24908</td>\n",
       "      <td>0</td>\n",
       "      <td>2</td>\n",
       "      <td>0</td>\n",
       "    </tr>\n",
       "    <tr>\n",
       "      <th>1</th>\n",
       "      <td>2020-08-14 02:01:00+02:00</td>\n",
       "      <td>0.997683</td>\n",
       "      <td>25029</td>\n",
       "      <td>0</td>\n",
       "      <td>2</td>\n",
       "      <td>1</td>\n",
       "    </tr>\n",
       "    <tr>\n",
       "      <th>2</th>\n",
       "      <td>2020-08-14 02:02:00+02:00</td>\n",
       "      <td>0.998341</td>\n",
       "      <td>24115</td>\n",
       "      <td>0</td>\n",
       "      <td>2</td>\n",
       "      <td>2</td>\n",
       "    </tr>\n",
       "    <tr>\n",
       "      <th>3</th>\n",
       "      <td>2020-08-14 02:03:00+02:00</td>\n",
       "      <td>0.998211</td>\n",
       "      <td>24031</td>\n",
       "      <td>0</td>\n",
       "      <td>2</td>\n",
       "      <td>3</td>\n",
       "    </tr>\n",
       "    <tr>\n",
       "      <th>4</th>\n",
       "      <td>2020-08-14 02:04:00+02:00</td>\n",
       "      <td>0.998403</td>\n",
       "      <td>23790</td>\n",
       "      <td>0</td>\n",
       "      <td>2</td>\n",
       "      <td>4</td>\n",
       "    </tr>\n",
       "    <tr>\n",
       "      <th>...</th>\n",
       "      <td>...</td>\n",
       "      <td>...</td>\n",
       "      <td>...</td>\n",
       "      <td>...</td>\n",
       "      <td>...</td>\n",
       "      <td>...</td>\n",
       "    </tr>\n",
       "    <tr>\n",
       "      <th>20154</th>\n",
       "      <td>2020-08-28 01:56:00+02:00</td>\n",
       "      <td>0.998149</td>\n",
       "      <td>26467</td>\n",
       "      <td>0</td>\n",
       "      <td>1</td>\n",
       "      <td>56</td>\n",
       "    </tr>\n",
       "    <tr>\n",
       "      <th>20155</th>\n",
       "      <td>2020-08-28 01:57:00+02:00</td>\n",
       "      <td>0.998340</td>\n",
       "      <td>26502</td>\n",
       "      <td>0</td>\n",
       "      <td>1</td>\n",
       "      <td>57</td>\n",
       "    </tr>\n",
       "    <tr>\n",
       "      <th>20156</th>\n",
       "      <td>2020-08-28 01:58:00+02:00</td>\n",
       "      <td>0.998364</td>\n",
       "      <td>26887</td>\n",
       "      <td>0</td>\n",
       "      <td>1</td>\n",
       "      <td>58</td>\n",
       "    </tr>\n",
       "    <tr>\n",
       "      <th>20157</th>\n",
       "      <td>2020-08-28 01:59:00+02:00</td>\n",
       "      <td>0.998428</td>\n",
       "      <td>26712</td>\n",
       "      <td>0</td>\n",
       "      <td>1</td>\n",
       "      <td>59</td>\n",
       "    </tr>\n",
       "    <tr>\n",
       "      <th>20158</th>\n",
       "      <td>2020-08-28 02:00:00+02:00</td>\n",
       "      <td>0.997407</td>\n",
       "      <td>29694</td>\n",
       "      <td>0</td>\n",
       "      <td>2</td>\n",
       "      <td>0</td>\n",
       "    </tr>\n",
       "  </tbody>\n",
       "</table>\n",
       "<p>20159 rows × 6 columns</p>\n",
       "</div>"
      ],
      "text/plain": [
       "                      timestamp  kpi_value  request_count  anomaly_label  \\\n",
       "0     2020-08-14 02:00:00+02:00   0.998755          24908              0   \n",
       "1     2020-08-14 02:01:00+02:00   0.997683          25029              0   \n",
       "2     2020-08-14 02:02:00+02:00   0.998341          24115              0   \n",
       "3     2020-08-14 02:03:00+02:00   0.998211          24031              0   \n",
       "4     2020-08-14 02:04:00+02:00   0.998403          23790              0   \n",
       "...                         ...        ...            ...            ...   \n",
       "20154 2020-08-28 01:56:00+02:00   0.998149          26467              0   \n",
       "20155 2020-08-28 01:57:00+02:00   0.998340          26502              0   \n",
       "20156 2020-08-28 01:58:00+02:00   0.998364          26887              0   \n",
       "20157 2020-08-28 01:59:00+02:00   0.998428          26712              0   \n",
       "20158 2020-08-28 02:00:00+02:00   0.997407          29694              0   \n",
       "\n",
       "       hour  minute  \n",
       "0         2       0  \n",
       "1         2       1  \n",
       "2         2       2  \n",
       "3         2       3  \n",
       "4         2       4  \n",
       "...     ...     ...  \n",
       "20154     1      56  \n",
       "20155     1      57  \n",
       "20156     1      58  \n",
       "20157     1      59  \n",
       "20158     2       0  \n",
       "\n",
       "[20159 rows x 6 columns]"
      ]
     },
     "execution_count": 35,
     "metadata": {},
     "output_type": "execute_result"
    }
   ],
   "source": [
    "huwaei['hour'] = huwaei['timestamp'].dt.hour\n",
    "huwaei['minute'] = huwaei['timestamp'].dt.minute\n",
    "huwaei"
   ]
  },
  {
   "cell_type": "code",
   "execution_count": 36,
   "id": "ceafd441-ab65-4c3f-be90-4e6732246f25",
   "metadata": {},
   "outputs": [
    {
     "data": {
      "image/png": "[encoded data removed]",
      "text/plain": [
       "<Figure size 2880x720 with 2 Axes>"
      ]
     },
     "metadata": {
      "needs_background": "light"
     },
     "output_type": "display_data"
    }
   ],
   "source": [
    "fig, ax2d = plt.subplots(figsize=(40,10))\n",
    "ax2a = ax2d.twinx()\n",
    "ax2d.plot(huwaei['timestamp'], huwaei['kpi_value'], color='blue')\n",
    "ax2a.plot(huwaei['timestamp'], huwaei['anomaly_label'], color='red', linewidth='5')\n",
    "ax2d.set_xlabel('Time Stamp')\n",
    "ax2d.set_ylabel('KPI Value')\n",
    "ax2a.set_ylabel('Anomaly Label')\n",
    "ax2d.title.set_text('Training Data Anonmaly 2')"
   ]
  },
  {
   "cell_type": "code",
   "execution_count": 37,
   "id": "1fc8738c-ee5d-4303-8890-c233e71b3d33",
   "metadata": {},
   "outputs": [
    {
     "data": {
      "text/html": [
       "<div>\n",
       "<style scoped>\n",
       "    .dataframe tbody tr th:only-of-type {\n",
       "        vertical-align: middle;\n",
       "    }\n",
       "\n",
       "    .dataframe tbody tr th {\n",
       "        vertical-align: top;\n",
       "    }\n",
       "\n",
       "    .dataframe thead th {\n",
       "        text-align: right;\n",
       "    }\n",
       "</style>\n",
       "<table border=\"1\" class=\"dataframe\">\n",
       "  <thead>\n",
       "    <tr style=\"text-align: right;\">\n",
       "      <th></th>\n",
       "      <th>kpi_value</th>\n",
       "      <th>hour</th>\n",
       "      <th>minute</th>\n",
       "    </tr>\n",
       "  </thead>\n",
       "  <tbody>\n",
       "    <tr>\n",
       "      <th>2020-08-14 00:00:00</th>\n",
       "      <td>0.998755</td>\n",
       "      <td>2</td>\n",
       "      <td>0</td>\n",
       "    </tr>\n",
       "    <tr>\n",
       "      <th>2020-08-14 00:01:00</th>\n",
       "      <td>0.997683</td>\n",
       "      <td>2</td>\n",
       "      <td>1</td>\n",
       "    </tr>\n",
       "    <tr>\n",
       "      <th>2020-08-14 00:02:00</th>\n",
       "      <td>0.998341</td>\n",
       "      <td>2</td>\n",
       "      <td>2</td>\n",
       "    </tr>\n",
       "    <tr>\n",
       "      <th>2020-08-14 00:03:00</th>\n",
       "      <td>0.998211</td>\n",
       "      <td>2</td>\n",
       "      <td>3</td>\n",
       "    </tr>\n",
       "    <tr>\n",
       "      <th>2020-08-14 00:04:00</th>\n",
       "      <td>0.998403</td>\n",
       "      <td>2</td>\n",
       "      <td>4</td>\n",
       "    </tr>\n",
       "  </tbody>\n",
       "</table>\n",
       "</div>"
      ],
      "text/plain": [
       "                     kpi_value  hour  minute\n",
       "2020-08-14 00:00:00   0.998755     2       0\n",
       "2020-08-14 00:01:00   0.997683     2       1\n",
       "2020-08-14 00:02:00   0.998341     2       2\n",
       "2020-08-14 00:03:00   0.998211     2       3\n",
       "2020-08-14 00:04:00   0.998403     2       4"
      ]
     },
     "execution_count": 37,
     "metadata": {},
     "output_type": "execute_result"
    }
   ],
   "source": [
    "huwaei_dataset=huwaei[['timestamp', 'kpi_value', 'hour', 'minute']]\n",
    "#dataset\n",
    "\n",
    "# convert the column (it's a string) to datetime type\n",
    "datetime_series = pd.to_datetime(huwaei_dataset['timestamp'])\n",
    "\n",
    "# create datetime index passing the datetime series\n",
    "datetime_index = pd.DatetimeIndex(datetime_series.values)\n",
    "\n",
    "# datetime_index\n",
    "period_index = pd.PeriodIndex(datetime_index, freq='S')\n",
    "\n",
    "# period_index\n",
    "huwaei_dataset = huwaei_dataset.set_index(period_index)\n",
    "\n",
    "# we don't need the column anymore\n",
    "huwaei_dataset.drop('timestamp',axis=1,inplace=True)\n",
    "\n",
    "huwaei_dataset.head()\n",
    "# print(len(dataset))"
   ]
  },
  {
   "cell_type": "code",
   "execution_count": 38,
   "id": "0f422f19-6387-42ae-88a1-b40e156476b3",
   "metadata": {},
   "outputs": [],
   "source": [
    "contamination=2.358\n",
    "contamination=contamination/100\n",
    "\n",
    "from sklearn.ensemble import IsolationForest\n",
    "\n",
    " # copying dataset\n",
    "isf_dataset = huwaei_dataset.copy()\n",
    "\n",
    "    # initializing Isolation Forest\n",
    "clf = IsolationForest(max_samples='auto', contamination=contamination)\n",
    "\n",
    "    # training\n",
    "clf.fit(isf_dataset)\n",
    "\n",
    "    # finding anomalies\n",
    "isf_dataset['Anomaly'] = clf.predict(isf_dataset)  \n",
    "\n",
    "# saving anomalies to a separate dataset for visualization purposes\n",
    "# anomalies_single = isf_dataset.query('Anomaly == -1')\n",
    "anomalies=isf_dataset"
   ]
  },
  {
   "cell_type": "code",
   "execution_count": 39,
   "id": "3cd4b5a0-8c09-4174-a693-09e47135d5fd",
   "metadata": {},
   "outputs": [],
   "source": [
    "total_contamination=len(anomalies)"
   ]
  },
  {
   "cell_type": "code",
   "execution_count": 40,
   "id": "4298a021-0fca-46cc-b83f-356a5234cafc",
   "metadata": {},
   "outputs": [],
   "source": [
    "output=anomalies"
   ]
  },
  {
   "cell_type": "code",
   "execution_count": 41,
   "id": "7ef1b611-26a6-48a8-9afc-98cded92ae1d",
   "metadata": {},
   "outputs": [
    {
     "data": {
      "text/html": [
       "<div>\n",
       "<style scoped>\n",
       "    .dataframe tbody tr th:only-of-type {\n",
       "        vertical-align: middle;\n",
       "    }\n",
       "\n",
       "    .dataframe tbody tr th {\n",
       "        vertical-align: top;\n",
       "    }\n",
       "\n",
       "    .dataframe thead th {\n",
       "        text-align: right;\n",
       "    }\n",
       "</style>\n",
       "<table border=\"1\" class=\"dataframe\">\n",
       "  <thead>\n",
       "    <tr style=\"text-align: right;\">\n",
       "      <th></th>\n",
       "      <th>kpi_value</th>\n",
       "      <th>hour</th>\n",
       "      <th>minute</th>\n",
       "      <th>Anomaly</th>\n",
       "    </tr>\n",
       "  </thead>\n",
       "  <tbody>\n",
       "    <tr>\n",
       "      <th>2020-08-14 00:00:00</th>\n",
       "      <td>0.998755</td>\n",
       "      <td>2</td>\n",
       "      <td>0</td>\n",
       "      <td>1</td>\n",
       "    </tr>\n",
       "    <tr>\n",
       "      <th>2020-08-14 00:01:00</th>\n",
       "      <td>0.997683</td>\n",
       "      <td>2</td>\n",
       "      <td>1</td>\n",
       "      <td>1</td>\n",
       "    </tr>\n",
       "    <tr>\n",
       "      <th>2020-08-14 00:02:00</th>\n",
       "      <td>0.998341</td>\n",
       "      <td>2</td>\n",
       "      <td>2</td>\n",
       "      <td>1</td>\n",
       "    </tr>\n",
       "    <tr>\n",
       "      <th>2020-08-14 00:03:00</th>\n",
       "      <td>0.998211</td>\n",
       "      <td>2</td>\n",
       "      <td>3</td>\n",
       "      <td>1</td>\n",
       "    </tr>\n",
       "    <tr>\n",
       "      <th>2020-08-14 00:04:00</th>\n",
       "      <td>0.998403</td>\n",
       "      <td>2</td>\n",
       "      <td>4</td>\n",
       "      <td>1</td>\n",
       "    </tr>\n",
       "    <tr>\n",
       "      <th>...</th>\n",
       "      <td>...</td>\n",
       "      <td>...</td>\n",
       "      <td>...</td>\n",
       "      <td>...</td>\n",
       "    </tr>\n",
       "    <tr>\n",
       "      <th>2020-08-27 23:56:00</th>\n",
       "      <td>0.998149</td>\n",
       "      <td>1</td>\n",
       "      <td>56</td>\n",
       "      <td>1</td>\n",
       "    </tr>\n",
       "    <tr>\n",
       "      <th>2020-08-27 23:57:00</th>\n",
       "      <td>0.998340</td>\n",
       "      <td>1</td>\n",
       "      <td>57</td>\n",
       "      <td>1</td>\n",
       "    </tr>\n",
       "    <tr>\n",
       "      <th>2020-08-27 23:58:00</th>\n",
       "      <td>0.998364</td>\n",
       "      <td>1</td>\n",
       "      <td>58</td>\n",
       "      <td>1</td>\n",
       "    </tr>\n",
       "    <tr>\n",
       "      <th>2020-08-27 23:59:00</th>\n",
       "      <td>0.998428</td>\n",
       "      <td>1</td>\n",
       "      <td>59</td>\n",
       "      <td>1</td>\n",
       "    </tr>\n",
       "    <tr>\n",
       "      <th>2020-08-28 00:00:00</th>\n",
       "      <td>0.997407</td>\n",
       "      <td>2</td>\n",
       "      <td>0</td>\n",
       "      <td>1</td>\n",
       "    </tr>\n",
       "  </tbody>\n",
       "</table>\n",
       "<p>20159 rows × 4 columns</p>\n",
       "</div>"
      ],
      "text/plain": [
       "                     kpi_value  hour  minute  Anomaly\n",
       "2020-08-14 00:00:00   0.998755     2       0        1\n",
       "2020-08-14 00:01:00   0.997683     2       1        1\n",
       "2020-08-14 00:02:00   0.998341     2       2        1\n",
       "2020-08-14 00:03:00   0.998211     2       3        1\n",
       "2020-08-14 00:04:00   0.998403     2       4        1\n",
       "...                        ...   ...     ...      ...\n",
       "2020-08-27 23:56:00   0.998149     1      56        1\n",
       "2020-08-27 23:57:00   0.998340     1      57        1\n",
       "2020-08-27 23:58:00   0.998364     1      58        1\n",
       "2020-08-27 23:59:00   0.998428     1      59        1\n",
       "2020-08-28 00:00:00   0.997407     2       0        1\n",
       "\n",
       "[20159 rows x 4 columns]"
      ]
     },
     "execution_count": 41,
     "metadata": {},
     "output_type": "execute_result"
    }
   ],
   "source": [
    "anomalies"
   ]
  },
  {
   "cell_type": "code",
   "execution_count": 42,
   "id": "afe984ce-aaf3-4afe-a050-cd60d2f748ae",
   "metadata": {},
   "outputs": [
    {
     "data": {
      "text/html": [
       "<div>\n",
       "<style scoped>\n",
       "    .dataframe tbody tr th:only-of-type {\n",
       "        vertical-align: middle;\n",
       "    }\n",
       "\n",
       "    .dataframe tbody tr th {\n",
       "        vertical-align: top;\n",
       "    }\n",
       "\n",
       "    .dataframe thead th {\n",
       "        text-align: right;\n",
       "    }\n",
       "</style>\n",
       "<table border=\"1\" class=\"dataframe\">\n",
       "  <thead>\n",
       "    <tr style=\"text-align: right;\">\n",
       "      <th></th>\n",
       "      <th>kpi_value</th>\n",
       "      <th>hour</th>\n",
       "      <th>minute</th>\n",
       "      <th>Anomaly</th>\n",
       "    </tr>\n",
       "  </thead>\n",
       "  <tbody>\n",
       "    <tr>\n",
       "      <th>2020-08-14 00:00:00</th>\n",
       "      <td>0.998755</td>\n",
       "      <td>2</td>\n",
       "      <td>0</td>\n",
       "      <td>0</td>\n",
       "    </tr>\n",
       "    <tr>\n",
       "      <th>2020-08-14 00:01:00</th>\n",
       "      <td>0.997683</td>\n",
       "      <td>2</td>\n",
       "      <td>1</td>\n",
       "      <td>0</td>\n",
       "    </tr>\n",
       "    <tr>\n",
       "      <th>2020-08-14 00:02:00</th>\n",
       "      <td>0.998341</td>\n",
       "      <td>2</td>\n",
       "      <td>2</td>\n",
       "      <td>0</td>\n",
       "    </tr>\n",
       "    <tr>\n",
       "      <th>2020-08-14 00:03:00</th>\n",
       "      <td>0.998211</td>\n",
       "      <td>2</td>\n",
       "      <td>3</td>\n",
       "      <td>0</td>\n",
       "    </tr>\n",
       "    <tr>\n",
       "      <th>2020-08-14 00:04:00</th>\n",
       "      <td>0.998403</td>\n",
       "      <td>2</td>\n",
       "      <td>4</td>\n",
       "      <td>0</td>\n",
       "    </tr>\n",
       "    <tr>\n",
       "      <th>...</th>\n",
       "      <td>...</td>\n",
       "      <td>...</td>\n",
       "      <td>...</td>\n",
       "      <td>...</td>\n",
       "    </tr>\n",
       "    <tr>\n",
       "      <th>2020-08-27 23:56:00</th>\n",
       "      <td>0.998149</td>\n",
       "      <td>1</td>\n",
       "      <td>56</td>\n",
       "      <td>0</td>\n",
       "    </tr>\n",
       "    <tr>\n",
       "      <th>2020-08-27 23:57:00</th>\n",
       "      <td>0.998340</td>\n",
       "      <td>1</td>\n",
       "      <td>57</td>\n",
       "      <td>0</td>\n",
       "    </tr>\n",
       "    <tr>\n",
       "      <th>2020-08-27 23:58:00</th>\n",
       "      <td>0.998364</td>\n",
       "      <td>1</td>\n",
       "      <td>58</td>\n",
       "      <td>0</td>\n",
       "    </tr>\n",
       "    <tr>\n",
       "      <th>2020-08-27 23:59:00</th>\n",
       "      <td>0.998428</td>\n",
       "      <td>1</td>\n",
       "      <td>59</td>\n",
       "      <td>0</td>\n",
       "    </tr>\n",
       "    <tr>\n",
       "      <th>2020-08-28 00:00:00</th>\n",
       "      <td>0.997407</td>\n",
       "      <td>2</td>\n",
       "      <td>0</td>\n",
       "      <td>0</td>\n",
       "    </tr>\n",
       "  </tbody>\n",
       "</table>\n",
       "<p>20159 rows × 4 columns</p>\n",
       "</div>"
      ],
      "text/plain": [
       "                     kpi_value  hour  minute  Anomaly\n",
       "2020-08-14 00:00:00   0.998755     2       0        0\n",
       "2020-08-14 00:01:00   0.997683     2       1        0\n",
       "2020-08-14 00:02:00   0.998341     2       2        0\n",
       "2020-08-14 00:03:00   0.998211     2       3        0\n",
       "2020-08-14 00:04:00   0.998403     2       4        0\n",
       "...                        ...   ...     ...      ...\n",
       "2020-08-27 23:56:00   0.998149     1      56        0\n",
       "2020-08-27 23:57:00   0.998340     1      57        0\n",
       "2020-08-27 23:58:00   0.998364     1      58        0\n",
       "2020-08-27 23:59:00   0.998428     1      59        0\n",
       "2020-08-28 00:00:00   0.997407     2       0        0\n",
       "\n",
       "[20159 rows x 4 columns]"
      ]
     },
     "execution_count": 42,
     "metadata": {},
     "output_type": "execute_result"
    }
   ],
   "source": [
    "anomalies[\"Anomaly\"]=anomalies[\"Anomaly\"].replace(1, 0) #No Anomalies\n",
    "anomalies[\"Anomaly\"]=anomalies[\"Anomaly\"].replace(-1, 1) #Anomalies\n",
    "anomalies"
   ]
  },
  {
   "cell_type": "code",
   "execution_count": 43,
   "id": "d0108c40-7ac2-411f-ab59-db9a8799587c",
   "metadata": {},
   "outputs": [
    {
     "data": {
      "text/plain": [
       "2020-08-14 00:00:00    NaN\n",
       "2020-08-14 00:01:00    NaN\n",
       "2020-08-14 00:02:00    NaN\n",
       "2020-08-14 00:03:00    NaN\n",
       "2020-08-14 00:04:00    NaN\n",
       "                      ... \n",
       "2020-08-27 23:56:00    0.0\n",
       "2020-08-27 23:57:00    0.0\n",
       "2020-08-27 23:58:00    0.0\n",
       "2020-08-27 23:59:00    0.0\n",
       "2020-08-28 00:00:00    0.0\n",
       "Freq: S, Name: Anomaly, Length: 20159, dtype: float64"
      ]
     },
     "execution_count": 43,
     "metadata": {},
     "output_type": "execute_result"
    }
   ],
   "source": [
    "moving_average=anomalies['Anomaly'].rolling(50).mean()\n",
    "moving_average"
   ]
  },
  {
   "cell_type": "code",
   "execution_count": 44,
   "id": "5c764773-1687-442e-8cf9-f4aa05f9cd9b",
   "metadata": {},
   "outputs": [
    {
     "data": {
      "text/plain": [
       "0.0"
      ]
     },
     "execution_count": 44,
     "metadata": {},
     "output_type": "execute_result"
    }
   ],
   "source": [
    "moving_average.min()"
   ]
  },
  {
   "cell_type": "code",
   "execution_count": 45,
   "id": "749196b8-5844-4161-a3ce-3dab111f5f51",
   "metadata": {},
   "outputs": [
    {
     "data": {
      "text/plain": [
       "0.06310022543041446"
      ]
     },
     "execution_count": 45,
     "metadata": {},
     "output_type": "execute_result"
    }
   ],
   "source": [
    "moving_average.std()"
   ]
  },
  {
   "cell_type": "code",
   "execution_count": 46,
   "id": "66e75dfa-8f36-40f3-ae98-2b278d572af2",
   "metadata": {},
   "outputs": [],
   "source": [
    "threshold_6sigma=6*moving_average.std()\n",
    "threshold_60percentmax=0.6*moving_average.max()"
   ]
  },
  {
   "cell_type": "code",
   "execution_count": 47,
   "id": "9a9bdda5-ba05-4760-a739-9a3cfd4cfc99",
   "metadata": {},
   "outputs": [
    {
     "data": {
      "text/plain": [
       "0.3786013525824868"
      ]
     },
     "execution_count": 47,
     "metadata": {},
     "output_type": "execute_result"
    }
   ],
   "source": [
    "threshold_6sigma"
   ]
  },
  {
   "cell_type": "code",
   "execution_count": 48,
   "id": "a0fd06d1-75b8-48b5-abcf-6af2bba5e355",
   "metadata": {},
   "outputs": [
    {
     "data": {
      "text/plain": [
       "0.348"
      ]
     },
     "execution_count": 48,
     "metadata": {},
     "output_type": "execute_result"
    }
   ],
   "source": [
    "threshold_60percentmax"
   ]
  },
  {
   "cell_type": "code",
   "execution_count": 49,
   "id": "fe274de3-a7e6-4a6a-aad8-e8bd7cd0f5ed",
   "metadata": {},
   "outputs": [
    {
     "data": {
      "text/plain": [
       "0.58"
      ]
     },
     "execution_count": 49,
     "metadata": {},
     "output_type": "execute_result"
    }
   ],
   "source": [
    "moving_average.max()"
   ]
  },
  {
   "cell_type": "code",
   "execution_count": 50,
   "id": "4ec25fcd-06c3-4527-a942-41bec4218bae",
   "metadata": {},
   "outputs": [
    {
     "data": {
      "image/png": "[encoded data removed]",
      "text/plain": [
       "<Figure size 2880x720 with 2 Axes>"
      ]
     },
     "metadata": {
      "needs_background": "light"
     },
     "output_type": "display_data"
    }
   ],
   "source": [
    "fig, ax2d = plt.subplots(figsize=(40,10))\n",
    "ax2a = ax2d.twinx()\n",
    "#ax2d.plot(huwaei['timestamp'], huwaei['kpi_value'], color='blue')\n",
    "#ax2a.plot(huwaei['timestamp'], huwaei['anomaly_label'], color='red', linewidth='5')\n",
    "ax2a.plot(huwaei['timestamp'], moving_average, color='green', linewidth='2')\n",
    "ax2a.axhline(threshold_6sigma, color='orange', linewidth='2') # Line for the six sigma\n",
    "ax2a.axhline(threshold_60percentmax, color='magenta', linewidth='2') # Line for the 60% the highest value\n",
    "ax2d.set_xlabel('Time Stamp')\n",
    "ax2d.set_ylabel('Value')\n",
    "ax2a.set_ylabel('Anomaly Label')\n",
    "ax2a.legend(['Moving Average', 'Six Sigma', '60% Max Value'], loc='upper left')\n",
    "plt.grid()\n",
    "ax2d.title.set_text('Training Data Anonmaly 6 Filtering For Isolation Forest Huwaei Contextual')\n",
    "plt.savefig('Training Data Anonmaly 6 Filtering For Isolation Forest Huwaei Contextual') "
   ]
  },
  {
   "cell_type": "code",
   "execution_count": 51,
   "id": "75f8156e-b1f4-4f24-b700-aa926dcba766",
   "metadata": {},
   "outputs": [
    {
     "data": {
      "text/plain": [
       "2020-08-14 00:49:00    0.0\n",
       "2020-08-14 00:50:00    0.0\n",
       "2020-08-14 00:51:00    0.0\n",
       "2020-08-14 00:52:00    0.0\n",
       "2020-08-14 00:53:00    0.0\n",
       "                      ... \n",
       "2020-08-27 23:56:00    0.0\n",
       "2020-08-27 23:57:00    0.0\n",
       "2020-08-27 23:58:00    0.0\n",
       "2020-08-27 23:59:00    0.0\n",
       "2020-08-28 00:00:00    0.0\n",
       "Freq: S, Name: Anomaly, Length: 20110, dtype: float64"
      ]
     },
     "execution_count": 51,
     "metadata": {},
     "output_type": "execute_result"
    }
   ],
   "source": [
    "moving_average=moving_average.dropna(how=\"all\")\n",
    "moving_average"
   ]
  },
  {
   "cell_type": "code",
   "execution_count": 52,
   "id": "4e5fb218-e678-42e5-a86e-063b9f707c3f",
   "metadata": {},
   "outputs": [
    {
     "data": {
      "text/plain": [
       "20110"
      ]
     },
     "execution_count": 52,
     "metadata": {},
     "output_type": "execute_result"
    }
   ],
   "source": [
    "len(moving_average)"
   ]
  },
  {
   "cell_type": "code",
   "execution_count": 53,
   "id": "24023daa-ccea-4640-829e-ca105abdabc9",
   "metadata": {},
   "outputs": [
    {
     "data": {
      "text/plain": [
       "0.348"
      ]
     },
     "execution_count": 53,
     "metadata": {},
     "output_type": "execute_result"
    }
   ],
   "source": [
    "threshold_60percentmax"
   ]
  },
  {
   "cell_type": "code",
   "execution_count": 54,
   "id": "9285dd51-e902-4b80-aa85-e61237780cda",
   "metadata": {},
   "outputs": [
    {
     "name": "stdout",
     "output_type": "stream",
     "text": [
      "Number of no anomalies: 19966\n",
      "Number of anomalies: 144\n"
     ]
    }
   ],
   "source": [
    "n=0\n",
    "a=0\n",
    "\n",
    "new_anomalies_60percentmax=[]\n",
    "\n",
    "for i in range(len(moving_average)):\n",
    "    if moving_average[i] <= threshold_60percentmax:\n",
    "        n=n+1\n",
    "        t=0\n",
    "        new_anomalies_60percentmax.append(t)\n",
    "    elif moving_average[i] > threshold_60percentmax:\n",
    "        a=a+1\n",
    "        t=1\n",
    "        new_anomalies_60percentmax.append(t)\n",
    "\n",
    "        \n",
    "\n",
    "        \n",
    "print(f\"Number of no anomalies: {n}\")\n",
    "print(f\"Number of anomalies: {a}\")"
   ]
  },
  {
   "cell_type": "code",
   "execution_count": 55,
   "id": "913d5e7e-df80-4f46-b29b-1a6d2fe8d752",
   "metadata": {},
   "outputs": [
    {
     "name": "stdout",
     "output_type": "stream",
     "text": [
      "Number of no anomalies: 19999\n",
      "Number of anomalies: 111\n"
     ]
    }
   ],
   "source": [
    "n=0\n",
    "a=0\n",
    "\n",
    "new_anomalies_6sigma=[]\n",
    "\n",
    "for i in range(len(moving_average)):\n",
    "    if moving_average[i] <= threshold_6sigma:\n",
    "        n=n+1\n",
    "        t=0\n",
    "        new_anomalies_6sigma.append(t)\n",
    "    elif moving_average[i] > threshold_6sigma:\n",
    "        a=a+1\n",
    "        t=1\n",
    "        new_anomalies_6sigma.append(t)\n",
    "\n",
    "        \n",
    "\n",
    "        \n",
    "print(f\"Number of no anomalies: {n}\")\n",
    "print(f\"Number of anomalies: {a}\")"
   ]
  },
  {
   "cell_type": "code",
   "execution_count": 56,
   "id": "5c37a6b3-d6fd-40bc-8a10-90a5b6474313",
   "metadata": {},
   "outputs": [
    {
     "name": "stdout",
     "output_type": "stream",
     "text": [
      "20159\n",
      "20110\n"
     ]
    }
   ],
   "source": [
    "print(len(huwaei['timestamp']))\n",
    "print(len(new_anomalies_6sigma))"
   ]
  },
  {
   "cell_type": "code",
   "execution_count": 57,
   "id": "cd529cc7-c61b-4d19-9f27-2459a3eb787c",
   "metadata": {},
   "outputs": [],
   "source": [
    "labeled_anomalies=huwaei['anomaly_label'][20159-20110:20158]"
   ]
  },
  {
   "cell_type": "code",
   "execution_count": 58,
   "id": "68154cf6-8079-4ecd-a418-11bf0aa1f561",
   "metadata": {},
   "outputs": [
    {
     "data": {
      "text/plain": [
       "0        0\n",
       "1        0\n",
       "2        0\n",
       "3        0\n",
       "4        0\n",
       "        ..\n",
       "20104    0\n",
       "20105    0\n",
       "20106    0\n",
       "20107    0\n",
       "20108    0\n",
       "Name: anomaly_label, Length: 20109, dtype: int64"
      ]
     },
     "execution_count": 58,
     "metadata": {},
     "output_type": "execute_result"
    }
   ],
   "source": [
    "labeled_anomalies=labeled_anomalies.reset_index(drop=True)\n",
    "labeled_anomalies"
   ]
  },
  {
   "cell_type": "code",
   "execution_count": 59,
   "id": "98bd23ab-ff6d-41bd-9107-41ec4a27bb47",
   "metadata": {},
   "outputs": [
    {
     "data": {
      "text/plain": [
       "0        0\n",
       "1        0\n",
       "2        0\n",
       "3        0\n",
       "4        0\n",
       "        ..\n",
       "20104    0\n",
       "20105    0\n",
       "20106    0\n",
       "20107    0\n",
       "20108    0\n",
       "Name: anomaly_label, Length: 20109, dtype: int64"
      ]
     },
     "execution_count": 59,
     "metadata": {},
     "output_type": "execute_result"
    }
   ],
   "source": [
    "new_anomalies_60percentmax # New Anomalies from moving average\n",
    "new_anomalies_6sigma\n",
    "labeled_anomalies # Labeled Anomalies"
   ]
  },
  {
   "cell_type": "code",
   "execution_count": 60,
   "id": "53bfa140-e410-4731-b5c2-447143d37889",
   "metadata": {},
   "outputs": [],
   "source": [
    "tp60m=0\n",
    "fp60m=0\n",
    "tn60m=0\n",
    "fn60m=0\n",
    "for i in range(len(labeled_anomalies)):\n",
    "    if new_anomalies_60percentmax[i] == 1 and labeled_anomalies[i] == 1:\n",
    "            tp60m=tp60m+1\n",
    "    elif new_anomalies_60percentmax[i] == 1 and labeled_anomalies[i] != 1:\n",
    "            fp60m=fp60m+1\n",
    "    elif new_anomalies_60percentmax[i] != 1 and labeled_anomalies[i] == 1:\n",
    "            fn60m=fn60m+1\n",
    "    elif new_anomalies_60percentmax[i] != 1 and labeled_anomalies[i] != 1:\n",
    "            tn60m=tn60m+1"
   ]
  },
  {
   "cell_type": "code",
   "execution_count": 61,
   "id": "c46a36e8-4702-4235-8427-bfe5328c318e",
   "metadata": {},
   "outputs": [],
   "source": [
    "tp6s=0\n",
    "fp6s=0\n",
    "tn6s=0\n",
    "fn6s=0\n",
    "for i in range(len(labeled_anomalies)):\n",
    "    if new_anomalies_6sigma[i] == 1 and labeled_anomalies[i] == 1:\n",
    "            tp6s=tp6s+1\n",
    "    elif new_anomalies_6sigma[i] == 1 and labeled_anomalies[i] != 1:\n",
    "            fp6s=fp6s+1\n",
    "    elif new_anomalies_6sigma[i] != 1 and labeled_anomalies[i] == 1:\n",
    "            fn6s=fn6s+1\n",
    "    elif new_anomalies_6sigma[i] != 1 and labeled_anomalies[i] != 1:\n",
    "            tn6s=tn6s+1"
   ]
  },
  {
   "cell_type": "code",
   "execution_count": 62,
   "id": "73807ada-aec3-459f-9fee-6c62a7cc21e6",
   "metadata": {},
   "outputs": [
    {
     "name": "stdout",
     "output_type": "stream",
     "text": [
      "THIS IS FROM USING THE THRESHOLD AS 60% OF THE MAXIMUM VALUES OF THE MOVING AVERAGE\n",
      "###################################################################################\n",
      "Number of True Positives: 0\n",
      "Number of False Positives: 144\n",
      "Number of True Negatives: 19275\n",
      "Number of False Negatives: 690\n",
      "###################################\n"
     ]
    },
    {
     "ename": "ZeroDivisionError",
     "evalue": "float division by zero",
     "output_type": "error",
     "traceback": [
      "\u001b[0;31m---------------------------------------------------------------------------\u001b[0m",
      "\u001b[0;31mZeroDivisionError\u001b[0m                         Traceback (most recent call last)",
      "\u001b[0;32m/var/folders/vj/779818pj4tz4xwpyg2yk0mq00000gn/T/ipykernel_28075/3323285008.py\u001b[0m in \u001b[0;36m<module>\u001b[0;34m\u001b[0m\n\u001b[1;32m      9\u001b[0m \u001b[0mprecision_60m\u001b[0m\u001b[0;34m=\u001b[0m\u001b[0mtp60m\u001b[0m\u001b[0;34m/\u001b[0m\u001b[0;34m(\u001b[0m\u001b[0mtp60m\u001b[0m\u001b[0;34m+\u001b[0m\u001b[0mfp60m\u001b[0m\u001b[0;34m)\u001b[0m\u001b[0;34m\u001b[0m\u001b[0;34m\u001b[0m\u001b[0m\n\u001b[1;32m     10\u001b[0m \u001b[0mrecall_60m\u001b[0m\u001b[0;34m=\u001b[0m\u001b[0mtp60m\u001b[0m\u001b[0;34m/\u001b[0m\u001b[0;34m(\u001b[0m\u001b[0mtp60m\u001b[0m\u001b[0;34m+\u001b[0m\u001b[0mfn60m\u001b[0m\u001b[0;34m)\u001b[0m\u001b[0;34m\u001b[0m\u001b[0;34m\u001b[0m\u001b[0m\n\u001b[0;32m---> 11\u001b[0;31m \u001b[0mF1_Score_60m\u001b[0m\u001b[0;34m=\u001b[0m\u001b[0;34m(\u001b[0m\u001b[0;36m2\u001b[0m\u001b[0;34m*\u001b[0m\u001b[0mprecision_60m\u001b[0m\u001b[0;34m*\u001b[0m\u001b[0mrecall_60m\u001b[0m\u001b[0;34m)\u001b[0m\u001b[0;34m/\u001b[0m\u001b[0;34m(\u001b[0m\u001b[0mprecision_60m\u001b[0m\u001b[0;34m+\u001b[0m\u001b[0mrecall_60m\u001b[0m\u001b[0;34m)\u001b[0m\u001b[0;34m\u001b[0m\u001b[0;34m\u001b[0m\u001b[0m\n\u001b[0m\u001b[1;32m     12\u001b[0m \u001b[0;34m\u001b[0m\u001b[0m\n\u001b[1;32m     13\u001b[0m \u001b[0mprint\u001b[0m\u001b[0;34m(\u001b[0m\u001b[0;34mf\"Precision: {round(precision_60m,3)}\"\u001b[0m\u001b[0;34m)\u001b[0m\u001b[0;34m\u001b[0m\u001b[0;34m\u001b[0m\u001b[0m\n",
      "\u001b[0;31mZeroDivisionError\u001b[0m: float division by zero"
     ]
    }
   ],
   "source": [
    "print(\"THIS IS FROM USING THE THRESHOLD AS 60% OF THE MAXIMUM VALUES OF THE MOVING AVERAGE\")\n",
    "print(\"###################################################################################\")\n",
    "print(f\"Number of True Positives: {tp60m}\")\n",
    "print(f\"Number of False Positives: {fp60m}\")\n",
    "print(f\"Number of True Negatives: {tn60m}\")\n",
    "print(f\"Number of False Negatives: {fn60m}\")\n",
    "print(\"###################################\")\n",
    "\n",
    "precision_60m=tp60m/(tp60m+fp60m)\n",
    "recall_60m=tp60m/(tp60m+fn60m)\n",
    "F1_Score_60m=(2*precision_60m*recall_60m)/(precision_60m+recall_60m)\n",
    "\n",
    "print(f\"Precision: {round(precision_60m,3)}\")\n",
    "print(f\"Recall: {round(recall_60m,3)}\")\n",
    "print(f\"F1 Score: {round(F1_Score_60m,3)}\")"
   ]
  },
  {
   "cell_type": "code",
   "execution_count": null,
   "id": "3a260b87-2a05-4fbf-aafc-b1652de2bf82",
   "metadata": {},
   "outputs": [],
   "source": [
    "print(\"THIS IS FROM USING THE THRESHOLD AS 6 SIGMA VALUES OF THE MOVING AVERAGE\")\n",
    "print(\"###################################################################################\")\n",
    "print(f\"Number of True Positives: {tp6s}\")\n",
    "print(f\"Number of False Positives: {fp6s}\")\n",
    "print(f\"Number of True Negatives: {tn6s}\")\n",
    "print(f\"Number of False Negatives: {fn6s}\")\n",
    "print(\"###################################\")\n",
    "\n",
    "precision_6s=tp6s/(tp6s+fp6s)\n",
    "recall_6s=tp6s/(tp6s+fn6s)\n",
    "F1_Score_6s=(2*precision_6s*recall_6s)/(precision_6s+recall_6s)\n",
    "\n",
    "print(f\"Precision: {round(precision_6s,3)}\")\n",
    "print(f\"Recall: {round(recall_6s,3)}\")\n",
    "print(f\"F1 Score: {round(F1_Score_6s,3)}\")"
   ]
  },
  {
   "cell_type": "code",
   "execution_count": null,
   "id": "23039cfd-f59f-415b-8c4f-6a685fd3e429",
   "metadata": {},
   "outputs": [],
   "source": []
  }
 ],
 "metadata": {
  "kernelspec": {
   "display_name": "Python 3 (ipykernel)",
   "language": "python",
   "name": "python3"
  },
  "language_info": {
   "codemirror_mode": {
    "name": "ipython",
    "version": 3
   },
   "file_extension": ".py",
   "mimetype": "text/x-python",
   "name": "python",
   "nbconvert_exporter": "python",
   "pygments_lexer": "ipython3",
   "version": "3.9.7"
  }
 },
 "nbformat": 4,
 "nbformat_minor": 5
}
